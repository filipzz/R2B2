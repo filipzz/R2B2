{
 "cells": [
  {
   "cell_type": "markdown",
   "metadata": {},
   "source": [
    "# The required imports"
   ]
  },
  {
   "cell_type": "code",
   "execution_count": 1,
   "metadata": {
    "slideshow": {
     "slide_type": "slide"
    }
   },
   "outputs": [],
   "source": [
    "# we either import locally (after the repo was cloned)\n",
    "# or we first clone it and then use it (e.g., when run in Google Colab)\n",
    "shell = get_ipython().__class__.__name__ \n",
    "\n",
    "if shell == 'Shell':\n",
    "    # imports when launched in e.g., Google Colab\n",
    "    !git clone https://github.com/filipzz/athena.git r2b2\n",
    "    from r2b2.code.athena.athena import AthenaAudit\n",
    "    from r2b2.code.athena.contest import Contest\n",
    "    from r2b2.code.athena.audit import Audit\n",
    "else: # shell ==  'ZMQInteractiveShell' or shell == 'TerminalInteractiveShell'\n",
    "    # local imports if you run it with e.g., Jupyter\n",
    "    from athena.athena import AthenaAudit\n",
    "    from athena.contest import Contest\n",
    "    from athena.audit import Audit\n",
    "\n",
    "import pandas as pd"
   ]
  },
  {
   "cell_type": "markdown",
   "metadata": {},
   "source": [
    "# Setting risk limit"
   ]
  },
  {
   "cell_type": "code",
   "execution_count": null,
   "metadata": {
    "cell_style": "center",
    "slideshow": {
     "slide_type": "slide"
    }
   },
   "outputs": [],
   "source": [
    "# Set risk limit of the audit\n",
    "risk_limit = 0.1 "
   ]
  },
  {
   "cell_type": "markdown",
   "metadata": {},
   "source": [
    "# Loading data from a file"
   ]
  },
  {
   "cell_type": "code",
   "execution_count": null,
   "metadata": {
    "cell_style": "center",
    "slideshow": {
     "slide_type": "fragment"
    }
   },
   "outputs": [],
   "source": [
    "# address of the file with election results the file can be either\n",
    "# an url:\n",
    "#election_results = \"https://raw.githubusercontent.com/gwexploratoryaudits/brla_explore/poorvi/R2Audits/Athena/Scripts/2020MontgomeryPrimary/2020_montgomery_formatted.json\"\n",
    "# or a local file:\n",
    "election_results = \"athena/test_data/simple.json\"\n",
    "#election_results = \"athena/test_data/2020_montgomery_formatted.json\""
   ]
  },
  {
   "cell_type": "markdown",
   "metadata": {},
   "source": [
    "# Check if the load is successful"
   ]
  },
  {
   "cell_type": "code",
   "execution_count": null,
   "metadata": {
    "cell_style": "center",
    "slideshow": {
     "slide_type": "fragment"
    }
   },
   "outputs": [],
   "source": [
    "\n",
    "w = Audit(\"athena\", risk_limit)\n",
    "\n",
    "w.read_election_results(election_results)\n",
    "contest = \"d_president\""
   ]
  },
  {
   "cell_type": "code",
   "execution_count": null,
   "metadata": {},
   "outputs": [],
   "source": [
    "print(w.observations)"
   ]
  },
  {
   "cell_type": "code",
   "execution_count": null,
   "metadata": {},
   "outputs": [],
   "source": [
    "w.load_contest(contest)\n",
    "w.show_election_results()"
   ]
  },
  {
   "cell_type": "code",
   "execution_count": null,
   "metadata": {},
   "outputs": [],
   "source": [
    "w.observations[\"d_president\"]"
   ]
  },
  {
   "cell_type": "markdown",
   "metadata": {},
   "source": [
    "# Example - running an audit"
   ]
  },
  {
   "cell_type": "code",
   "execution_count": null,
   "metadata": {},
   "outputs": [],
   "source": [
    "# create an Audit object with risk_limit\n",
    "w = Audit(\"athena\", risk_limit)\n",
    "\n",
    "# read data from a file\n",
    "w.read_election_results(election_results)\n",
    "\n",
    "# load selected contest\n",
    "w.load_contest(\"d_president\")\n",
    "\n",
    "# predict round sizes\n",
    "print(w.predict_round_sizes([.7, .8, .9]))\n",
    "\n",
    "# set observations: \n",
    "# * number of total ballots drawn in the round\n",
    "# * number of relevant ballots for the contest\n",
    "# * a list of votes sampled for each candidate\n",
    "#w.set_observations(50, 19, [0, 11, 0, 1, 0, 0, 0, 6, 1, 0, 0])\n",
    "#print(w.predict_round_sizes([.7, .8, .9]))\n",
    "# results for the second round:\n",
    "#w.set_observations(29, 10, [0, 6, 0, 0, 0, 0, 0, 4, 0, 0, 0])\n",
    "#w.present_state()\n"
   ]
  },
  {
   "cell_type": "markdown",
   "metadata": {},
   "source": [
    "# More examples\n",
    "\n",
    "You may compare with data from: [https://github.com/gwexploratoryaudits/brla_explore/blob/poorvi/R2Audits/Athena/Scripts/2020MontgomeryPrimary/2020_montgomery_pvalue_multiple_round_tests.json](https://github.com/gwexploratoryaudits/brla_explore/blob/poorvi/R2Audits/Athena/Scripts/2020MontgomeryPrimary/2020_montgomery_pvalue_multiple_round_tests.json)"
   ]
  },
  {
   "cell_type": "code",
   "execution_count": null,
   "metadata": {},
   "outputs": [],
   "source": [
    "\n",
    "# create an Audit object with risk_limit\n",
    "w = Audit(\"athena\", risk_limit)\n",
    "\n",
    "# read data from a file\n",
    "w.read_election_results(election_results)\n",
    "\n",
    "# load selected contest\n",
    "w.load_contest(\"d_president\")\n",
    "\n",
    "# test 1 (d_president) \n",
    "#w.load_contest(\"d_president\")\n",
    "#w.set_observations(50, 19, [0, 11, 1, 0, 0, 0, 0, 6, 1, 0, 0])\n",
    "#w.set_observations(29, 10, [0, 6, 0, 0, 0, 0, 0, 4, 0, 0, 0])\n",
    "#w.set_observations(29, 10, [1, 1, 1, 1, 1, 1, 0, 4, 0, 0, 0])\n",
    "#w.present_state()\n",
    "# test 2 - (d_president): \n",
    "#w.load_contest(\"d_president\")\n",
    "#w.set_observations(16, 16, [0, 10, 1, 0, 0, 0, 0, 4, 1, 0, 0])\n",
    "#w.set_observations(29, 29, [1, 10, 0, 1, 1, 1, 1, 13, 0, 1, 0])\n",
    "# test 3 (d_pres)\n",
    "#w.load_contest(\"d_president\")\n",
    "#w.set_observations(22, 22, [0, 11, 1, 0, 0, 0, 0, 9, 1, 0, 0])\n",
    "#w.set_observations(7, 7, [0, 6, 0, 0, 0, 0, 0, 1, 0, 0, 0])\n",
    "# test 4 - congress - ok\n",
    "#w.load_contest(\"d_congress\")\n",
    "#w.set_observations(42, 42, [17, 25])\n",
    "# test 5 - ok\n",
    "#w.load_contest(\"d_congress\")\n",
    "#w.set_observations(27, 27, [10, 17])\n",
    "#w.set_observations(27, 27, [10, 17])\n",
    "# test 6 \n",
    "#w.load_contest(\"d_congress\")\n",
    "#w.set_observations(31, 31, [12, 19])\n",
    "#w.set_observations(31, 31, [12, 19])\n",
    "# test7 \n",
    "#w.load_contest(\"d_senator\")\n",
    "#w.set_observations(17, 17, [11, 6])\n",
    "#w.set_observations(9, 9, [5, 4])\n",
    "#test8 - the same problem\n",
    "#w.load_contest(\"d_senator\")\n",
    "#w.set_observations(12, 12, [8, 4])\n",
    "#w.set_observations(12, 12, [8, 4])\n",
    "#test 9\n",
    "#w.load_contest(\"d_senator\")\n",
    "#w.set_observations(40, 40, [27, 13])\n",
    "#w.set_observations(40, 40, [27, 13])\n",
    "\n",
    "#w.present_state()\n",
    "\n"
   ]
  },
  {
   "cell_type": "code",
   "execution_count": null,
   "metadata": {},
   "outputs": [],
   "source": [
    "w.load_contest(\"d_senator\")\n",
    "w.set_observations(40, 40, [27, 13])\n",
    "w.set_observations(40, 40, [27, 13])\n",
    "\n",
    "w.present_state()\n"
   ]
  },
  {
   "cell_type": "code",
   "execution_count": null,
   "metadata": {},
   "outputs": [],
   "source": [
    "w.observations\n",
    "w.round_number"
   ]
  },
  {
   "cell_type": "markdown",
   "metadata": {},
   "source": [
    "# BRAVO vs Athena vs Minerva"
   ]
  },
  {
   "cell_type": "markdown",
   "metadata": {},
   "source": [
    "## Minerva \n",
    "\n",
    "* passes for 57 out of 100\n",
    "* cares only for p-value"
   ]
  },
  {
   "cell_type": "code",
   "execution_count": null,
   "metadata": {
    "cell_style": "center"
   },
   "outputs": [],
   "source": [
    "# Minerva would pass the test for kmin = 57\n",
    "wmin = Audit(\"athena\", risk_limit)\n",
    "wmin.read_election_results(election_results)\n",
    "wmin.load_contest(\"d_president\")\n",
    "# minerva\n",
    "wmin.set_observations(100, 100, [0, 57, 0, 0, 0, 0, 0, 43, 0, 0, 0])"
   ]
  },
  {
   "cell_type": "code",
   "execution_count": null,
   "metadata": {
    "cell_style": "split"
   },
   "outputs": [],
   "source": [
    "wmin.present_state()\n"
   ]
  },
  {
   "cell_type": "markdown",
   "metadata": {
    "slideshow": {
     "slide_type": "slide"
    }
   },
   "source": [
    "## Athena\n",
    "\n",
    "* passes for 69 out of 100\n",
    "* cares for both:\n",
    "    * p-value (to be below .1)\n",
    "    * LR (to be obove 1)\n",
    "   $\\sum_{k=1}^{\\infty}d_v$"
   ]
  },
  {
   "cell_type": "code",
   "execution_count": null,
   "metadata": {
    "cell_style": "split",
    "slideshow": {
     "slide_type": "fragment"
    }
   },
   "outputs": [],
   "source": [
    "# athena\n",
    "wath = Audit(\"athena\", risk_limit)\n",
    "wath.read_election_results(election_results)\n",
    "wath.load_contest(\"d_president\")\n",
    "wath.set_observations(100, 100, [0, 68, 0, 0, 0, 0, 0, 32, 0, 0, 0])"
   ]
  },
  {
   "cell_type": "code",
   "execution_count": null,
   "metadata": {
    "cell_style": "split",
    "slideshow": {
     "slide_type": "fragment"
    }
   },
   "outputs": [],
   "source": [
    "wath.present_state()"
   ]
  },
  {
   "cell_type": "markdown",
   "metadata": {},
   "source": [
    "## Bravo\n",
    "\n",
    "* passes for 70 out of 100\n",
    "* cares for LR to be over 10"
   ]
  },
  {
   "cell_type": "code",
   "execution_count": null,
   "metadata": {
    "cell_style": "split"
   },
   "outputs": [],
   "source": [
    "w = Audit(\"athena\", risk_limit)\n",
    "w.read_election_results(election_results)\n",
    "w.load_contest(\"d_president\")\n",
    "w.set_observations(100, 100, [0, 70, 0, 0, 0, 0, 0, 30, 0, 0, 0])\n"
   ]
  },
  {
   "cell_type": "code",
   "execution_count": null,
   "metadata": {
    "cell_style": "split"
   },
   "outputs": [],
   "source": [
    "w.present_state()"
   ]
  }
 ],
 "metadata": {
  "celltoolbar": "Slideshow",
  "kernelspec": {
   "display_name": "Python 3",
   "language": "python",
   "name": "python3"
  },
  "language_info": {
   "codemirror_mode": {
    "name": "ipython",
    "version": 3
   },
   "file_extension": ".py",
   "mimetype": "text/x-python",
   "name": "python",
   "nbconvert_exporter": "python",
   "pygments_lexer": "ipython3",
   "version": "3.6.9"
  }
 },
 "nbformat": 4,
 "nbformat_minor": 4
}
