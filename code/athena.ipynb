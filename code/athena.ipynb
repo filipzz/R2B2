{
 "cells": [
  {
   "cell_type": "code",
   "execution_count": 1,
   "metadata": {
    "slideshow": {
     "slide_type": "slide"
    }
   },
   "outputs": [],
   "source": [
    "# we either import locally (after the repo was cloned)\n",
    "# or we first clone it and then use it (e.g., when run in Google Colab)\n",
    "shell = get_ipython().__class__.__name__ \n",
    "\n",
    "if shell == 'Shell':\n",
    "    # imports when launched in e.g., Google Colab\n",
    "    !git clone https://github.com/filipzz/athena.git r2b2\n",
    "    from r2b2.code.athena.athena import AthenaAudit\n",
    "    from r2b2.code.athena.contest import Contest\n",
    "    from r2b2.code.athena.audit import Audit\n",
    "else: # shell ==  'ZMQInteractiveShell' or shell == 'TerminalInteractiveShell'\n",
    "    # local imports if you run it with e.g., Jupyter\n",
    "    from athena.athena import AthenaAudit\n",
    "    from athena.contest import Contest\n",
    "    from athena.audit import Audit\n",
    "\n",
    "import pandas as pd"
   ]
  },
  {
   "cell_type": "code",
   "execution_count": 2,
   "metadata": {
    "cell_style": "center",
    "slideshow": {
     "slide_type": "slide"
    }
   },
   "outputs": [],
   "source": [
    "# risk limit of the audit\n",
    "risk_limit = 0.1 "
   ]
  },
  {
   "cell_type": "code",
   "execution_count": 3,
   "metadata": {
    "cell_style": "split",
    "slideshow": {
     "slide_type": "fragment"
    }
   },
   "outputs": [],
   "source": [
    "# address of the file with election results\n",
    "#election_results = \"https://raw.githubusercontent.com/gwexploratoryaudits/brla_explore/poorvi/R2Audits/Athena/Scripts/2020MontgomeryPrimary/2020_montgomery_formatted.json\"\n",
    "election_results = \"tmp/2020_montgomery_formatted.json\"\n",
    "\n",
    "w = Audit(\"athena\", risk_limit)\n",
    "\n",
    "w.read_election_results(election_results)\n",
    "\n",
    "#w.get_contests()"
   ]
  },
  {
   "cell_type": "code",
   "execution_count": 4,
   "metadata": {
    "cell_style": "split",
    "slideshow": {
     "slide_type": "fragment"
    }
   },
   "outputs": [
    {
     "name": "stdout",
     "output_type": "stream",
     "text": [
      "Number of contest ballots: 67211\n",
      "\t1 Bennet\t49\n",
      "\t2* Biden\t28135\n",
      "\t3 Bloomberg\t682\n",
      "\t4 Buttigieg\t509\n",
      "\t5 Gabbard\t130\n",
      "\t6 Klobuchar\t396\n",
      "\t7 Patrick\t23\n",
      "\t8 Sanders\t5466\n",
      "\t9 Steyer\t57\n",
      "\t10 Warren\t1074\n",
      "\t11 Write_Ins\t94\n"
     ]
    }
   ],
   "source": [
    "contest = \"d_president\"\n",
    "\n",
    "w.load_contest(contest)\n",
    "\n",
    "w.election.print_election()"
   ]
  },
  {
   "cell_type": "code",
   "execution_count": 5,
   "metadata": {
    "cell_style": "center",
    "slideshow": {
     "slide_type": "fragment"
    }
   },
   "outputs": [
    {
     "name": "stdout",
     "output_type": "stream",
     "text": [
      "\n",
      "\n",
      "---------------------- Round number:  1  -----------------\n",
      "\n",
      "Your choices: \n",
      "[1] Find next round size at 70%, 80%, 90%\n",
      "[2] Enter other goal for probability of stopping.\n",
      "Enter your choice: 1\n",
      "\n",
      "Select round size: \n",
      "Complete with prob. 0.7 when you sample 21 more ballots.\n",
      "Complete with prob. 0.8 when you sample 25 more ballots.\n",
      "Complete with prob. 0.9 when you sample 29 more ballots.\n",
      "\n",
      "\n",
      "\tEnter the number of (all) ballots drawn in this round: 40\n",
      "\tEnter the number of relevant ballots: 40\n",
      "\n",
      "\tEnter number of ballots for each candidate:\n",
      "\tBallots for Bennet: 1\n",
      "\tBallots for Biden: 15\n",
      "\tBallots for Bloomberg: 1\n",
      "\tBallots for Buttigieg: 4\n",
      "\tBallots for Gabbard: 1\n",
      "\tBallots for Klobuchar: 1\n",
      "\tBallots for Patrick: 1\n",
      "\tBallots for Sanders: 8\n",
      "\tBallots for Steyer: 1\n",
      "\tBallots for Warren: 6\n",
      "\tBallots for Write_Ins: 1\n",
      "[15] [0, 0, 0, 0, 0, 0, 0, 0, 0, 0, 0] 0\n",
      "[14] [0, 15, 0, 0, 0, 0, 0, 0, 0, 0, 0] 15\n",
      "[16] [0, 15, 0, 0, 0, 0, 0, 0, 0, 0, 0] 15\n",
      "[14] [0, 16, 0, 0, 0, 0, 0, 0, 0, 0, 0] 16\n",
      "[14] [0, 16, 0, 0, 0, 0, 0, 0, 0, 0, 0] 16\n",
      "[15] [0, 16, 0, 0, 0, 0, 0, 0, 0, 0, 0] 16\n",
      "[16] [0, 16, 0, 0, 0, 0, 0, 0, 0, 0, 0] 16\n",
      "[15] [0, 16, 0, 0, 0, 0, 0, 0, 0, 0, 0] 16\n",
      "[17] [0, 16, 0, 0, 0, 0, 0, 0, 0, 0, 0] 16\n",
      "[15] [0, 17, 0, 0, 0, 0, 0, 0, 0, 0, 0] 17\n",
      "\n",
      "\n",
      "Audit failed\n",
      "\tDelta:\t\t0.0009234474078164121\t[needs to be < 1]\n",
      "\tATHENA risk:\t0.10579452168662448\t[needs to be <= 0.1]\n",
      "\tboth conditions are required to be satisfied.\n"
     ]
    }
   ],
   "source": [
    "w.run_audit_round()\n"
   ]
  },
  {
   "cell_type": "code",
   "execution_count": 7,
   "metadata": {
    "cell_style": "center",
    "slideshow": {
     "slide_type": "slide"
    }
   },
   "outputs": [
    {
     "data": {
      "text/html": [
       "<style  type=\"text/css\" >\n",
       "    #T_02f0daf8_93cd_11ea_8ee3_4b00572e0fe0row1_col0 {\n",
       "            background-color:  yellow;\n",
       "        }    #T_02f0daf8_93cd_11ea_8ee3_4b00572e0fe0row1_col1 {\n",
       "            background-color:  yellow;\n",
       "        }    #T_02f0daf8_93cd_11ea_8ee3_4b00572e0fe0row1_col2 {\n",
       "            background-color:  yellow;\n",
       "        }    #T_02f0daf8_93cd_11ea_8ee3_4b00572e0fe0row1_col3 {\n",
       "            background-color:  yellow;\n",
       "        }    #T_02f0daf8_93cd_11ea_8ee3_4b00572e0fe0row1_col4 {\n",
       "            background-color:  yellow;\n",
       "        }</style><table id=\"T_02f0daf8_93cd_11ea_8ee3_4b00572e0fe0\" ><thead>    <tr>        <th class=\"blank level0\" ></th>        <th class=\"col_heading level0 col0\" >Candidates</th>        <th class=\"col_heading level0 col1\" >Results</th>        <th class=\"col_heading level0 col2\" >Round 1</th>        <th class=\"col_heading level0 col3\" >Total</th>        <th class=\"col_heading level0 col4\" >Required</th>    </tr></thead><tbody>\n",
       "                <tr>\n",
       "                        <th id=\"T_02f0daf8_93cd_11ea_8ee3_4b00572e0fe0level0_row0\" class=\"row_heading level0 row0\" >0</th>\n",
       "                        <td id=\"T_02f0daf8_93cd_11ea_8ee3_4b00572e0fe0row0_col0\" class=\"data row0 col0\" >Bennet</td>\n",
       "                        <td id=\"T_02f0daf8_93cd_11ea_8ee3_4b00572e0fe0row0_col1\" class=\"data row0 col1\" >49</td>\n",
       "                        <td id=\"T_02f0daf8_93cd_11ea_8ee3_4b00572e0fe0row0_col2\" class=\"data row0 col2\" >1</td>\n",
       "                        <td id=\"T_02f0daf8_93cd_11ea_8ee3_4b00572e0fe0row0_col3\" class=\"data row0 col3\" >1</td>\n",
       "                        <td id=\"T_02f0daf8_93cd_11ea_8ee3_4b00572e0fe0row0_col4\" class=\"data row0 col4\" >0</td>\n",
       "            </tr>\n",
       "            <tr>\n",
       "                        <th id=\"T_02f0daf8_93cd_11ea_8ee3_4b00572e0fe0level0_row1\" class=\"row_heading level0 row1\" >1</th>\n",
       "                        <td id=\"T_02f0daf8_93cd_11ea_8ee3_4b00572e0fe0row1_col0\" class=\"data row1 col0\" >Biden</td>\n",
       "                        <td id=\"T_02f0daf8_93cd_11ea_8ee3_4b00572e0fe0row1_col1\" class=\"data row1 col1\" >28135</td>\n",
       "                        <td id=\"T_02f0daf8_93cd_11ea_8ee3_4b00572e0fe0row1_col2\" class=\"data row1 col2\" >15</td>\n",
       "                        <td id=\"T_02f0daf8_93cd_11ea_8ee3_4b00572e0fe0row1_col3\" class=\"data row1 col3\" >15</td>\n",
       "                        <td id=\"T_02f0daf8_93cd_11ea_8ee3_4b00572e0fe0row1_col4\" class=\"data row1 col4\" >17</td>\n",
       "            </tr>\n",
       "            <tr>\n",
       "                        <th id=\"T_02f0daf8_93cd_11ea_8ee3_4b00572e0fe0level0_row2\" class=\"row_heading level0 row2\" >2</th>\n",
       "                        <td id=\"T_02f0daf8_93cd_11ea_8ee3_4b00572e0fe0row2_col0\" class=\"data row2 col0\" >Bloomberg</td>\n",
       "                        <td id=\"T_02f0daf8_93cd_11ea_8ee3_4b00572e0fe0row2_col1\" class=\"data row2 col1\" >682</td>\n",
       "                        <td id=\"T_02f0daf8_93cd_11ea_8ee3_4b00572e0fe0row2_col2\" class=\"data row2 col2\" >1</td>\n",
       "                        <td id=\"T_02f0daf8_93cd_11ea_8ee3_4b00572e0fe0row2_col3\" class=\"data row2 col3\" >1</td>\n",
       "                        <td id=\"T_02f0daf8_93cd_11ea_8ee3_4b00572e0fe0row2_col4\" class=\"data row2 col4\" >0</td>\n",
       "            </tr>\n",
       "            <tr>\n",
       "                        <th id=\"T_02f0daf8_93cd_11ea_8ee3_4b00572e0fe0level0_row3\" class=\"row_heading level0 row3\" >3</th>\n",
       "                        <td id=\"T_02f0daf8_93cd_11ea_8ee3_4b00572e0fe0row3_col0\" class=\"data row3 col0\" >Buttigieg</td>\n",
       "                        <td id=\"T_02f0daf8_93cd_11ea_8ee3_4b00572e0fe0row3_col1\" class=\"data row3 col1\" >509</td>\n",
       "                        <td id=\"T_02f0daf8_93cd_11ea_8ee3_4b00572e0fe0row3_col2\" class=\"data row3 col2\" >4</td>\n",
       "                        <td id=\"T_02f0daf8_93cd_11ea_8ee3_4b00572e0fe0row3_col3\" class=\"data row3 col3\" >4</td>\n",
       "                        <td id=\"T_02f0daf8_93cd_11ea_8ee3_4b00572e0fe0row3_col4\" class=\"data row3 col4\" >0</td>\n",
       "            </tr>\n",
       "            <tr>\n",
       "                        <th id=\"T_02f0daf8_93cd_11ea_8ee3_4b00572e0fe0level0_row4\" class=\"row_heading level0 row4\" >4</th>\n",
       "                        <td id=\"T_02f0daf8_93cd_11ea_8ee3_4b00572e0fe0row4_col0\" class=\"data row4 col0\" >Gabbard</td>\n",
       "                        <td id=\"T_02f0daf8_93cd_11ea_8ee3_4b00572e0fe0row4_col1\" class=\"data row4 col1\" >130</td>\n",
       "                        <td id=\"T_02f0daf8_93cd_11ea_8ee3_4b00572e0fe0row4_col2\" class=\"data row4 col2\" >1</td>\n",
       "                        <td id=\"T_02f0daf8_93cd_11ea_8ee3_4b00572e0fe0row4_col3\" class=\"data row4 col3\" >1</td>\n",
       "                        <td id=\"T_02f0daf8_93cd_11ea_8ee3_4b00572e0fe0row4_col4\" class=\"data row4 col4\" >0</td>\n",
       "            </tr>\n",
       "            <tr>\n",
       "                        <th id=\"T_02f0daf8_93cd_11ea_8ee3_4b00572e0fe0level0_row5\" class=\"row_heading level0 row5\" >5</th>\n",
       "                        <td id=\"T_02f0daf8_93cd_11ea_8ee3_4b00572e0fe0row5_col0\" class=\"data row5 col0\" >Klobuchar</td>\n",
       "                        <td id=\"T_02f0daf8_93cd_11ea_8ee3_4b00572e0fe0row5_col1\" class=\"data row5 col1\" >396</td>\n",
       "                        <td id=\"T_02f0daf8_93cd_11ea_8ee3_4b00572e0fe0row5_col2\" class=\"data row5 col2\" >1</td>\n",
       "                        <td id=\"T_02f0daf8_93cd_11ea_8ee3_4b00572e0fe0row5_col3\" class=\"data row5 col3\" >1</td>\n",
       "                        <td id=\"T_02f0daf8_93cd_11ea_8ee3_4b00572e0fe0row5_col4\" class=\"data row5 col4\" >0</td>\n",
       "            </tr>\n",
       "            <tr>\n",
       "                        <th id=\"T_02f0daf8_93cd_11ea_8ee3_4b00572e0fe0level0_row6\" class=\"row_heading level0 row6\" >6</th>\n",
       "                        <td id=\"T_02f0daf8_93cd_11ea_8ee3_4b00572e0fe0row6_col0\" class=\"data row6 col0\" >Patrick</td>\n",
       "                        <td id=\"T_02f0daf8_93cd_11ea_8ee3_4b00572e0fe0row6_col1\" class=\"data row6 col1\" >23</td>\n",
       "                        <td id=\"T_02f0daf8_93cd_11ea_8ee3_4b00572e0fe0row6_col2\" class=\"data row6 col2\" >1</td>\n",
       "                        <td id=\"T_02f0daf8_93cd_11ea_8ee3_4b00572e0fe0row6_col3\" class=\"data row6 col3\" >1</td>\n",
       "                        <td id=\"T_02f0daf8_93cd_11ea_8ee3_4b00572e0fe0row6_col4\" class=\"data row6 col4\" >0</td>\n",
       "            </tr>\n",
       "            <tr>\n",
       "                        <th id=\"T_02f0daf8_93cd_11ea_8ee3_4b00572e0fe0level0_row7\" class=\"row_heading level0 row7\" >7</th>\n",
       "                        <td id=\"T_02f0daf8_93cd_11ea_8ee3_4b00572e0fe0row7_col0\" class=\"data row7 col0\" >Sanders</td>\n",
       "                        <td id=\"T_02f0daf8_93cd_11ea_8ee3_4b00572e0fe0row7_col1\" class=\"data row7 col1\" >5466</td>\n",
       "                        <td id=\"T_02f0daf8_93cd_11ea_8ee3_4b00572e0fe0row7_col2\" class=\"data row7 col2\" >8</td>\n",
       "                        <td id=\"T_02f0daf8_93cd_11ea_8ee3_4b00572e0fe0row7_col3\" class=\"data row7 col3\" >8</td>\n",
       "                        <td id=\"T_02f0daf8_93cd_11ea_8ee3_4b00572e0fe0row7_col4\" class=\"data row7 col4\" >0</td>\n",
       "            </tr>\n",
       "            <tr>\n",
       "                        <th id=\"T_02f0daf8_93cd_11ea_8ee3_4b00572e0fe0level0_row8\" class=\"row_heading level0 row8\" >8</th>\n",
       "                        <td id=\"T_02f0daf8_93cd_11ea_8ee3_4b00572e0fe0row8_col0\" class=\"data row8 col0\" >Steyer</td>\n",
       "                        <td id=\"T_02f0daf8_93cd_11ea_8ee3_4b00572e0fe0row8_col1\" class=\"data row8 col1\" >57</td>\n",
       "                        <td id=\"T_02f0daf8_93cd_11ea_8ee3_4b00572e0fe0row8_col2\" class=\"data row8 col2\" >1</td>\n",
       "                        <td id=\"T_02f0daf8_93cd_11ea_8ee3_4b00572e0fe0row8_col3\" class=\"data row8 col3\" >1</td>\n",
       "                        <td id=\"T_02f0daf8_93cd_11ea_8ee3_4b00572e0fe0row8_col4\" class=\"data row8 col4\" >0</td>\n",
       "            </tr>\n",
       "            <tr>\n",
       "                        <th id=\"T_02f0daf8_93cd_11ea_8ee3_4b00572e0fe0level0_row9\" class=\"row_heading level0 row9\" >9</th>\n",
       "                        <td id=\"T_02f0daf8_93cd_11ea_8ee3_4b00572e0fe0row9_col0\" class=\"data row9 col0\" >Warren</td>\n",
       "                        <td id=\"T_02f0daf8_93cd_11ea_8ee3_4b00572e0fe0row9_col1\" class=\"data row9 col1\" >1074</td>\n",
       "                        <td id=\"T_02f0daf8_93cd_11ea_8ee3_4b00572e0fe0row9_col2\" class=\"data row9 col2\" >6</td>\n",
       "                        <td id=\"T_02f0daf8_93cd_11ea_8ee3_4b00572e0fe0row9_col3\" class=\"data row9 col3\" >6</td>\n",
       "                        <td id=\"T_02f0daf8_93cd_11ea_8ee3_4b00572e0fe0row9_col4\" class=\"data row9 col4\" >0</td>\n",
       "            </tr>\n",
       "            <tr>\n",
       "                        <th id=\"T_02f0daf8_93cd_11ea_8ee3_4b00572e0fe0level0_row10\" class=\"row_heading level0 row10\" >10</th>\n",
       "                        <td id=\"T_02f0daf8_93cd_11ea_8ee3_4b00572e0fe0row10_col0\" class=\"data row10 col0\" >Write_Ins</td>\n",
       "                        <td id=\"T_02f0daf8_93cd_11ea_8ee3_4b00572e0fe0row10_col1\" class=\"data row10 col1\" >94</td>\n",
       "                        <td id=\"T_02f0daf8_93cd_11ea_8ee3_4b00572e0fe0row10_col2\" class=\"data row10 col2\" >1</td>\n",
       "                        <td id=\"T_02f0daf8_93cd_11ea_8ee3_4b00572e0fe0row10_col3\" class=\"data row10 col3\" >1</td>\n",
       "                        <td id=\"T_02f0daf8_93cd_11ea_8ee3_4b00572e0fe0row10_col4\" class=\"data row10 col4\" >0</td>\n",
       "            </tr>\n",
       "    </tbody></table>"
      ],
      "text/plain": [
       "<pandas.io.formats.style.Styler at 0x7f0af2186610>"
      ]
     },
     "execution_count": 7,
     "metadata": {},
     "output_type": "execute_result"
    }
   ],
   "source": [
    "#w.present_state()\n",
    "\n",
    "d = {'Candidates': w.election.candidates, 'Results': w.election.results}\n",
    "df = pd.DataFrame(data=d)\n",
    "for rd in range(w.round_number):\n",
    "    rd_caption = \"Round \" + str(rd + 1)\n",
    "    r = []\n",
    "    for i in range(len(w.election.candidates)):\n",
    "        r.append(w.round_observations[i][rd])\n",
    "    df[rd_caption] = r\n",
    "\n",
    "r = []\n",
    "rd_caption = \"Total\"\n",
    "for i in range(len(w.election.candidates)):\n",
    "    r.append(w.audit_observations[i][w.round_number - 1])\n",
    "df[rd_caption] = r\n",
    "\n",
    "r = []\n",
    "rd_caption = \"Required\"\n",
    "for i in range(len(w.election.candidates)):\n",
    "    r.append(w.min_kmins[i])\n",
    "df[rd_caption] = r\n",
    "\n",
    "\n",
    "s = df.style.set_properties(subset = pd.IndexSlice[w.election.winners, :], **{'background-color' : 'yellow'})\n",
    "s"
   ]
  },
  {
   "cell_type": "code",
   "execution_count": null,
   "metadata": {},
   "outputs": [],
   "source": []
  },
  {
   "cell_type": "markdown",
   "metadata": {},
   "source": [
    "# DEV part"
   ]
  },
  {
   "cell_type": "code",
   "execution_count": null,
   "metadata": {},
   "outputs": [],
   "source": []
  },
  {
   "cell_type": "code",
   "execution_count": null,
   "metadata": {},
   "outputs": [],
   "source": []
  },
  {
   "cell_type": "code",
   "execution_count": null,
   "metadata": {},
   "outputs": [],
   "source": []
  },
  {
   "cell_type": "code",
   "execution_count": null,
   "metadata": {},
   "outputs": [],
   "source": []
  },
  {
   "cell_type": "markdown",
   "metadata": {
    "slideshow": {
     "slide_type": "slide"
    }
   },
   "source": [
    "# This part is only needed if you are not planning to enter election details \"by hand\"\n"
   ]
  },
  {
   "cell_type": "code",
   "execution_count": null,
   "metadata": {},
   "outputs": [],
   "source": [
    "audit_type = \"athena\" "
   ]
  },
  {
   "cell_type": "code",
   "execution_count": null,
   "metadata": {},
   "outputs": [],
   "source": [
    "logging.getLogger(__name__).setLevel(\"INFO\")"
   ]
  },
  {
   "cell_type": "code",
   "execution_count": null,
   "metadata": {},
   "outputs": [],
   "source": [
    "alpha = 0.1 # risk limit\n",
    "name = \"Election name\"\n",
    "winners = 1 # number of winners"
   ]
  },
  {
   "cell_type": "code",
   "execution_count": null,
   "metadata": {},
   "outputs": [],
   "source": [
    "results = [17800, 9700] # ballots for candidates\n",
    "total = 67000 # total number of ballots cast (can be set to 0)"
   ]
  },
  {
   "cell_type": "code",
   "execution_count": null,
   "metadata": {},
   "outputs": [],
   "source": [
    "delta = 1\n",
    "candidates = [string.ascii_uppercase[i] for i in range(len(results))]\n",
    "ballots_cast = total\n",
    "if ballots_cast < sum(results):\n",
    "    ballots_cast = sum(results)\n",
    "model = \"bin\"\n",
    "round_schedule = []\n",
    "election = {}\n",
    "election[\"ballots_cast\"] = ballots_cast\n",
    "election[\"alpha\"] = alpha\n",
    "election[\"delta\"] = delta\n",
    "election[\"candidates\"] = candidates\n",
    "election[\"results\"] = results\n",
    "election[\"winners\"] = winners\n",
    "election[\"name\"] = name\n",
    "election[\"model\"] = model\n",
    "election_object = Election(election)\n",
    "election_object.print_election()"
   ]
  },
  {
   "cell_type": "code",
   "execution_count": null,
   "metadata": {},
   "outputs": [],
   "source": [
    "w = Audit(audit_type, alpha, delta)\n",
    "w.add_election(election)\n",
    "w.add_round_schedule(round_schedule)\n",
    "\n",
    "w.run_interactive()\n"
   ]
  }
 ],
 "metadata": {
  "celltoolbar": "Slideshow",
  "kernelspec": {
   "display_name": "Python 3",
   "language": "python",
   "name": "python3"
  },
  "language_info": {
   "codemirror_mode": {
    "name": "ipython",
    "version": 3
   },
   "file_extension": ".py",
   "mimetype": "text/x-python",
   "name": "python",
   "nbconvert_exporter": "python",
   "pygments_lexer": "ipython3",
   "version": "3.7.6"
  }
 },
 "nbformat": 4,
 "nbformat_minor": 4
}
