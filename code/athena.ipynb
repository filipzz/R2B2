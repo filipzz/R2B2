{
 "cells": [
  {
   "cell_type": "code",
   "execution_count": 13,
   "metadata": {},
   "outputs": [],
   "source": [
    "alpha = 0.1 # risk limit\n",
    "name = \"Election name\"\n",
    "winners = 1 # number of winners"
   ]
  },
  {
   "cell_type": "code",
   "execution_count": 24,
   "metadata": {},
   "outputs": [],
   "source": [
    "results = [17800, 9700] # ballots for candidates\n",
    "total = 67000 # total number of ballots cast (can be set to 0)"
   ]
  },
  {
   "cell_type": "code",
   "execution_count": 29,
   "metadata": {},
   "outputs": [],
   "source": [
    "import sys\n",
    "import argparse\n",
    "import string\n",
    "import math\n",
    "import logging\n",
    "from athena.athena import AthenaAudit\n",
    "from athena.election import Election\n",
    "from athena.audit import Audit"
   ]
  },
  {
   "cell_type": "code",
   "execution_count": 25,
   "metadata": {},
   "outputs": [],
   "source": [
    "audit_type = \"athena\" "
   ]
  },
  {
   "cell_type": "code",
   "execution_count": 26,
   "metadata": {},
   "outputs": [
    {
     "name": "stdout",
     "output_type": "stream",
     "text": [
      "Results of: Election name\n",
      "Number of valid ballots: 67 000\n",
      "\t1 A\t17 800\n",
      "\t2 B\t9 700\n"
     ]
    }
   ],
   "source": [
    "delta = 1\n",
    "candidates = [string.ascii_uppercase[i] for i in range(len(results))]\n",
    "pstop_goal = []\n",
    "round_schedule = []\n",
    "ballots_cast = total\n",
    "if ballots_cast < sum(results):\n",
    "    ballots_cast = sum(results)\n",
    "model = \"bin\"\n",
    "election = {}\n",
    "election[\"ballots_cast\"] = ballots_cast\n",
    "election[\"alpha\"] = alpha\n",
    "election[\"delta\"] = delta\n",
    "election[\"candidates\"] = candidates\n",
    "election[\"results\"] = results\n",
    "election[\"ballots_cast\"] = ballots_cast\n",
    "election[\"winners\"] = winners\n",
    "election[\"name\"] = name\n",
    "election[\"model\"] = model\n",
    "election[\"pstop\"] = pstop_goal\n",
    "election[\"round_schedule\"] = round_schedule\n",
    "election_object = Election(election)\n",
    "election_object.print_election()"
   ]
  },
  {
   "cell_type": "code",
   "execution_count": 28,
   "metadata": {},
   "outputs": [
    {
     "name": "stdout",
     "output_type": "stream",
     "text": [
      "\n",
      "\n",
      "Your choices: \n",
      "[1] Find next round size at 70%, 80%, 90%\n",
      "[2] Enter other goal for probability of stopping.\n",
      "Enter your choice: 1\n",
      "\n",
      "Your round sizes choices are: \n",
      "Probability of with 0.7 when you sample 50 more ballots.\n",
      "Probability of with 0.8 when you sample 99 more ballots.\n",
      "Probability of with 0.9 when you sample 150 more ballots.\n",
      "\n",
      "\n",
      "Enter number of ballots drawn: \n",
      "Number of ballots: 123\n",
      "\n",
      "Enter number of ballots for the winner: \n",
      "Ballots for winner: 50\n",
      "\n",
      "\n",
      "Audit Successfully completed!\n",
      "P-value:\t0.07666822759248491\n"
     ]
    }
   ],
   "source": [
    "audit_completed = False\n",
    "\n",
    "while audit_completed is False:\n",
    "    print(\"\\n\\nYour choices: \")\n",
    "    print(\"[1] Find next round size at 70%, 80%, 90%\")\n",
    "    print(\"[2] Enter other goal for probability of stopping.\")\n",
    "    choice = input(\"Enter your choice: \")\n",
    "    if choice == \"1\":\n",
    "        pstop_goal = [.7, .8, .9]\n",
    "    elif choice == \"2\":\n",
    "        pstop_choice = float(input(\"Enter value: \"))\n",
    "        if 0 < pstop_choice < 1:\n",
    "            pstop_goal = [pstop_choice]\n",
    "        elif 1 <= pstop_choice <= 99:\n",
    "            pstop_goal = [pstop_choice/100]\n",
    "        else:\n",
    "            print(\"Entered value is incorrect\")\n",
    "            sys.exit(1)\n",
    "    else:\n",
    "        audit_completed = True\n",
    "\n",
    "    w = Audit(audit_type, alpha, delta)\n",
    "    w.add_election(election)\n",
    "    w.add_round_schedule(round_schedule)\n",
    "    x = w.find_next_round_size(pstop_goal)\n",
    "    #print(str(x))\n",
    "\n",
    "    future_round_sizes = x[\"future_round_sizes\"]\n",
    "\n",
    "    if len(round_schedule) > 0:\n",
    "        below_kmin = max(required) - max(observed)\n",
    "        n_future_round_sizes =  list(map(lambda x: x - max(round_schedule) + 2 * below_kmin, future_round_sizes))\n",
    "    else:\n",
    "        n_future_round_sizes = future_round_sizes\n",
    "\n",
    "    print(\"\\nYour round sizes choices are: \")\n",
    "    for p, rs in zip(pstop_goal, n_future_round_sizes):\n",
    "        print(\"Probability of with %s when you sample %s more ballots.\" % (p, rs))\n",
    "\n",
    "\n",
    "    del w\n",
    "\n",
    "    print(\"\\n\\nEnter number of ballots drawn: \")\n",
    "    new_total = int(input(\"Number of ballots: \"))\n",
    "    print(\"\\nEnter number of ballots for the winner: \")\n",
    "    new_winner = int(input(\"Ballots for winner: \"))\n",
    "\n",
    "    if len(round_schedule) > 0:\n",
    "        round_schedule = round_schedule + [new_total + max(round_schedule)]\n",
    "        actual_kmins = actual_kmins + [new_winner + max(actual_kmins)]\n",
    "    else:\n",
    "        round_schedule = [new_total]\n",
    "        actual_kmins = [new_winner]\n",
    "\n",
    "    w = Audit(audit_type, alpha, delta)\n",
    "    w.add_election(election)\n",
    "    w.add_round_schedule(round_schedule)\n",
    "    x = w.find_risk(actual_kmins)\n",
    "    observed = x[\"observed\"]\n",
    "    required = x[\"required\"]\n",
    "\n",
    "    if x[\"passed\"] == 1:\n",
    "        audit_completed = True\n",
    "        print(\"\\n\\nAudit Successfully completed!\")\n",
    "        print(\"P-value:\\t%s\" % (x[\"risk\"]))\n",
    "    #print(str(x))\n",
    "    del w"
   ]
  },
  {
   "cell_type": "code",
   "execution_count": null,
   "metadata": {},
   "outputs": [],
   "source": []
  }
 ],
 "metadata": {
  "kernelspec": {
   "display_name": "Python 3",
   "language": "python",
   "name": "python3"
  },
  "language_info": {
   "codemirror_mode": {
    "name": "ipython",
    "version": 3
   },
   "file_extension": ".py",
   "mimetype": "text/x-python",
   "name": "python",
   "nbconvert_exporter": "python",
   "pygments_lexer": "ipython3",
   "version": "3.7.6"
  }
 },
 "nbformat": 4,
 "nbformat_minor": 4
}
