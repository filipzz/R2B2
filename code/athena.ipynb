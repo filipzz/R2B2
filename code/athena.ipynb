{
 "cells": [
  {
   "cell_type": "code",
   "execution_count": 1,
   "metadata": {
    "slideshow": {
     "slide_type": "slide"
    }
   },
   "outputs": [],
   "source": [
    "# we either import locally (after the repo was cloned)\n",
    "# or we first clone it and then use it (e.g., when run in Google Colab)\n",
    "shell = get_ipython().__class__.__name__ \n",
    "\n",
    "if shell == 'Shell':\n",
    "    # imports when launched in e.g., Google Colab\n",
    "    !git clone https://github.com/filipzz/athena.git r2b2\n",
    "    from r2b2.code.athena.athena import AthenaAudit\n",
    "    from r2b2.code.athena.contest import Contest\n",
    "    from r2b2.code.athena.audit import Audit\n",
    "else: # shell ==  'ZMQInteractiveShell' or shell == 'TerminalInteractiveShell'\n",
    "    # local imports if you run it with e.g., Jupyter\n",
    "    from athena.athena import AthenaAudit\n",
    "    from athena.contest import Contest\n",
    "    from athena.audit import Audit\n",
    "\n",
    "import pandas as pd"
   ]
  },
  {
   "cell_type": "code",
   "execution_count": 2,
   "metadata": {
    "cell_style": "center",
    "slideshow": {
     "slide_type": "slide"
    }
   },
   "outputs": [],
   "source": [
    "# Set risk limit of the audit\n",
    "risk_limit = 0.1 "
   ]
  },
  {
   "cell_type": "code",
   "execution_count": 3,
   "metadata": {
    "cell_style": "center",
    "slideshow": {
     "slide_type": "fragment"
    }
   },
   "outputs": [],
   "source": [
    "# address of the file with election results the file can be either\n",
    "# an url:\n",
    "#election_results = \"https://raw.githubusercontent.com/gwexploratoryaudits/brla_explore/poorvi/R2Audits/Athena/Scripts/2020MontgomeryPrimary/2020_montgomery_formatted.json\"\n",
    "# or a local file:\n",
    "election_results = \"athena/test_data/2020_montgomery_formatted.json\"\n",
    "\n",
    "w = Audit(\"athena\", risk_limit)\n",
    "\n",
    "w.read_election_results(election_results)"
   ]
  },
  {
   "cell_type": "code",
   "execution_count": 4,
   "metadata": {
    "cell_style": "center",
    "slideshow": {
     "slide_type": "fragment"
    }
   },
   "outputs": [],
   "source": [
    "contest = \"d_congress\"\n",
    "\n",
    "w.load_contest(contest)"
   ]
  },
  {
   "cell_type": "code",
   "execution_count": 5,
   "metadata": {},
   "outputs": [
    {
     "data": {
      "text/html": [
       "<style  type=\"text/css\" >\n",
       "    #T_265c4bf2_960d_11ea_bb81_f3495aa2b3b0row1_col0 {\n",
       "            color:  green;\n",
       "        }    #T_265c4bf2_960d_11ea_bb81_f3495aa2b3b0row1_col1 {\n",
       "            color:  green;\n",
       "        }</style><table id=\"T_265c4bf2_960d_11ea_bb81_f3495aa2b3b0\" ><thead>    <tr>        <th class=\"blank level0\" ></th>        <th class=\"col_heading level0 col0\" >Candidates</th>        <th class=\"col_heading level0 col1\" >Results</th>    </tr></thead><tbody>\n",
       "                <tr>\n",
       "                        <th id=\"T_265c4bf2_960d_11ea_bb81_f3495aa2b3b0level0_row0\" class=\"row_heading level0 row0\" >0</th>\n",
       "                        <td id=\"T_265c4bf2_960d_11ea_bb81_f3495aa2b3b0row0_col0\" class=\"data row0 col0\" >Moyer</td>\n",
       "                        <td id=\"T_265c4bf2_960d_11ea_bb81_f3495aa2b3b0row0_col1\" class=\"data row0 col1\" >9799</td>\n",
       "            </tr>\n",
       "            <tr>\n",
       "                        <th id=\"T_265c4bf2_960d_11ea_bb81_f3495aa2b3b0level0_row1\" class=\"row_heading level0 row1\" >1</th>\n",
       "                        <td id=\"T_265c4bf2_960d_11ea_bb81_f3495aa2b3b0row1_col0\" class=\"data row1 col0\" >Tims</td>\n",
       "                        <td id=\"T_265c4bf2_960d_11ea_bb81_f3495aa2b3b0row1_col1\" class=\"data row1 col1\" >24178</td>\n",
       "            </tr>\n",
       "    </tbody></table>"
      ],
      "text/plain": [
       "<pandas.io.formats.style.Styler at 0x7f8d4316c1d0>"
      ]
     },
     "execution_count": 5,
     "metadata": {},
     "output_type": "execute_result"
    }
   ],
   "source": [
    "w.show_election_results()"
   ]
  },
  {
   "cell_type": "code",
   "execution_count": 19,
   "metadata": {
    "cell_style": "center",
    "slideshow": {
     "slide_type": "fragment"
    }
   },
   "outputs": [
    {
     "name": "stdout",
     "output_type": "stream",
     "text": [
      "\n",
      "\n",
      "\tRound: 1 audit failed\n",
      "\tLR:\t\t6.232290533137051e-09\t[needs to be > 1]\n",
      "\tDelta:\t\t160454650.6108799\t[needs to be < 1]\n",
      "\tp-value:\t0.09667395225381008\t[needs to be <= 0.1]\n",
      "\tboth conditions are required to be satisfied.\n"
     ]
    },
    {
     "data": {
      "text/html": [
       "<style  type=\"text/css\" >\n",
       "    #T_532c51a6_9610_11ea_bb81_f3495aa2b3b0row1_col0 {\n",
       "            color:  blue;\n",
       "        }    #T_532c51a6_9610_11ea_bb81_f3495aa2b3b0row1_col1 {\n",
       "            color:  blue;\n",
       "        }    #T_532c51a6_9610_11ea_bb81_f3495aa2b3b0row1_col2 {\n",
       "            color:  blue;\n",
       "        }    #T_532c51a6_9610_11ea_bb81_f3495aa2b3b0row1_col3 {\n",
       "            color:  blue;\n",
       "        }    #T_532c51a6_9610_11ea_bb81_f3495aa2b3b0row1_col4 {\n",
       "            color:  blue;\n",
       "        }</style><table id=\"T_532c51a6_9610_11ea_bb81_f3495aa2b3b0\" ><thead>    <tr>        <th class=\"blank level0\" ></th>        <th class=\"col_heading level0 col0\" >Candidates</th>        <th class=\"col_heading level0 col1\" >Results</th>        <th class=\"col_heading level0 col2\" >Round 1</th>        <th class=\"col_heading level0 col3\" >Total</th>        <th class=\"col_heading level0 col4\" >Required</th>    </tr></thead><tbody>\n",
       "                <tr>\n",
       "                        <th id=\"T_532c51a6_9610_11ea_bb81_f3495aa2b3b0level0_row0\" class=\"row_heading level0 row0\" >0</th>\n",
       "                        <td id=\"T_532c51a6_9610_11ea_bb81_f3495aa2b3b0row0_col0\" class=\"data row0 col0\" >Bennet</td>\n",
       "                        <td id=\"T_532c51a6_9610_11ea_bb81_f3495aa2b3b0row0_col1\" class=\"data row0 col1\" >49</td>\n",
       "                        <td id=\"T_532c51a6_9610_11ea_bb81_f3495aa2b3b0row0_col2\" class=\"data row0 col2\" >0</td>\n",
       "                        <td id=\"T_532c51a6_9610_11ea_bb81_f3495aa2b3b0row0_col3\" class=\"data row0 col3\" >0</td>\n",
       "                        <td id=\"T_532c51a6_9610_11ea_bb81_f3495aa2b3b0row0_col4\" class=\"data row0 col4\" > </td>\n",
       "            </tr>\n",
       "            <tr>\n",
       "                        <th id=\"T_532c51a6_9610_11ea_bb81_f3495aa2b3b0level0_row1\" class=\"row_heading level0 row1\" >1</th>\n",
       "                        <td id=\"T_532c51a6_9610_11ea_bb81_f3495aa2b3b0row1_col0\" class=\"data row1 col0\" >Biden</td>\n",
       "                        <td id=\"T_532c51a6_9610_11ea_bb81_f3495aa2b3b0row1_col1\" class=\"data row1 col1\" >28135</td>\n",
       "                        <td id=\"T_532c51a6_9610_11ea_bb81_f3495aa2b3b0row1_col2\" class=\"data row1 col2\" >57</td>\n",
       "                        <td id=\"T_532c51a6_9610_11ea_bb81_f3495aa2b3b0row1_col3\" class=\"data row1 col3\" >57</td>\n",
       "                        <td id=\"T_532c51a6_9610_11ea_bb81_f3495aa2b3b0row1_col4\" class=\"data row1 col4\" >69</td>\n",
       "            </tr>\n",
       "            <tr>\n",
       "                        <th id=\"T_532c51a6_9610_11ea_bb81_f3495aa2b3b0level0_row2\" class=\"row_heading level0 row2\" >2</th>\n",
       "                        <td id=\"T_532c51a6_9610_11ea_bb81_f3495aa2b3b0row2_col0\" class=\"data row2 col0\" >Bloomberg</td>\n",
       "                        <td id=\"T_532c51a6_9610_11ea_bb81_f3495aa2b3b0row2_col1\" class=\"data row2 col1\" >682</td>\n",
       "                        <td id=\"T_532c51a6_9610_11ea_bb81_f3495aa2b3b0row2_col2\" class=\"data row2 col2\" >0</td>\n",
       "                        <td id=\"T_532c51a6_9610_11ea_bb81_f3495aa2b3b0row2_col3\" class=\"data row2 col3\" >0</td>\n",
       "                        <td id=\"T_532c51a6_9610_11ea_bb81_f3495aa2b3b0row2_col4\" class=\"data row2 col4\" > </td>\n",
       "            </tr>\n",
       "            <tr>\n",
       "                        <th id=\"T_532c51a6_9610_11ea_bb81_f3495aa2b3b0level0_row3\" class=\"row_heading level0 row3\" >3</th>\n",
       "                        <td id=\"T_532c51a6_9610_11ea_bb81_f3495aa2b3b0row3_col0\" class=\"data row3 col0\" >Buttigieg</td>\n",
       "                        <td id=\"T_532c51a6_9610_11ea_bb81_f3495aa2b3b0row3_col1\" class=\"data row3 col1\" >509</td>\n",
       "                        <td id=\"T_532c51a6_9610_11ea_bb81_f3495aa2b3b0row3_col2\" class=\"data row3 col2\" >0</td>\n",
       "                        <td id=\"T_532c51a6_9610_11ea_bb81_f3495aa2b3b0row3_col3\" class=\"data row3 col3\" >0</td>\n",
       "                        <td id=\"T_532c51a6_9610_11ea_bb81_f3495aa2b3b0row3_col4\" class=\"data row3 col4\" > </td>\n",
       "            </tr>\n",
       "            <tr>\n",
       "                        <th id=\"T_532c51a6_9610_11ea_bb81_f3495aa2b3b0level0_row4\" class=\"row_heading level0 row4\" >4</th>\n",
       "                        <td id=\"T_532c51a6_9610_11ea_bb81_f3495aa2b3b0row4_col0\" class=\"data row4 col0\" >Gabbard</td>\n",
       "                        <td id=\"T_532c51a6_9610_11ea_bb81_f3495aa2b3b0row4_col1\" class=\"data row4 col1\" >130</td>\n",
       "                        <td id=\"T_532c51a6_9610_11ea_bb81_f3495aa2b3b0row4_col2\" class=\"data row4 col2\" >0</td>\n",
       "                        <td id=\"T_532c51a6_9610_11ea_bb81_f3495aa2b3b0row4_col3\" class=\"data row4 col3\" >0</td>\n",
       "                        <td id=\"T_532c51a6_9610_11ea_bb81_f3495aa2b3b0row4_col4\" class=\"data row4 col4\" > </td>\n",
       "            </tr>\n",
       "            <tr>\n",
       "                        <th id=\"T_532c51a6_9610_11ea_bb81_f3495aa2b3b0level0_row5\" class=\"row_heading level0 row5\" >5</th>\n",
       "                        <td id=\"T_532c51a6_9610_11ea_bb81_f3495aa2b3b0row5_col0\" class=\"data row5 col0\" >Klobuchar</td>\n",
       "                        <td id=\"T_532c51a6_9610_11ea_bb81_f3495aa2b3b0row5_col1\" class=\"data row5 col1\" >396</td>\n",
       "                        <td id=\"T_532c51a6_9610_11ea_bb81_f3495aa2b3b0row5_col2\" class=\"data row5 col2\" >0</td>\n",
       "                        <td id=\"T_532c51a6_9610_11ea_bb81_f3495aa2b3b0row5_col3\" class=\"data row5 col3\" >0</td>\n",
       "                        <td id=\"T_532c51a6_9610_11ea_bb81_f3495aa2b3b0row5_col4\" class=\"data row5 col4\" > </td>\n",
       "            </tr>\n",
       "            <tr>\n",
       "                        <th id=\"T_532c51a6_9610_11ea_bb81_f3495aa2b3b0level0_row6\" class=\"row_heading level0 row6\" >6</th>\n",
       "                        <td id=\"T_532c51a6_9610_11ea_bb81_f3495aa2b3b0row6_col0\" class=\"data row6 col0\" >Patrick</td>\n",
       "                        <td id=\"T_532c51a6_9610_11ea_bb81_f3495aa2b3b0row6_col1\" class=\"data row6 col1\" >23</td>\n",
       "                        <td id=\"T_532c51a6_9610_11ea_bb81_f3495aa2b3b0row6_col2\" class=\"data row6 col2\" >0</td>\n",
       "                        <td id=\"T_532c51a6_9610_11ea_bb81_f3495aa2b3b0row6_col3\" class=\"data row6 col3\" >0</td>\n",
       "                        <td id=\"T_532c51a6_9610_11ea_bb81_f3495aa2b3b0row6_col4\" class=\"data row6 col4\" > </td>\n",
       "            </tr>\n",
       "            <tr>\n",
       "                        <th id=\"T_532c51a6_9610_11ea_bb81_f3495aa2b3b0level0_row7\" class=\"row_heading level0 row7\" >7</th>\n",
       "                        <td id=\"T_532c51a6_9610_11ea_bb81_f3495aa2b3b0row7_col0\" class=\"data row7 col0\" >Sanders</td>\n",
       "                        <td id=\"T_532c51a6_9610_11ea_bb81_f3495aa2b3b0row7_col1\" class=\"data row7 col1\" >5466</td>\n",
       "                        <td id=\"T_532c51a6_9610_11ea_bb81_f3495aa2b3b0row7_col2\" class=\"data row7 col2\" >43</td>\n",
       "                        <td id=\"T_532c51a6_9610_11ea_bb81_f3495aa2b3b0row7_col3\" class=\"data row7 col3\" >43</td>\n",
       "                        <td id=\"T_532c51a6_9610_11ea_bb81_f3495aa2b3b0row7_col4\" class=\"data row7 col4\" > </td>\n",
       "            </tr>\n",
       "            <tr>\n",
       "                        <th id=\"T_532c51a6_9610_11ea_bb81_f3495aa2b3b0level0_row8\" class=\"row_heading level0 row8\" >8</th>\n",
       "                        <td id=\"T_532c51a6_9610_11ea_bb81_f3495aa2b3b0row8_col0\" class=\"data row8 col0\" >Steyer</td>\n",
       "                        <td id=\"T_532c51a6_9610_11ea_bb81_f3495aa2b3b0row8_col1\" class=\"data row8 col1\" >57</td>\n",
       "                        <td id=\"T_532c51a6_9610_11ea_bb81_f3495aa2b3b0row8_col2\" class=\"data row8 col2\" >0</td>\n",
       "                        <td id=\"T_532c51a6_9610_11ea_bb81_f3495aa2b3b0row8_col3\" class=\"data row8 col3\" >0</td>\n",
       "                        <td id=\"T_532c51a6_9610_11ea_bb81_f3495aa2b3b0row8_col4\" class=\"data row8 col4\" > </td>\n",
       "            </tr>\n",
       "            <tr>\n",
       "                        <th id=\"T_532c51a6_9610_11ea_bb81_f3495aa2b3b0level0_row9\" class=\"row_heading level0 row9\" >9</th>\n",
       "                        <td id=\"T_532c51a6_9610_11ea_bb81_f3495aa2b3b0row9_col0\" class=\"data row9 col0\" >Warren</td>\n",
       "                        <td id=\"T_532c51a6_9610_11ea_bb81_f3495aa2b3b0row9_col1\" class=\"data row9 col1\" >1074</td>\n",
       "                        <td id=\"T_532c51a6_9610_11ea_bb81_f3495aa2b3b0row9_col2\" class=\"data row9 col2\" >0</td>\n",
       "                        <td id=\"T_532c51a6_9610_11ea_bb81_f3495aa2b3b0row9_col3\" class=\"data row9 col3\" >0</td>\n",
       "                        <td id=\"T_532c51a6_9610_11ea_bb81_f3495aa2b3b0row9_col4\" class=\"data row9 col4\" > </td>\n",
       "            </tr>\n",
       "            <tr>\n",
       "                        <th id=\"T_532c51a6_9610_11ea_bb81_f3495aa2b3b0level0_row10\" class=\"row_heading level0 row10\" >10</th>\n",
       "                        <td id=\"T_532c51a6_9610_11ea_bb81_f3495aa2b3b0row10_col0\" class=\"data row10 col0\" >Write_Ins</td>\n",
       "                        <td id=\"T_532c51a6_9610_11ea_bb81_f3495aa2b3b0row10_col1\" class=\"data row10 col1\" >94</td>\n",
       "                        <td id=\"T_532c51a6_9610_11ea_bb81_f3495aa2b3b0row10_col2\" class=\"data row10 col2\" >0</td>\n",
       "                        <td id=\"T_532c51a6_9610_11ea_bb81_f3495aa2b3b0row10_col3\" class=\"data row10 col3\" >0</td>\n",
       "                        <td id=\"T_532c51a6_9610_11ea_bb81_f3495aa2b3b0row10_col4\" class=\"data row10 col4\" > </td>\n",
       "            </tr>\n",
       "            <tr>\n",
       "                        <th id=\"T_532c51a6_9610_11ea_bb81_f3495aa2b3b0level0_row11\" class=\"row_heading level0 row11\" >11</th>\n",
       "                        <td id=\"T_532c51a6_9610_11ea_bb81_f3495aa2b3b0row11_col0\" class=\"data row11 col0\" > </td>\n",
       "                        <td id=\"T_532c51a6_9610_11ea_bb81_f3495aa2b3b0row11_col1\" class=\"data row11 col1\" >Sum</td>\n",
       "                        <td id=\"T_532c51a6_9610_11ea_bb81_f3495aa2b3b0row11_col2\" class=\"data row11 col2\" >100</td>\n",
       "                        <td id=\"T_532c51a6_9610_11ea_bb81_f3495aa2b3b0row11_col3\" class=\"data row11 col3\" > </td>\n",
       "                        <td id=\"T_532c51a6_9610_11ea_bb81_f3495aa2b3b0row11_col4\" class=\"data row11 col4\" > </td>\n",
       "            </tr>\n",
       "            <tr>\n",
       "                        <th id=\"T_532c51a6_9610_11ea_bb81_f3495aa2b3b0level0_row12\" class=\"row_heading level0 row12\" >12</th>\n",
       "                        <td id=\"T_532c51a6_9610_11ea_bb81_f3495aa2b3b0row12_col0\" class=\"data row12 col0\" > </td>\n",
       "                        <td id=\"T_532c51a6_9610_11ea_bb81_f3495aa2b3b0row12_col1\" class=\"data row12 col1\" >LR</td>\n",
       "                        <td id=\"T_532c51a6_9610_11ea_bb81_f3495aa2b3b0row12_col2\" class=\"data row12 col2\" >0.0000</td>\n",
       "                        <td id=\"T_532c51a6_9610_11ea_bb81_f3495aa2b3b0row12_col3\" class=\"data row12 col3\" > </td>\n",
       "                        <td id=\"T_532c51a6_9610_11ea_bb81_f3495aa2b3b0row12_col4\" class=\"data row12 col4\" > </td>\n",
       "            </tr>\n",
       "            <tr>\n",
       "                        <th id=\"T_532c51a6_9610_11ea_bb81_f3495aa2b3b0level0_row13\" class=\"row_heading level0 row13\" >13</th>\n",
       "                        <td id=\"T_532c51a6_9610_11ea_bb81_f3495aa2b3b0row13_col0\" class=\"data row13 col0\" > </td>\n",
       "                        <td id=\"T_532c51a6_9610_11ea_bb81_f3495aa2b3b0row13_col1\" class=\"data row13 col1\" >P-Value</td>\n",
       "                        <td id=\"T_532c51a6_9610_11ea_bb81_f3495aa2b3b0row13_col2\" class=\"data row13 col2\" >0.0967</td>\n",
       "                        <td id=\"T_532c51a6_9610_11ea_bb81_f3495aa2b3b0row13_col3\" class=\"data row13 col3\" > </td>\n",
       "                        <td id=\"T_532c51a6_9610_11ea_bb81_f3495aa2b3b0row13_col4\" class=\"data row13 col4\" > </td>\n",
       "            </tr>\n",
       "    </tbody></table>"
      ],
      "text/plain": [
       "<pandas.io.formats.style.Styler at 0x7f8d69197250>"
      ]
     },
     "execution_count": 19,
     "metadata": {},
     "output_type": "execute_result"
    }
   ],
   "source": [
    "w = Audit(\"athena\", risk_limit)\n",
    "\n",
    "w.read_election_results(election_results)\n",
    "#w.load_contest(\"d_president\")\n",
    "#w.show_election_results()\n",
    "#print(w.predict_round_sizes([.7, .8, .9]))\n",
    "#w.set_observations(50, 19, [0, 11, 1, 0, 0, 0, 0, 6, 1, 0, 0])\n",
    "#w.set_observations(29, 10, [0, 8, 0, 0, 0, 0, 0, 2, 0, 0, 0])\n",
    "\n",
    "\n",
    "#w.present_state()\n",
    "\n",
    "# test 1 (d_president) - ok\n",
    "#w.load_contest(\"d_president\")\n",
    "#w.set_observations(50, 19, [0, 11, 1, 0, 0, 0, 0, 6, 1, 0, 0])\n",
    "#w.set_observations(29, 10, [0, 6, 0, 0, 0, 0, 0, 4, 0, 0, 0])\n",
    "# test 2 - (d_president): \n",
    "#w.load_contest(\"d_president\")\n",
    "#w.set_observations(16, 16, [0, 10, 1, 0, 0, 0, 0, 4, 1, 0, 0])\n",
    "#w.set_observations(29, 29, [1, 10, 0, 1, 1, 1, 1, 13, 0, 1, 0])\n",
    "# test 3 (d_pres)\n",
    "#w.load_contest(\"d_president\")\n",
    "#w.set_observations(22, 22, [0, 11, 1, 0, 0, 0, 0, 9, 1, 0, 0])\n",
    "#w.set_observations(7, 7, [0, 6, 0, 0, 0, 0, 0, 1, 0, 0, 0])\n",
    "# test 4 - congress - ok\n",
    "#w.load_contest(\"d_congress\")\n",
    "#w.set_observations(42, 42, [17, 25])\n",
    "# test 5 - ok\n",
    "#w.load_contest(\"d_congress\")\n",
    "#w.set_observations(27, 27, [10, 17])\n",
    "#w.set_observations(27, 27, [10, 17])\n",
    "# test 6 \n",
    "#w.load_contest(\"d_congress\")\n",
    "#w.set_observations(31, 31, [12, 19])\n",
    "#w.set_observations(31, 31, [12, 19])\n",
    "# test7 \n",
    "#w.load_contest(\"d_senator\")\n",
    "#w.set_observations(17, 17, [11, 6])\n",
    "#w.set_observations(9, 9, [5, 4])\n",
    "#test8 - the same problem\n",
    "#w.load_contest(\"d_senator\")\n",
    "#w.set_observations(12, 12, [8, 4])\n",
    "#w.set_observations(12, 12, [8, 4])\n",
    "#test 9\n",
    "#w.load_contest(\"d_senator\")\n",
    "#w.set_observations(40, 40, [27, 13])\n",
    "#w.set_observations(40, 40, [27, 13])\n",
    "\n",
    "# minerva\n",
    "#w.load_contest(\"d_president\")\n",
    "#w.set_observations(100, 100, [0, 57, 0, 0, 0, 0, 0, 43, 0, 0, 0])\n",
    "# athena\n",
    "#w.load_contest(\"d_president\")\n",
    "#w.set_observations(100, 100, [0, 68, 0, 0, 0, 0, 0, 32, 0, 0, 0])\n",
    "# bravo\n",
    "#w.load_contest(\"d_president\")\n",
    "#w.set_observations(100, 100, [0, 70, 0, 0, 0, 0, 0, 30, 0, 0, 0])\n",
    "\n",
    "#w.load_contest(\"d_president\")\n",
    "#w.show_election_results()\n",
    "#print(w.predict_round_sizes([.7, .8, .9]))\n",
    "#w.set_observations(50, 19, [0, 11, 1, 0, 0, 0, 0, 6, 1, 0, 0])\n",
    "#w.set_observations(29, 10, [0, 8, 0, 0, 0, 0, 0, 2, 0, 0, 0])\n",
    "\n",
    "\n",
    "w.present_state()\n"
   ]
  },
  {
   "cell_type": "code",
   "execution_count": 14,
   "metadata": {},
   "outputs": [
    {
     "name": "stdout",
     "output_type": "stream",
     "text": [
      "\n",
      "\n",
      "\tRound: 1 audit failed\n",
      "\tLR:\t\t0.3445532574404275\t[needs to be > 1]\n",
      "\tDelta:\t\t2.9023089418125667\t[needs to be < 1]\n",
      "\tp-value:\t0.16832357772590958\t[needs to be <= 0.1]\n",
      "\tboth conditions are required to be satisfied.\n",
      "\n",
      "\n",
      "\tAudit Successfully completed!\n",
      "\tLR:\t\t11.612512467028404\t[needs to be > 1]\n",
      "\tp-value:\t0.06475239938147219\t[needs to be <= 0.1]\n"
     ]
    },
    {
     "data": {
      "text/html": [
       "<style  type=\"text/css\" >\n",
       "    #T_ce51ada6_960e_11ea_bb81_f3495aa2b3b0row1_col0 {\n",
       "            color:  blue;\n",
       "        }    #T_ce51ada6_960e_11ea_bb81_f3495aa2b3b0row1_col1 {\n",
       "            color:  blue;\n",
       "        }    #T_ce51ada6_960e_11ea_bb81_f3495aa2b3b0row1_col2 {\n",
       "            color:  blue;\n",
       "        }    #T_ce51ada6_960e_11ea_bb81_f3495aa2b3b0row1_col3 {\n",
       "            color:  blue;\n",
       "        }    #T_ce51ada6_960e_11ea_bb81_f3495aa2b3b0row1_col4 {\n",
       "            color:  blue;\n",
       "        }    #T_ce51ada6_960e_11ea_bb81_f3495aa2b3b0row1_col5 {\n",
       "            color:  blue;\n",
       "        }</style><table id=\"T_ce51ada6_960e_11ea_bb81_f3495aa2b3b0\" ><thead>    <tr>        <th class=\"blank level0\" ></th>        <th class=\"col_heading level0 col0\" >Candidates</th>        <th class=\"col_heading level0 col1\" >Results</th>        <th class=\"col_heading level0 col2\" >Round 1</th>        <th class=\"col_heading level0 col3\" >Round 2</th>        <th class=\"col_heading level0 col4\" >Total</th>        <th class=\"col_heading level0 col5\" >Required</th>    </tr></thead><tbody>\n",
       "                <tr>\n",
       "                        <th id=\"T_ce51ada6_960e_11ea_bb81_f3495aa2b3b0level0_row0\" class=\"row_heading level0 row0\" >0</th>\n",
       "                        <td id=\"T_ce51ada6_960e_11ea_bb81_f3495aa2b3b0row0_col0\" class=\"data row0 col0\" >Bennet</td>\n",
       "                        <td id=\"T_ce51ada6_960e_11ea_bb81_f3495aa2b3b0row0_col1\" class=\"data row0 col1\" >49</td>\n",
       "                        <td id=\"T_ce51ada6_960e_11ea_bb81_f3495aa2b3b0row0_col2\" class=\"data row0 col2\" >0</td>\n",
       "                        <td id=\"T_ce51ada6_960e_11ea_bb81_f3495aa2b3b0row0_col3\" class=\"data row0 col3\" >0</td>\n",
       "                        <td id=\"T_ce51ada6_960e_11ea_bb81_f3495aa2b3b0row0_col4\" class=\"data row0 col4\" >0</td>\n",
       "                        <td id=\"T_ce51ada6_960e_11ea_bb81_f3495aa2b3b0row0_col5\" class=\"data row0 col5\" > </td>\n",
       "            </tr>\n",
       "            <tr>\n",
       "                        <th id=\"T_ce51ada6_960e_11ea_bb81_f3495aa2b3b0level0_row1\" class=\"row_heading level0 row1\" >1</th>\n",
       "                        <td id=\"T_ce51ada6_960e_11ea_bb81_f3495aa2b3b0row1_col0\" class=\"data row1 col0\" >Biden</td>\n",
       "                        <td id=\"T_ce51ada6_960e_11ea_bb81_f3495aa2b3b0row1_col1\" class=\"data row1 col1\" >28135</td>\n",
       "                        <td id=\"T_ce51ada6_960e_11ea_bb81_f3495aa2b3b0row1_col2\" class=\"data row1 col2\" >11</td>\n",
       "                        <td id=\"T_ce51ada6_960e_11ea_bb81_f3495aa2b3b0row1_col3\" class=\"data row1 col3\" >9</td>\n",
       "                        <td id=\"T_ce51ada6_960e_11ea_bb81_f3495aa2b3b0row1_col4\" class=\"data row1 col4\" >20</td>\n",
       "                        <td id=\"T_ce51ada6_960e_11ea_bb81_f3495aa2b3b0row1_col5\" class=\"data row1 col5\" >20</td>\n",
       "            </tr>\n",
       "            <tr>\n",
       "                        <th id=\"T_ce51ada6_960e_11ea_bb81_f3495aa2b3b0level0_row2\" class=\"row_heading level0 row2\" >2</th>\n",
       "                        <td id=\"T_ce51ada6_960e_11ea_bb81_f3495aa2b3b0row2_col0\" class=\"data row2 col0\" >Bloomberg</td>\n",
       "                        <td id=\"T_ce51ada6_960e_11ea_bb81_f3495aa2b3b0row2_col1\" class=\"data row2 col1\" >682</td>\n",
       "                        <td id=\"T_ce51ada6_960e_11ea_bb81_f3495aa2b3b0row2_col2\" class=\"data row2 col2\" >1</td>\n",
       "                        <td id=\"T_ce51ada6_960e_11ea_bb81_f3495aa2b3b0row2_col3\" class=\"data row2 col3\" >0</td>\n",
       "                        <td id=\"T_ce51ada6_960e_11ea_bb81_f3495aa2b3b0row2_col4\" class=\"data row2 col4\" >1</td>\n",
       "                        <td id=\"T_ce51ada6_960e_11ea_bb81_f3495aa2b3b0row2_col5\" class=\"data row2 col5\" > </td>\n",
       "            </tr>\n",
       "            <tr>\n",
       "                        <th id=\"T_ce51ada6_960e_11ea_bb81_f3495aa2b3b0level0_row3\" class=\"row_heading level0 row3\" >3</th>\n",
       "                        <td id=\"T_ce51ada6_960e_11ea_bb81_f3495aa2b3b0row3_col0\" class=\"data row3 col0\" >Buttigieg</td>\n",
       "                        <td id=\"T_ce51ada6_960e_11ea_bb81_f3495aa2b3b0row3_col1\" class=\"data row3 col1\" >509</td>\n",
       "                        <td id=\"T_ce51ada6_960e_11ea_bb81_f3495aa2b3b0row3_col2\" class=\"data row3 col2\" >2</td>\n",
       "                        <td id=\"T_ce51ada6_960e_11ea_bb81_f3495aa2b3b0row3_col3\" class=\"data row3 col3\" >0</td>\n",
       "                        <td id=\"T_ce51ada6_960e_11ea_bb81_f3495aa2b3b0row3_col4\" class=\"data row3 col4\" >2</td>\n",
       "                        <td id=\"T_ce51ada6_960e_11ea_bb81_f3495aa2b3b0row3_col5\" class=\"data row3 col5\" > </td>\n",
       "            </tr>\n",
       "            <tr>\n",
       "                        <th id=\"T_ce51ada6_960e_11ea_bb81_f3495aa2b3b0level0_row4\" class=\"row_heading level0 row4\" >4</th>\n",
       "                        <td id=\"T_ce51ada6_960e_11ea_bb81_f3495aa2b3b0row4_col0\" class=\"data row4 col0\" >Gabbard</td>\n",
       "                        <td id=\"T_ce51ada6_960e_11ea_bb81_f3495aa2b3b0row4_col1\" class=\"data row4 col1\" >130</td>\n",
       "                        <td id=\"T_ce51ada6_960e_11ea_bb81_f3495aa2b3b0row4_col2\" class=\"data row4 col2\" >0</td>\n",
       "                        <td id=\"T_ce51ada6_960e_11ea_bb81_f3495aa2b3b0row4_col3\" class=\"data row4 col3\" >0</td>\n",
       "                        <td id=\"T_ce51ada6_960e_11ea_bb81_f3495aa2b3b0row4_col4\" class=\"data row4 col4\" >0</td>\n",
       "                        <td id=\"T_ce51ada6_960e_11ea_bb81_f3495aa2b3b0row4_col5\" class=\"data row4 col5\" > </td>\n",
       "            </tr>\n",
       "            <tr>\n",
       "                        <th id=\"T_ce51ada6_960e_11ea_bb81_f3495aa2b3b0level0_row5\" class=\"row_heading level0 row5\" >5</th>\n",
       "                        <td id=\"T_ce51ada6_960e_11ea_bb81_f3495aa2b3b0row5_col0\" class=\"data row5 col0\" >Klobuchar</td>\n",
       "                        <td id=\"T_ce51ada6_960e_11ea_bb81_f3495aa2b3b0row5_col1\" class=\"data row5 col1\" >396</td>\n",
       "                        <td id=\"T_ce51ada6_960e_11ea_bb81_f3495aa2b3b0row5_col2\" class=\"data row5 col2\" >0</td>\n",
       "                        <td id=\"T_ce51ada6_960e_11ea_bb81_f3495aa2b3b0row5_col3\" class=\"data row5 col3\" >0</td>\n",
       "                        <td id=\"T_ce51ada6_960e_11ea_bb81_f3495aa2b3b0row5_col4\" class=\"data row5 col4\" >0</td>\n",
       "                        <td id=\"T_ce51ada6_960e_11ea_bb81_f3495aa2b3b0row5_col5\" class=\"data row5 col5\" > </td>\n",
       "            </tr>\n",
       "            <tr>\n",
       "                        <th id=\"T_ce51ada6_960e_11ea_bb81_f3495aa2b3b0level0_row6\" class=\"row_heading level0 row6\" >6</th>\n",
       "                        <td id=\"T_ce51ada6_960e_11ea_bb81_f3495aa2b3b0row6_col0\" class=\"data row6 col0\" >Patrick</td>\n",
       "                        <td id=\"T_ce51ada6_960e_11ea_bb81_f3495aa2b3b0row6_col1\" class=\"data row6 col1\" >23</td>\n",
       "                        <td id=\"T_ce51ada6_960e_11ea_bb81_f3495aa2b3b0row6_col2\" class=\"data row6 col2\" >0</td>\n",
       "                        <td id=\"T_ce51ada6_960e_11ea_bb81_f3495aa2b3b0row6_col3\" class=\"data row6 col3\" >0</td>\n",
       "                        <td id=\"T_ce51ada6_960e_11ea_bb81_f3495aa2b3b0row6_col4\" class=\"data row6 col4\" >0</td>\n",
       "                        <td id=\"T_ce51ada6_960e_11ea_bb81_f3495aa2b3b0row6_col5\" class=\"data row6 col5\" > </td>\n",
       "            </tr>\n",
       "            <tr>\n",
       "                        <th id=\"T_ce51ada6_960e_11ea_bb81_f3495aa2b3b0level0_row7\" class=\"row_heading level0 row7\" >7</th>\n",
       "                        <td id=\"T_ce51ada6_960e_11ea_bb81_f3495aa2b3b0row7_col0\" class=\"data row7 col0\" >Sanders</td>\n",
       "                        <td id=\"T_ce51ada6_960e_11ea_bb81_f3495aa2b3b0row7_col1\" class=\"data row7 col1\" >5466</td>\n",
       "                        <td id=\"T_ce51ada6_960e_11ea_bb81_f3495aa2b3b0row7_col2\" class=\"data row7 col2\" >6</td>\n",
       "                        <td id=\"T_ce51ada6_960e_11ea_bb81_f3495aa2b3b0row7_col3\" class=\"data row7 col3\" >1</td>\n",
       "                        <td id=\"T_ce51ada6_960e_11ea_bb81_f3495aa2b3b0row7_col4\" class=\"data row7 col4\" >7</td>\n",
       "                        <td id=\"T_ce51ada6_960e_11ea_bb81_f3495aa2b3b0row7_col5\" class=\"data row7 col5\" > </td>\n",
       "            </tr>\n",
       "            <tr>\n",
       "                        <th id=\"T_ce51ada6_960e_11ea_bb81_f3495aa2b3b0level0_row8\" class=\"row_heading level0 row8\" >8</th>\n",
       "                        <td id=\"T_ce51ada6_960e_11ea_bb81_f3495aa2b3b0row8_col0\" class=\"data row8 col0\" >Steyer</td>\n",
       "                        <td id=\"T_ce51ada6_960e_11ea_bb81_f3495aa2b3b0row8_col1\" class=\"data row8 col1\" >57</td>\n",
       "                        <td id=\"T_ce51ada6_960e_11ea_bb81_f3495aa2b3b0row8_col2\" class=\"data row8 col2\" >1</td>\n",
       "                        <td id=\"T_ce51ada6_960e_11ea_bb81_f3495aa2b3b0row8_col3\" class=\"data row8 col3\" >0</td>\n",
       "                        <td id=\"T_ce51ada6_960e_11ea_bb81_f3495aa2b3b0row8_col4\" class=\"data row8 col4\" >1</td>\n",
       "                        <td id=\"T_ce51ada6_960e_11ea_bb81_f3495aa2b3b0row8_col5\" class=\"data row8 col5\" > </td>\n",
       "            </tr>\n",
       "            <tr>\n",
       "                        <th id=\"T_ce51ada6_960e_11ea_bb81_f3495aa2b3b0level0_row9\" class=\"row_heading level0 row9\" >9</th>\n",
       "                        <td id=\"T_ce51ada6_960e_11ea_bb81_f3495aa2b3b0row9_col0\" class=\"data row9 col0\" >Warren</td>\n",
       "                        <td id=\"T_ce51ada6_960e_11ea_bb81_f3495aa2b3b0row9_col1\" class=\"data row9 col1\" >1074</td>\n",
       "                        <td id=\"T_ce51ada6_960e_11ea_bb81_f3495aa2b3b0row9_col2\" class=\"data row9 col2\" >0</td>\n",
       "                        <td id=\"T_ce51ada6_960e_11ea_bb81_f3495aa2b3b0row9_col3\" class=\"data row9 col3\" >0</td>\n",
       "                        <td id=\"T_ce51ada6_960e_11ea_bb81_f3495aa2b3b0row9_col4\" class=\"data row9 col4\" >0</td>\n",
       "                        <td id=\"T_ce51ada6_960e_11ea_bb81_f3495aa2b3b0row9_col5\" class=\"data row9 col5\" > </td>\n",
       "            </tr>\n",
       "            <tr>\n",
       "                        <th id=\"T_ce51ada6_960e_11ea_bb81_f3495aa2b3b0level0_row10\" class=\"row_heading level0 row10\" >10</th>\n",
       "                        <td id=\"T_ce51ada6_960e_11ea_bb81_f3495aa2b3b0row10_col0\" class=\"data row10 col0\" >Write_Ins</td>\n",
       "                        <td id=\"T_ce51ada6_960e_11ea_bb81_f3495aa2b3b0row10_col1\" class=\"data row10 col1\" >94</td>\n",
       "                        <td id=\"T_ce51ada6_960e_11ea_bb81_f3495aa2b3b0row10_col2\" class=\"data row10 col2\" >0</td>\n",
       "                        <td id=\"T_ce51ada6_960e_11ea_bb81_f3495aa2b3b0row10_col3\" class=\"data row10 col3\" >0</td>\n",
       "                        <td id=\"T_ce51ada6_960e_11ea_bb81_f3495aa2b3b0row10_col4\" class=\"data row10 col4\" >0</td>\n",
       "                        <td id=\"T_ce51ada6_960e_11ea_bb81_f3495aa2b3b0row10_col5\" class=\"data row10 col5\" > </td>\n",
       "            </tr>\n",
       "            <tr>\n",
       "                        <th id=\"T_ce51ada6_960e_11ea_bb81_f3495aa2b3b0level0_row11\" class=\"row_heading level0 row11\" >11</th>\n",
       "                        <td id=\"T_ce51ada6_960e_11ea_bb81_f3495aa2b3b0row11_col0\" class=\"data row11 col0\" > </td>\n",
       "                        <td id=\"T_ce51ada6_960e_11ea_bb81_f3495aa2b3b0row11_col1\" class=\"data row11 col1\" >Sum</td>\n",
       "                        <td id=\"T_ce51ada6_960e_11ea_bb81_f3495aa2b3b0row11_col2\" class=\"data row11 col2\" >21</td>\n",
       "                        <td id=\"T_ce51ada6_960e_11ea_bb81_f3495aa2b3b0row11_col3\" class=\"data row11 col3\" >10</td>\n",
       "                        <td id=\"T_ce51ada6_960e_11ea_bb81_f3495aa2b3b0row11_col4\" class=\"data row11 col4\" > </td>\n",
       "                        <td id=\"T_ce51ada6_960e_11ea_bb81_f3495aa2b3b0row11_col5\" class=\"data row11 col5\" > </td>\n",
       "            </tr>\n",
       "            <tr>\n",
       "                        <th id=\"T_ce51ada6_960e_11ea_bb81_f3495aa2b3b0level0_row12\" class=\"row_heading level0 row12\" >12</th>\n",
       "                        <td id=\"T_ce51ada6_960e_11ea_bb81_f3495aa2b3b0row12_col0\" class=\"data row12 col0\" > </td>\n",
       "                        <td id=\"T_ce51ada6_960e_11ea_bb81_f3495aa2b3b0row12_col1\" class=\"data row12 col1\" >LR</td>\n",
       "                        <td id=\"T_ce51ada6_960e_11ea_bb81_f3495aa2b3b0row12_col2\" class=\"data row12 col2\" >0.3446</td>\n",
       "                        <td id=\"T_ce51ada6_960e_11ea_bb81_f3495aa2b3b0row12_col3\" class=\"data row12 col3\" >11.6125</td>\n",
       "                        <td id=\"T_ce51ada6_960e_11ea_bb81_f3495aa2b3b0row12_col4\" class=\"data row12 col4\" > </td>\n",
       "                        <td id=\"T_ce51ada6_960e_11ea_bb81_f3495aa2b3b0row12_col5\" class=\"data row12 col5\" > </td>\n",
       "            </tr>\n",
       "            <tr>\n",
       "                        <th id=\"T_ce51ada6_960e_11ea_bb81_f3495aa2b3b0level0_row13\" class=\"row_heading level0 row13\" >13</th>\n",
       "                        <td id=\"T_ce51ada6_960e_11ea_bb81_f3495aa2b3b0row13_col0\" class=\"data row13 col0\" > </td>\n",
       "                        <td id=\"T_ce51ada6_960e_11ea_bb81_f3495aa2b3b0row13_col1\" class=\"data row13 col1\" >P-Value</td>\n",
       "                        <td id=\"T_ce51ada6_960e_11ea_bb81_f3495aa2b3b0row13_col2\" class=\"data row13 col2\" >0.1683</td>\n",
       "                        <td id=\"T_ce51ada6_960e_11ea_bb81_f3495aa2b3b0row13_col3\" class=\"data row13 col3\" >0.0648</td>\n",
       "                        <td id=\"T_ce51ada6_960e_11ea_bb81_f3495aa2b3b0row13_col4\" class=\"data row13 col4\" > </td>\n",
       "                        <td id=\"T_ce51ada6_960e_11ea_bb81_f3495aa2b3b0row13_col5\" class=\"data row13 col5\" > </td>\n",
       "            </tr>\n",
       "    </tbody></table>"
      ],
      "text/plain": [
       "<pandas.io.formats.style.Styler at 0x7f8d6921a890>"
      ]
     },
     "execution_count": 14,
     "metadata": {},
     "output_type": "execute_result"
    }
   ],
   "source": [
    "w = Audit(\"athena\", risk_limit)\n",
    "w.read_election_results(election_results)\n",
    "w.load_contest(\"d_president\")\n",
    "#w.show_election_results()\n",
    "w.set_observations(50, 21, [0, 11, 1, 2, 0, 0, 0, 6, 1, 0, 0])\n",
    "w.set_observations(29, 10, [0, 9, 0, 0, 0, 0, 0, 1, 0, 0, 0])\n",
    "\n",
    "\n",
    "w.present_state()\n"
   ]
  },
  {
   "cell_type": "code",
   "execution_count": 13,
   "metadata": {},
   "outputs": [
    {
     "data": {
      "text/plain": [
       "33601"
      ]
     },
     "execution_count": 13,
     "metadata": {},
     "output_type": "execute_result"
    }
   ],
   "source": [
    "28135+5466\t"
   ]
  },
  {
   "cell_type": "code",
   "execution_count": null,
   "metadata": {
    "cell_style": "center",
    "slideshow": {
     "slide_type": "slide"
    }
   },
   "outputs": [],
   "source": []
  },
  {
   "cell_type": "code",
   "execution_count": null,
   "metadata": {},
   "outputs": [],
   "source": [
    "w.run_audit_round()\n",
    "w.present_state()"
   ]
  },
  {
   "cell_type": "code",
   "execution_count": null,
   "metadata": {},
   "outputs": [],
   "source": [
    "bravoPres = [[20, 7, 0.09, 1], [19, 8, 0.44, 0], [18, 9, 2.28, 0], [17, 10, 11.74, 0]]"
   ]
  },
  {
   "cell_type": "code",
   "execution_count": null,
   "metadata": {},
   "outputs": [],
   "source": []
  }
 ],
 "metadata": {
  "celltoolbar": "Slideshow",
  "kernelspec": {
   "display_name": "Python 3",
   "language": "python",
   "name": "python3"
  },
  "language_info": {
   "codemirror_mode": {
    "name": "ipython",
    "version": 3
   },
   "file_extension": ".py",
   "mimetype": "text/x-python",
   "name": "python",
   "nbconvert_exporter": "python",
   "pygments_lexer": "ipython3",
   "version": "3.7.6"
  }
 },
 "nbformat": 4,
 "nbformat_minor": 4
}
