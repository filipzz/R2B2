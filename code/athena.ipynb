{
 "cells": [
  {
   "cell_type": "markdown",
   "metadata": {},
   "source": [
    "# The required imports"
   ]
  },
  {
   "cell_type": "code",
   "execution_count": 1,
   "metadata": {
    "slideshow": {
     "slide_type": "slide"
    }
   },
   "outputs": [],
   "source": [
    "# we either import locally (after the repo was cloned)\n",
    "# or we first clone it and then use it (e.g., when run in Google Colab)\n",
    "shell = get_ipython().__class__.__name__ \n",
    "\n",
    "if shell == 'Shell':\n",
    "    # imports when launched in e.g., Google Colab\n",
    "    !git clone https://github.com/filipzz/athena.git r2b2\n",
    "    from r2b2.code.athena.athena import AthenaAudit\n",
    "    from r2b2.code.athena.contest import Contest\n",
    "    from r2b2.code.athena.audit import Audit\n",
    "else: # shell ==  'ZMQInteractiveShell' or shell == 'TerminalInteractiveShell'\n",
    "    # local imports if you run it with e.g., Jupyter\n",
    "    from athena.athena import AthenaAudit\n",
    "    from athena.contest import Contest\n",
    "    from athena.audit import Audit\n",
    "\n",
    "import pandas as pd"
   ]
  },
  {
   "cell_type": "markdown",
   "metadata": {},
   "source": [
    "# Setting risk limit"
   ]
  },
  {
   "cell_type": "code",
   "execution_count": 2,
   "metadata": {
    "cell_style": "center",
    "slideshow": {
     "slide_type": "slide"
    }
   },
   "outputs": [],
   "source": [
    "# Set risk limit of the audit\n",
    "risk_limit = 0.1 "
   ]
  },
  {
   "cell_type": "markdown",
   "metadata": {},
   "source": [
    "# Loading data from a file"
   ]
  },
  {
   "cell_type": "code",
   "execution_count": 3,
   "metadata": {
    "cell_style": "center",
    "slideshow": {
     "slide_type": "fragment"
    }
   },
   "outputs": [],
   "source": [
    "# address of the file with election results the file can be either\n",
    "# an url:\n",
    "#election_results = \"https://raw.githubusercontent.com/gwexploratoryaudits/brla_explore/poorvi/R2Audits/Athena/Scripts/2020MontgomeryPrimary/2020_montgomery_formatted.json\"\n",
    "# or a local file:\n",
    "#election_results = \"athena/test_data/simple.json\"\n",
    "#contest_name = \"contest_1\"\n",
    "#another example\n",
    "election_results = \"athena/test_data/2020_montgomery_formatted.json\"\n",
    "contest_name = \"d_president\""
   ]
  },
  {
   "cell_type": "markdown",
   "metadata": {},
   "source": [
    "# Check if the load is successful"
   ]
  },
  {
   "cell_type": "code",
   "execution_count": 4,
   "metadata": {
    "cell_style": "center",
    "slideshow": {
     "slide_type": "fragment"
    }
   },
   "outputs": [],
   "source": [
    "\n",
    "w = Audit(\"athena\", risk_limit)\n",
    "\n",
    "w.read_election_results(election_results)"
   ]
  },
  {
   "cell_type": "code",
   "execution_count": 5,
   "metadata": {},
   "outputs": [
    {
     "name": "stdout",
     "output_type": "stream",
     "text": [
      "{'d_president': [[], [], [], [], [], [], [], [], [], [], []], 'd_congress': [[], []], 'd_senator': [[], []], 'd_cc_1_2_2021': [[], []], 'd_cc_1_3_2021': [[], []], 'r_10th': [[], [], []], 'r_senator': [[], [], []], 'r_42nd': [[], []], 'r_cc_1_2_2021': [[], []]}\n"
     ]
    }
   ],
   "source": [
    "print(w.observations)"
   ]
  },
  {
   "cell_type": "code",
   "execution_count": 6,
   "metadata": {},
   "outputs": [
    {
     "data": {
      "text/html": [
       "<style  type=\"text/css\" >\n",
       "    #T_c8bdf614_f753_11ea_a7fc_3024328316f2row1_col0 {\n",
       "            color:  green;\n",
       "        }    #T_c8bdf614_f753_11ea_a7fc_3024328316f2row1_col1 {\n",
       "            color:  green;\n",
       "        }</style>  \n",
       "<table id=\"T_c8bdf614_f753_11ea_a7fc_3024328316f2\" > \n",
       "<thead>    <tr> \n",
       "        <th class=\"blank level0\" ></th> \n",
       "        <th class=\"col_heading level0 col0\" >Candidates</th> \n",
       "        <th class=\"col_heading level0 col1\" >Results</th> \n",
       "    </tr></thead> \n",
       "<tbody>    <tr> \n",
       "        <th id=\"T_c8bdf614_f753_11ea_a7fc_3024328316f2level0_row0\" class=\"row_heading level0 row0\" >0</th> \n",
       "        <td id=\"T_c8bdf614_f753_11ea_a7fc_3024328316f2row0_col0\" class=\"data row0 col0\" >Bennet</td> \n",
       "        <td id=\"T_c8bdf614_f753_11ea_a7fc_3024328316f2row0_col1\" class=\"data row0 col1\" >49</td> \n",
       "    </tr>    <tr> \n",
       "        <th id=\"T_c8bdf614_f753_11ea_a7fc_3024328316f2level0_row1\" class=\"row_heading level0 row1\" >1</th> \n",
       "        <td id=\"T_c8bdf614_f753_11ea_a7fc_3024328316f2row1_col0\" class=\"data row1 col0\" >Biden</td> \n",
       "        <td id=\"T_c8bdf614_f753_11ea_a7fc_3024328316f2row1_col1\" class=\"data row1 col1\" >28135</td> \n",
       "    </tr>    <tr> \n",
       "        <th id=\"T_c8bdf614_f753_11ea_a7fc_3024328316f2level0_row2\" class=\"row_heading level0 row2\" >2</th> \n",
       "        <td id=\"T_c8bdf614_f753_11ea_a7fc_3024328316f2row2_col0\" class=\"data row2 col0\" >Bloomberg</td> \n",
       "        <td id=\"T_c8bdf614_f753_11ea_a7fc_3024328316f2row2_col1\" class=\"data row2 col1\" >682</td> \n",
       "    </tr>    <tr> \n",
       "        <th id=\"T_c8bdf614_f753_11ea_a7fc_3024328316f2level0_row3\" class=\"row_heading level0 row3\" >3</th> \n",
       "        <td id=\"T_c8bdf614_f753_11ea_a7fc_3024328316f2row3_col0\" class=\"data row3 col0\" >Buttigieg</td> \n",
       "        <td id=\"T_c8bdf614_f753_11ea_a7fc_3024328316f2row3_col1\" class=\"data row3 col1\" >509</td> \n",
       "    </tr>    <tr> \n",
       "        <th id=\"T_c8bdf614_f753_11ea_a7fc_3024328316f2level0_row4\" class=\"row_heading level0 row4\" >4</th> \n",
       "        <td id=\"T_c8bdf614_f753_11ea_a7fc_3024328316f2row4_col0\" class=\"data row4 col0\" >Gabbard</td> \n",
       "        <td id=\"T_c8bdf614_f753_11ea_a7fc_3024328316f2row4_col1\" class=\"data row4 col1\" >130</td> \n",
       "    </tr>    <tr> \n",
       "        <th id=\"T_c8bdf614_f753_11ea_a7fc_3024328316f2level0_row5\" class=\"row_heading level0 row5\" >5</th> \n",
       "        <td id=\"T_c8bdf614_f753_11ea_a7fc_3024328316f2row5_col0\" class=\"data row5 col0\" >Klobuchar</td> \n",
       "        <td id=\"T_c8bdf614_f753_11ea_a7fc_3024328316f2row5_col1\" class=\"data row5 col1\" >396</td> \n",
       "    </tr>    <tr> \n",
       "        <th id=\"T_c8bdf614_f753_11ea_a7fc_3024328316f2level0_row6\" class=\"row_heading level0 row6\" >6</th> \n",
       "        <td id=\"T_c8bdf614_f753_11ea_a7fc_3024328316f2row6_col0\" class=\"data row6 col0\" >Patrick</td> \n",
       "        <td id=\"T_c8bdf614_f753_11ea_a7fc_3024328316f2row6_col1\" class=\"data row6 col1\" >23</td> \n",
       "    </tr>    <tr> \n",
       "        <th id=\"T_c8bdf614_f753_11ea_a7fc_3024328316f2level0_row7\" class=\"row_heading level0 row7\" >7</th> \n",
       "        <td id=\"T_c8bdf614_f753_11ea_a7fc_3024328316f2row7_col0\" class=\"data row7 col0\" >Sanders</td> \n",
       "        <td id=\"T_c8bdf614_f753_11ea_a7fc_3024328316f2row7_col1\" class=\"data row7 col1\" >5466</td> \n",
       "    </tr>    <tr> \n",
       "        <th id=\"T_c8bdf614_f753_11ea_a7fc_3024328316f2level0_row8\" class=\"row_heading level0 row8\" >8</th> \n",
       "        <td id=\"T_c8bdf614_f753_11ea_a7fc_3024328316f2row8_col0\" class=\"data row8 col0\" >Steyer</td> \n",
       "        <td id=\"T_c8bdf614_f753_11ea_a7fc_3024328316f2row8_col1\" class=\"data row8 col1\" >57</td> \n",
       "    </tr>    <tr> \n",
       "        <th id=\"T_c8bdf614_f753_11ea_a7fc_3024328316f2level0_row9\" class=\"row_heading level0 row9\" >9</th> \n",
       "        <td id=\"T_c8bdf614_f753_11ea_a7fc_3024328316f2row9_col0\" class=\"data row9 col0\" >Warren</td> \n",
       "        <td id=\"T_c8bdf614_f753_11ea_a7fc_3024328316f2row9_col1\" class=\"data row9 col1\" >1074</td> \n",
       "    </tr>    <tr> \n",
       "        <th id=\"T_c8bdf614_f753_11ea_a7fc_3024328316f2level0_row10\" class=\"row_heading level0 row10\" >10</th> \n",
       "        <td id=\"T_c8bdf614_f753_11ea_a7fc_3024328316f2row10_col0\" class=\"data row10 col0\" >Write_Ins</td> \n",
       "        <td id=\"T_c8bdf614_f753_11ea_a7fc_3024328316f2row10_col1\" class=\"data row10 col1\" >94</td> \n",
       "    </tr></tbody> \n",
       "</table> "
      ],
      "text/plain": [
       "<pandas.io.formats.style.Styler at 0x7fd44871a048>"
      ]
     },
     "execution_count": 6,
     "metadata": {},
     "output_type": "execute_result"
    }
   ],
   "source": [
    "w.load_contest(contest_name)\n",
    "w.show_election_results()"
   ]
  },
  {
   "cell_type": "markdown",
   "metadata": {},
   "source": [
    "# Example - running an audit"
   ]
  },
  {
   "cell_type": "code",
   "execution_count": 7,
   "metadata": {},
   "outputs": [
    {
     "name": "stdout",
     "output_type": "stream",
     "text": [
      "[[0.7, 21], [0.8, 25], [0.9, 29]]\n"
     ]
    }
   ],
   "source": [
    "# create an Audit object with risk_limit\n",
    "w = Audit(\"athena\", risk_limit)\n",
    "\n",
    "# read data from a file\n",
    "w.read_election_results(election_results)\n",
    "\n",
    "# load selected contest\n",
    "w.load_contest(contest_name)\n",
    "\n",
    "# predict round sizes\n",
    "print(w.predict_round_sizes([.7, .8, .9]))\n",
    "\n",
    "# set observations: \n",
    "# * number of total ballots drawn in the round\n",
    "# * number of relevant ballots for the contest\n",
    "# * a list of votes sampled for each candidate\n",
    "#w.set_observations(50, 19, [0, 11, 0, 1, 0, 0, 0, 6, 1, 0, 0])\n",
    "#print(w.predict_round_sizes([.7, .8, .9]))\n",
    "# results for the second round:\n",
    "#w.set_observations(29, 10, [0, 6, 0, 0, 0, 0, 0, 4, 0, 0, 0])\n",
    "#w.present_state()\n"
   ]
  },
  {
   "cell_type": "markdown",
   "metadata": {},
   "source": [
    "# More examples\n",
    "\n",
    "You may compare with data from: [https://github.com/gwexploratoryaudits/brla_explore/blob/poorvi/R2Audits/Athena/Scripts/2020MontgomeryPrimary/2020_montgomery_pvalue_multiple_round_tests.json](https://github.com/gwexploratoryaudits/brla_explore/blob/poorvi/R2Audits/Athena/Scripts/2020MontgomeryPrimary/2020_montgomery_pvalue_multiple_round_tests.json)"
   ]
  },
  {
   "cell_type": "code",
   "execution_count": 8,
   "metadata": {},
   "outputs": [
    {
     "data": {
      "text/html": [
       "<style  type=\"text/css\" >\n",
       "    #T_cd948694_f753_11ea_a7fc_3024328316f2row1_col0 {\n",
       "            color:  blue;\n",
       "        }    #T_cd948694_f753_11ea_a7fc_3024328316f2row1_col1 {\n",
       "            color:  blue;\n",
       "        }    #T_cd948694_f753_11ea_a7fc_3024328316f2row1_col2 {\n",
       "            color:  blue;\n",
       "        }    #T_cd948694_f753_11ea_a7fc_3024328316f2row1_col3 {\n",
       "            color:  blue;\n",
       "        }    #T_cd948694_f753_11ea_a7fc_3024328316f2row1_col4 {\n",
       "            color:  blue;\n",
       "        }    #T_cd948694_f753_11ea_a7fc_3024328316f2row1_col5 {\n",
       "            color:  blue;\n",
       "        }    #T_cd948694_f753_11ea_a7fc_3024328316f2row1_col6 {\n",
       "            color:  blue;\n",
       "        }</style>  \n",
       "<table id=\"T_cd948694_f753_11ea_a7fc_3024328316f2\" > \n",
       "<thead>    <tr> \n",
       "        <th class=\"blank level0\" ></th> \n",
       "        <th class=\"col_heading level0 col0\" >Candidates</th> \n",
       "        <th class=\"col_heading level0 col1\" >Results</th> \n",
       "        <th class=\"col_heading level0 col2\" >Round 1</th> \n",
       "        <th class=\"col_heading level0 col3\" >Round 2</th> \n",
       "        <th class=\"col_heading level0 col4\" >Round 3</th> \n",
       "        <th class=\"col_heading level0 col5\" >Total</th> \n",
       "        <th class=\"col_heading level0 col6\" >Required</th> \n",
       "    </tr></thead> \n",
       "<tbody>    <tr> \n",
       "        <th id=\"T_cd948694_f753_11ea_a7fc_3024328316f2level0_row0\" class=\"row_heading level0 row0\" >0</th> \n",
       "        <td id=\"T_cd948694_f753_11ea_a7fc_3024328316f2row0_col0\" class=\"data row0 col0\" >Bennet</td> \n",
       "        <td id=\"T_cd948694_f753_11ea_a7fc_3024328316f2row0_col1\" class=\"data row0 col1\" >49</td> \n",
       "        <td id=\"T_cd948694_f753_11ea_a7fc_3024328316f2row0_col2\" class=\"data row0 col2\" >0</td> \n",
       "        <td id=\"T_cd948694_f753_11ea_a7fc_3024328316f2row0_col3\" class=\"data row0 col3\" >0</td> \n",
       "        <td id=\"T_cd948694_f753_11ea_a7fc_3024328316f2row0_col4\" class=\"data row0 col4\" >1</td> \n",
       "        <td id=\"T_cd948694_f753_11ea_a7fc_3024328316f2row0_col5\" class=\"data row0 col5\" >1</td> \n",
       "        <td id=\"T_cd948694_f753_11ea_a7fc_3024328316f2row0_col6\" class=\"data row0 col6\" > </td> \n",
       "    </tr>    <tr> \n",
       "        <th id=\"T_cd948694_f753_11ea_a7fc_3024328316f2level0_row1\" class=\"row_heading level0 row1\" >1</th> \n",
       "        <td id=\"T_cd948694_f753_11ea_a7fc_3024328316f2row1_col0\" class=\"data row1 col0\" >Biden</td> \n",
       "        <td id=\"T_cd948694_f753_11ea_a7fc_3024328316f2row1_col1\" class=\"data row1 col1\" >28135</td> \n",
       "        <td id=\"T_cd948694_f753_11ea_a7fc_3024328316f2row1_col2\" class=\"data row1 col2\" >11</td> \n",
       "        <td id=\"T_cd948694_f753_11ea_a7fc_3024328316f2row1_col3\" class=\"data row1 col3\" >6</td> \n",
       "        <td id=\"T_cd948694_f753_11ea_a7fc_3024328316f2row1_col4\" class=\"data row1 col4\" >1</td> \n",
       "        <td id=\"T_cd948694_f753_11ea_a7fc_3024328316f2row1_col5\" class=\"data row1 col5\" >18</td> \n",
       "        <td id=\"T_cd948694_f753_11ea_a7fc_3024328316f2row1_col6\" class=\"data row1 col6\" >24</td> \n",
       "    </tr>    <tr> \n",
       "        <th id=\"T_cd948694_f753_11ea_a7fc_3024328316f2level0_row2\" class=\"row_heading level0 row2\" >2</th> \n",
       "        <td id=\"T_cd948694_f753_11ea_a7fc_3024328316f2row2_col0\" class=\"data row2 col0\" >Bloomberg</td> \n",
       "        <td id=\"T_cd948694_f753_11ea_a7fc_3024328316f2row2_col1\" class=\"data row2 col1\" >682</td> \n",
       "        <td id=\"T_cd948694_f753_11ea_a7fc_3024328316f2row2_col2\" class=\"data row2 col2\" >1</td> \n",
       "        <td id=\"T_cd948694_f753_11ea_a7fc_3024328316f2row2_col3\" class=\"data row2 col3\" >0</td> \n",
       "        <td id=\"T_cd948694_f753_11ea_a7fc_3024328316f2row2_col4\" class=\"data row2 col4\" >1</td> \n",
       "        <td id=\"T_cd948694_f753_11ea_a7fc_3024328316f2row2_col5\" class=\"data row2 col5\" >2</td> \n",
       "        <td id=\"T_cd948694_f753_11ea_a7fc_3024328316f2row2_col6\" class=\"data row2 col6\" > </td> \n",
       "    </tr>    <tr> \n",
       "        <th id=\"T_cd948694_f753_11ea_a7fc_3024328316f2level0_row3\" class=\"row_heading level0 row3\" >3</th> \n",
       "        <td id=\"T_cd948694_f753_11ea_a7fc_3024328316f2row3_col0\" class=\"data row3 col0\" >Buttigieg</td> \n",
       "        <td id=\"T_cd948694_f753_11ea_a7fc_3024328316f2row3_col1\" class=\"data row3 col1\" >509</td> \n",
       "        <td id=\"T_cd948694_f753_11ea_a7fc_3024328316f2row3_col2\" class=\"data row3 col2\" >0</td> \n",
       "        <td id=\"T_cd948694_f753_11ea_a7fc_3024328316f2row3_col3\" class=\"data row3 col3\" >0</td> \n",
       "        <td id=\"T_cd948694_f753_11ea_a7fc_3024328316f2row3_col4\" class=\"data row3 col4\" >1</td> \n",
       "        <td id=\"T_cd948694_f753_11ea_a7fc_3024328316f2row3_col5\" class=\"data row3 col5\" >1</td> \n",
       "        <td id=\"T_cd948694_f753_11ea_a7fc_3024328316f2row3_col6\" class=\"data row3 col6\" > </td> \n",
       "    </tr>    <tr> \n",
       "        <th id=\"T_cd948694_f753_11ea_a7fc_3024328316f2level0_row4\" class=\"row_heading level0 row4\" >4</th> \n",
       "        <td id=\"T_cd948694_f753_11ea_a7fc_3024328316f2row4_col0\" class=\"data row4 col0\" >Gabbard</td> \n",
       "        <td id=\"T_cd948694_f753_11ea_a7fc_3024328316f2row4_col1\" class=\"data row4 col1\" >130</td> \n",
       "        <td id=\"T_cd948694_f753_11ea_a7fc_3024328316f2row4_col2\" class=\"data row4 col2\" >0</td> \n",
       "        <td id=\"T_cd948694_f753_11ea_a7fc_3024328316f2row4_col3\" class=\"data row4 col3\" >0</td> \n",
       "        <td id=\"T_cd948694_f753_11ea_a7fc_3024328316f2row4_col4\" class=\"data row4 col4\" >1</td> \n",
       "        <td id=\"T_cd948694_f753_11ea_a7fc_3024328316f2row4_col5\" class=\"data row4 col5\" >1</td> \n",
       "        <td id=\"T_cd948694_f753_11ea_a7fc_3024328316f2row4_col6\" class=\"data row4 col6\" > </td> \n",
       "    </tr>    <tr> \n",
       "        <th id=\"T_cd948694_f753_11ea_a7fc_3024328316f2level0_row5\" class=\"row_heading level0 row5\" >5</th> \n",
       "        <td id=\"T_cd948694_f753_11ea_a7fc_3024328316f2row5_col0\" class=\"data row5 col0\" >Klobuchar</td> \n",
       "        <td id=\"T_cd948694_f753_11ea_a7fc_3024328316f2row5_col1\" class=\"data row5 col1\" >396</td> \n",
       "        <td id=\"T_cd948694_f753_11ea_a7fc_3024328316f2row5_col2\" class=\"data row5 col2\" >0</td> \n",
       "        <td id=\"T_cd948694_f753_11ea_a7fc_3024328316f2row5_col3\" class=\"data row5 col3\" >0</td> \n",
       "        <td id=\"T_cd948694_f753_11ea_a7fc_3024328316f2row5_col4\" class=\"data row5 col4\" >1</td> \n",
       "        <td id=\"T_cd948694_f753_11ea_a7fc_3024328316f2row5_col5\" class=\"data row5 col5\" >1</td> \n",
       "        <td id=\"T_cd948694_f753_11ea_a7fc_3024328316f2row5_col6\" class=\"data row5 col6\" > </td> \n",
       "    </tr>    <tr> \n",
       "        <th id=\"T_cd948694_f753_11ea_a7fc_3024328316f2level0_row6\" class=\"row_heading level0 row6\" >6</th> \n",
       "        <td id=\"T_cd948694_f753_11ea_a7fc_3024328316f2row6_col0\" class=\"data row6 col0\" >Patrick</td> \n",
       "        <td id=\"T_cd948694_f753_11ea_a7fc_3024328316f2row6_col1\" class=\"data row6 col1\" >23</td> \n",
       "        <td id=\"T_cd948694_f753_11ea_a7fc_3024328316f2row6_col2\" class=\"data row6 col2\" >0</td> \n",
       "        <td id=\"T_cd948694_f753_11ea_a7fc_3024328316f2row6_col3\" class=\"data row6 col3\" >0</td> \n",
       "        <td id=\"T_cd948694_f753_11ea_a7fc_3024328316f2row6_col4\" class=\"data row6 col4\" >0</td> \n",
       "        <td id=\"T_cd948694_f753_11ea_a7fc_3024328316f2row6_col5\" class=\"data row6 col5\" >0</td> \n",
       "        <td id=\"T_cd948694_f753_11ea_a7fc_3024328316f2row6_col6\" class=\"data row6 col6\" > </td> \n",
       "    </tr>    <tr> \n",
       "        <th id=\"T_cd948694_f753_11ea_a7fc_3024328316f2level0_row7\" class=\"row_heading level0 row7\" >7</th> \n",
       "        <td id=\"T_cd948694_f753_11ea_a7fc_3024328316f2row7_col0\" class=\"data row7 col0\" >Sanders</td> \n",
       "        <td id=\"T_cd948694_f753_11ea_a7fc_3024328316f2row7_col1\" class=\"data row7 col1\" >5466</td> \n",
       "        <td id=\"T_cd948694_f753_11ea_a7fc_3024328316f2row7_col2\" class=\"data row7 col2\" >6</td> \n",
       "        <td id=\"T_cd948694_f753_11ea_a7fc_3024328316f2row7_col3\" class=\"data row7 col3\" >4</td> \n",
       "        <td id=\"T_cd948694_f753_11ea_a7fc_3024328316f2row7_col4\" class=\"data row7 col4\" >4</td> \n",
       "        <td id=\"T_cd948694_f753_11ea_a7fc_3024328316f2row7_col5\" class=\"data row7 col5\" >14</td> \n",
       "        <td id=\"T_cd948694_f753_11ea_a7fc_3024328316f2row7_col6\" class=\"data row7 col6\" > </td> \n",
       "    </tr>    <tr> \n",
       "        <th id=\"T_cd948694_f753_11ea_a7fc_3024328316f2level0_row8\" class=\"row_heading level0 row8\" >8</th> \n",
       "        <td id=\"T_cd948694_f753_11ea_a7fc_3024328316f2row8_col0\" class=\"data row8 col0\" >Steyer</td> \n",
       "        <td id=\"T_cd948694_f753_11ea_a7fc_3024328316f2row8_col1\" class=\"data row8 col1\" >57</td> \n",
       "        <td id=\"T_cd948694_f753_11ea_a7fc_3024328316f2row8_col2\" class=\"data row8 col2\" >1</td> \n",
       "        <td id=\"T_cd948694_f753_11ea_a7fc_3024328316f2row8_col3\" class=\"data row8 col3\" >0</td> \n",
       "        <td id=\"T_cd948694_f753_11ea_a7fc_3024328316f2row8_col4\" class=\"data row8 col4\" >0</td> \n",
       "        <td id=\"T_cd948694_f753_11ea_a7fc_3024328316f2row8_col5\" class=\"data row8 col5\" >1</td> \n",
       "        <td id=\"T_cd948694_f753_11ea_a7fc_3024328316f2row8_col6\" class=\"data row8 col6\" > </td> \n",
       "    </tr>    <tr> \n",
       "        <th id=\"T_cd948694_f753_11ea_a7fc_3024328316f2level0_row9\" class=\"row_heading level0 row9\" >9</th> \n",
       "        <td id=\"T_cd948694_f753_11ea_a7fc_3024328316f2row9_col0\" class=\"data row9 col0\" >Warren</td> \n",
       "        <td id=\"T_cd948694_f753_11ea_a7fc_3024328316f2row9_col1\" class=\"data row9 col1\" >1074</td> \n",
       "        <td id=\"T_cd948694_f753_11ea_a7fc_3024328316f2row9_col2\" class=\"data row9 col2\" >0</td> \n",
       "        <td id=\"T_cd948694_f753_11ea_a7fc_3024328316f2row9_col3\" class=\"data row9 col3\" >0</td> \n",
       "        <td id=\"T_cd948694_f753_11ea_a7fc_3024328316f2row9_col4\" class=\"data row9 col4\" >0</td> \n",
       "        <td id=\"T_cd948694_f753_11ea_a7fc_3024328316f2row9_col5\" class=\"data row9 col5\" >0</td> \n",
       "        <td id=\"T_cd948694_f753_11ea_a7fc_3024328316f2row9_col6\" class=\"data row9 col6\" > </td> \n",
       "    </tr>    <tr> \n",
       "        <th id=\"T_cd948694_f753_11ea_a7fc_3024328316f2level0_row10\" class=\"row_heading level0 row10\" >10</th> \n",
       "        <td id=\"T_cd948694_f753_11ea_a7fc_3024328316f2row10_col0\" class=\"data row10 col0\" >Write_Ins</td> \n",
       "        <td id=\"T_cd948694_f753_11ea_a7fc_3024328316f2row10_col1\" class=\"data row10 col1\" >94</td> \n",
       "        <td id=\"T_cd948694_f753_11ea_a7fc_3024328316f2row10_col2\" class=\"data row10 col2\" >0</td> \n",
       "        <td id=\"T_cd948694_f753_11ea_a7fc_3024328316f2row10_col3\" class=\"data row10 col3\" >0</td> \n",
       "        <td id=\"T_cd948694_f753_11ea_a7fc_3024328316f2row10_col4\" class=\"data row10 col4\" >0</td> \n",
       "        <td id=\"T_cd948694_f753_11ea_a7fc_3024328316f2row10_col5\" class=\"data row10 col5\" >0</td> \n",
       "        <td id=\"T_cd948694_f753_11ea_a7fc_3024328316f2row10_col6\" class=\"data row10 col6\" > </td> \n",
       "    </tr>    <tr> \n",
       "        <th id=\"T_cd948694_f753_11ea_a7fc_3024328316f2level0_row11\" class=\"row_heading level0 row11\" >11</th> \n",
       "        <td id=\"T_cd948694_f753_11ea_a7fc_3024328316f2row11_col0\" class=\"data row11 col0\" > </td> \n",
       "        <td id=\"T_cd948694_f753_11ea_a7fc_3024328316f2row11_col1\" class=\"data row11 col1\" >Sum</td> \n",
       "        <td id=\"T_cd948694_f753_11ea_a7fc_3024328316f2row11_col2\" class=\"data row11 col2\" >19</td> \n",
       "        <td id=\"T_cd948694_f753_11ea_a7fc_3024328316f2row11_col3\" class=\"data row11 col3\" >10</td> \n",
       "        <td id=\"T_cd948694_f753_11ea_a7fc_3024328316f2row11_col4\" class=\"data row11 col4\" >10</td> \n",
       "        <td id=\"T_cd948694_f753_11ea_a7fc_3024328316f2row11_col5\" class=\"data row11 col5\" > </td> \n",
       "        <td id=\"T_cd948694_f753_11ea_a7fc_3024328316f2row11_col6\" class=\"data row11 col6\" > </td> \n",
       "    </tr>    <tr> \n",
       "        <th id=\"T_cd948694_f753_11ea_a7fc_3024328316f2level0_row12\" class=\"row_heading level0 row12\" >12</th> \n",
       "        <td id=\"T_cd948694_f753_11ea_a7fc_3024328316f2row12_col0\" class=\"data row12 col0\" > </td> \n",
       "        <td id=\"T_cd948694_f753_11ea_a7fc_3024328316f2row12_col1\" class=\"data row12 col1\" >LR</td> \n",
       "        <td id=\"T_cd948694_f753_11ea_a7fc_3024328316f2row12_col2\" class=\"data row12 col2\" >0.3446</td> \n",
       "        <td id=\"T_cd948694_f753_11ea_a7fc_3024328316f2row12_col3\" class=\"data row12 col3\" >0.0852</td> \n",
       "        <td id=\"T_cd948694_f753_11ea_a7fc_3024328316f2row12_col4\" class=\"data row12 col4\" >0.0016</td> \n",
       "        <td id=\"T_cd948694_f753_11ea_a7fc_3024328316f2row12_col5\" class=\"data row12 col5\" > </td> \n",
       "        <td id=\"T_cd948694_f753_11ea_a7fc_3024328316f2row12_col6\" class=\"data row12 col6\" > </td> \n",
       "    </tr>    <tr> \n",
       "        <th id=\"T_cd948694_f753_11ea_a7fc_3024328316f2level0_row13\" class=\"row_heading level0 row13\" >13</th> \n",
       "        <td id=\"T_cd948694_f753_11ea_a7fc_3024328316f2row13_col0\" class=\"data row13 col0\" > </td> \n",
       "        <td id=\"T_cd948694_f753_11ea_a7fc_3024328316f2row13_col1\" class=\"data row13 col1\" >P-Value</td> \n",
       "        <td id=\"T_cd948694_f753_11ea_a7fc_3024328316f2row13_col2\" class=\"data row13 col2\" >0.1683</td> \n",
       "        <td id=\"T_cd948694_f753_11ea_a7fc_3024328316f2row13_col3\" class=\"data row13 col3\" >1.6863</td> \n",
       "        <td id=\"T_cd948694_f753_11ea_a7fc_3024328316f2row13_col4\" class=\"data row13 col4\" >8.5055</td> \n",
       "        <td id=\"T_cd948694_f753_11ea_a7fc_3024328316f2row13_col5\" class=\"data row13 col5\" > </td> \n",
       "        <td id=\"T_cd948694_f753_11ea_a7fc_3024328316f2row13_col6\" class=\"data row13 col6\" > </td> \n",
       "    </tr></tbody> \n",
       "</table> "
      ],
      "text/plain": [
       "<pandas.io.formats.style.Styler at 0x7fd446015828>"
      ]
     },
     "execution_count": 8,
     "metadata": {},
     "output_type": "execute_result"
    }
   ],
   "source": [
    "\n",
    "# create an Audit object with risk_limit\n",
    "w = Audit(\"athena\", risk_limit)\n",
    "\n",
    "# read data from a file\n",
    "w.read_election_results(election_results)\n",
    "\n",
    "# load selected contest\n",
    "w.load_contest(\"d_president\")\n",
    "\n",
    "# test 1 (d_president) \n",
    "#w.load_contest(\"d_president\")\n",
    "w.set_observations(50, 19, [0, 11, 1, 0, 0, 0, 0, 6, 1, 0, 0])\n",
    "w.set_observations(29, 10, [0, 6, 0, 0, 0, 0, 0, 4, 0, 0, 0])\n",
    "w.set_observations(29, 10, [1, 1, 1, 1, 1, 1, 0, 4, 0, 0, 0])\n",
    "w.present_state()\n",
    "# test 2 - (d_president): \n",
    "#w.load_contest(\"d_president\")\n",
    "#w.set_observations(16, 16, [0, 10, 1, 0, 0, 0, 0, 4, 1, 0, 0])\n",
    "#w.set_observations(29, 29, [1, 10, 0, 1, 1, 1, 1, 13, 0, 1, 0])\n",
    "# test 3 (d_pres)\n",
    "#w.load_contest(\"d_president\")\n",
    "#w.set_observations(22, 22, [0, 11, 1, 0, 0, 0, 0, 9, 1, 0, 0])\n",
    "#w.set_observations(7, 7, [0, 6, 0, 0, 0, 0, 0, 1, 0, 0, 0])\n",
    "# test 4 - congress - ok\n",
    "#w.load_contest(\"d_congress\")\n",
    "#w.set_observations(42, 42, [17, 25])\n",
    "# test 5 - ok\n",
    "#w.load_contest(\"d_congress\")\n",
    "#w.set_observations(27, 27, [10, 17])\n",
    "#w.set_observations(27, 27, [10, 17])\n",
    "# test 6 \n",
    "#w.load_contest(\"d_congress\")\n",
    "#w.set_observations(31, 31, [12, 19])\n",
    "#w.set_observations(31, 31, [12, 19])\n",
    "# test7 \n",
    "#w.load_contest(\"d_senator\")\n",
    "#w.set_observations(17, 17, [11, 6])\n",
    "#w.set_observations(9, 9, [5, 4])\n",
    "#test8 - the same problem\n",
    "#w.load_contest(\"d_senator\")\n",
    "#w.set_observations(12, 12, [8, 4])\n",
    "#w.set_observations(12, 12, [8, 4])\n",
    "#test 9\n",
    "#w.load_contest(\"d_senator\")\n",
    "#w.set_observations(40, 40, [27, 13])\n",
    "#w.set_observations(40, 40, [27, 13])\n",
    "\n",
    "#w.present_state()\n",
    "\n"
   ]
  },
  {
   "cell_type": "code",
   "execution_count": 9,
   "metadata": {},
   "outputs": [
    {
     "data": {
      "text/html": [
       "<style  type=\"text/css\" >\n",
       "    #T_cfccb18e_f753_11ea_a7fc_3024328316f2row1_col0 {\n",
       "            color:  blue;\n",
       "        }    #T_cfccb18e_f753_11ea_a7fc_3024328316f2row1_col1 {\n",
       "            color:  blue;\n",
       "        }    #T_cfccb18e_f753_11ea_a7fc_3024328316f2row1_col2 {\n",
       "            color:  blue;\n",
       "        }    #T_cfccb18e_f753_11ea_a7fc_3024328316f2row1_col3 {\n",
       "            color:  blue;\n",
       "        }    #T_cfccb18e_f753_11ea_a7fc_3024328316f2row1_col4 {\n",
       "            color:  blue;\n",
       "        }    #T_cfccb18e_f753_11ea_a7fc_3024328316f2row1_col5 {\n",
       "            color:  blue;\n",
       "        }</style>  \n",
       "<table id=\"T_cfccb18e_f753_11ea_a7fc_3024328316f2\" > \n",
       "<thead>    <tr> \n",
       "        <th class=\"blank level0\" ></th> \n",
       "        <th class=\"col_heading level0 col0\" >Candidates</th> \n",
       "        <th class=\"col_heading level0 col1\" >Results</th> \n",
       "        <th class=\"col_heading level0 col2\" >Round 1</th> \n",
       "        <th class=\"col_heading level0 col3\" >Round 2</th> \n",
       "        <th class=\"col_heading level0 col4\" >Total</th> \n",
       "        <th class=\"col_heading level0 col5\" >Required</th> \n",
       "    </tr></thead> \n",
       "<tbody>    <tr> \n",
       "        <th id=\"T_cfccb18e_f753_11ea_a7fc_3024328316f2level0_row0\" class=\"row_heading level0 row0\" >0</th> \n",
       "        <td id=\"T_cfccb18e_f753_11ea_a7fc_3024328316f2row0_col0\" class=\"data row0 col0\" >Fogel</td> \n",
       "        <td id=\"T_cfccb18e_f753_11ea_a7fc_3024328316f2row0_col1\" class=\"data row0 col1\" >16339</td> \n",
       "        <td id=\"T_cfccb18e_f753_11ea_a7fc_3024328316f2row0_col2\" class=\"data row0 col2\" >27</td> \n",
       "        <td id=\"T_cfccb18e_f753_11ea_a7fc_3024328316f2row0_col3\" class=\"data row0 col3\" >27</td> \n",
       "        <td id=\"T_cfccb18e_f753_11ea_a7fc_3024328316f2row0_col4\" class=\"data row0 col4\" >54</td> \n",
       "        <td id=\"T_cfccb18e_f753_11ea_a7fc_3024328316f2row0_col5\" class=\"data row0 col5\" >55</td> \n",
       "    </tr>    <tr> \n",
       "        <th id=\"T_cfccb18e_f753_11ea_a7fc_3024328316f2level0_row1\" class=\"row_heading level0 row1\" >1</th> \n",
       "        <td id=\"T_cfccb18e_f753_11ea_a7fc_3024328316f2row1_col0\" class=\"data row1 col0\" >Griggs</td> \n",
       "        <td id=\"T_cfccb18e_f753_11ea_a7fc_3024328316f2row1_col1\" class=\"data row1 col1\" >3514</td> \n",
       "        <td id=\"T_cfccb18e_f753_11ea_a7fc_3024328316f2row1_col2\" class=\"data row1 col2\" >13</td> \n",
       "        <td id=\"T_cfccb18e_f753_11ea_a7fc_3024328316f2row1_col3\" class=\"data row1 col3\" >13</td> \n",
       "        <td id=\"T_cfccb18e_f753_11ea_a7fc_3024328316f2row1_col4\" class=\"data row1 col4\" >26</td> \n",
       "        <td id=\"T_cfccb18e_f753_11ea_a7fc_3024328316f2row1_col5\" class=\"data row1 col5\" > </td> \n",
       "    </tr>    <tr> \n",
       "        <th id=\"T_cfccb18e_f753_11ea_a7fc_3024328316f2level0_row2\" class=\"row_heading level0 row2\" >2</th> \n",
       "        <td id=\"T_cfccb18e_f753_11ea_a7fc_3024328316f2row2_col0\" class=\"data row2 col0\" > </td> \n",
       "        <td id=\"T_cfccb18e_f753_11ea_a7fc_3024328316f2row2_col1\" class=\"data row2 col1\" >Sum</td> \n",
       "        <td id=\"T_cfccb18e_f753_11ea_a7fc_3024328316f2row2_col2\" class=\"data row2 col2\" >40</td> \n",
       "        <td id=\"T_cfccb18e_f753_11ea_a7fc_3024328316f2row2_col3\" class=\"data row2 col3\" >40</td> \n",
       "        <td id=\"T_cfccb18e_f753_11ea_a7fc_3024328316f2row2_col4\" class=\"data row2 col4\" > </td> \n",
       "        <td id=\"T_cfccb18e_f753_11ea_a7fc_3024328316f2row2_col5\" class=\"data row2 col5\" > </td> \n",
       "    </tr>    <tr> \n",
       "        <th id=\"T_cfccb18e_f753_11ea_a7fc_3024328316f2level0_row3\" class=\"row_heading level0 row3\" >3</th> \n",
       "        <td id=\"T_cfccb18e_f753_11ea_a7fc_3024328316f2row3_col0\" class=\"data row3 col0\" > </td> \n",
       "        <td id=\"T_cfccb18e_f753_11ea_a7fc_3024328316f2row3_col1\" class=\"data row3 col1\" >LR</td> \n",
       "        <td id=\"T_cfccb18e_f753_11ea_a7fc_3024328316f2row3_col2\" class=\"data row3 col2\" >0.9565</td> \n",
       "        <td id=\"T_cfccb18e_f753_11ea_a7fc_3024328316f2row3_col3\" class=\"data row3 col3\" >0.9148</td> \n",
       "        <td id=\"T_cfccb18e_f753_11ea_a7fc_3024328316f2row3_col4\" class=\"data row3 col4\" > </td> \n",
       "        <td id=\"T_cfccb18e_f753_11ea_a7fc_3024328316f2row3_col5\" class=\"data row3 col5\" > </td> \n",
       "    </tr>    <tr> \n",
       "        <th id=\"T_cfccb18e_f753_11ea_a7fc_3024328316f2level0_row4\" class=\"row_heading level0 row4\" >4</th> \n",
       "        <td id=\"T_cfccb18e_f753_11ea_a7fc_3024328316f2row4_col0\" class=\"data row4 col0\" > </td> \n",
       "        <td id=\"T_cfccb18e_f753_11ea_a7fc_3024328316f2row4_col1\" class=\"data row4 col1\" >P-Value</td> \n",
       "        <td id=\"T_cfccb18e_f753_11ea_a7fc_3024328316f2row4_col2\" class=\"data row4 col2\" >0.0194</td> \n",
       "        <td id=\"T_cfccb18e_f753_11ea_a7fc_3024328316f2row4_col3\" class=\"data row4 col3\" >0.0359</td> \n",
       "        <td id=\"T_cfccb18e_f753_11ea_a7fc_3024328316f2row4_col4\" class=\"data row4 col4\" > </td> \n",
       "        <td id=\"T_cfccb18e_f753_11ea_a7fc_3024328316f2row4_col5\" class=\"data row4 col5\" > </td> \n",
       "    </tr></tbody> \n",
       "</table> "
      ],
      "text/plain": [
       "<pandas.io.formats.style.Styler at 0x7fd446077a90>"
      ]
     },
     "execution_count": 9,
     "metadata": {},
     "output_type": "execute_result"
    }
   ],
   "source": [
    "w.load_contest(\"d_senator\")\n",
    "w.set_observations(40, 40, [27, 13])\n",
    "w.set_observations(40, 40, [27, 13])\n",
    "\n",
    "w.present_state()\n"
   ]
  },
  {
   "cell_type": "code",
   "execution_count": 10,
   "metadata": {},
   "outputs": [
    {
     "name": "stdout",
     "output_type": "stream",
     "text": [
      "[[0.7, 203], [0.8, 223], [0.9, 247]]\n"
     ]
    }
   ],
   "source": [
    "print(w.predict_round_sizes([.7, .8, .9]))\n"
   ]
  },
  {
   "cell_type": "code",
   "execution_count": 12,
   "metadata": {},
   "outputs": [
    {
     "data": {
      "text/plain": [
       "audit type: athena\n",
       "alpha: 0.1\n",
       "observations: [[27, 54], [13, 26]]\n",
       "status: {'d_president': {\"round_number\": 4, \"min_kmins\": [0, 24, 0, 0, 0, 0, 0, 0, 0, 0, 0], \"risks\": [0.1683235777259096, 1.6863216195463144, 8.505545796429123]}, 'd_congress': {\"round_number\": 1, \"min_kmins\": [], \"risks\": []}, 'd_senator': {\"round_number\": 3, \"min_kmins\": [55, 0], \"risks\": [0.019368990308389875, 0.03590104177511345]}, 'd_cc_1_2_2021': {\"round_number\": 1, \"min_kmins\": [], \"risks\": []}, 'd_cc_1_3_2021': {\"round_number\": 1, \"min_kmins\": [], \"risks\": []}, 'r_10th': {\"round_number\": 1, \"min_kmins\": [], \"risks\": []}, 'r_senator': {\"round_number\": 1, \"min_kmins\": [], \"risks\": []}, 'r_42nd': {\"round_number\": 1, \"min_kmins\": [], \"risks\": []}, 'r_cc_1_2_2021': {\"round_number\": 1, \"min_kmins\": [], \"risks\": []}}"
      ]
     },
     "execution_count": 12,
     "metadata": {},
     "output_type": "execute_result"
    }
   ],
   "source": [
    "w"
   ]
  },
  {
   "cell_type": "markdown",
   "metadata": {},
   "source": [
    "# BRAVO vs Athena vs Minerva"
   ]
  },
  {
   "cell_type": "markdown",
   "metadata": {},
   "source": [
    "## Minerva \n",
    "\n",
    "* passes for 57 out of 100\n",
    "* cares only for p-value"
   ]
  },
  {
   "cell_type": "code",
   "execution_count": 13,
   "metadata": {
    "cell_style": "center"
   },
   "outputs": [],
   "source": [
    "# Minerva would pass the test for kmin = 57\n",
    "wmin = Audit(\"athena\", risk_limit)\n",
    "wmin.read_election_results(election_results)\n",
    "wmin.load_contest(\"d_president\")\n",
    "# minerva\n",
    "wmin.set_observations(100, 100, [0, 57, 0, 0, 0, 0, 0, 43, 0, 0, 0])"
   ]
  },
  {
   "cell_type": "code",
   "execution_count": 14,
   "metadata": {
    "cell_style": "split"
   },
   "outputs": [
    {
     "data": {
      "text/html": [
       "<style  type=\"text/css\" >\n",
       "    #T_09addbb0_f756_11ea_a7fc_3024328316f2row1_col0 {\n",
       "            color:  blue;\n",
       "        }    #T_09addbb0_f756_11ea_a7fc_3024328316f2row1_col1 {\n",
       "            color:  blue;\n",
       "        }    #T_09addbb0_f756_11ea_a7fc_3024328316f2row1_col2 {\n",
       "            color:  blue;\n",
       "        }    #T_09addbb0_f756_11ea_a7fc_3024328316f2row1_col3 {\n",
       "            color:  blue;\n",
       "        }    #T_09addbb0_f756_11ea_a7fc_3024328316f2row1_col4 {\n",
       "            color:  blue;\n",
       "        }</style>  \n",
       "<table id=\"T_09addbb0_f756_11ea_a7fc_3024328316f2\" > \n",
       "<thead>    <tr> \n",
       "        <th class=\"blank level0\" ></th> \n",
       "        <th class=\"col_heading level0 col0\" >Candidates</th> \n",
       "        <th class=\"col_heading level0 col1\" >Results</th> \n",
       "        <th class=\"col_heading level0 col2\" >Round 1</th> \n",
       "        <th class=\"col_heading level0 col3\" >Total</th> \n",
       "        <th class=\"col_heading level0 col4\" >Required</th> \n",
       "    </tr></thead> \n",
       "<tbody>    <tr> \n",
       "        <th id=\"T_09addbb0_f756_11ea_a7fc_3024328316f2level0_row0\" class=\"row_heading level0 row0\" >0</th> \n",
       "        <td id=\"T_09addbb0_f756_11ea_a7fc_3024328316f2row0_col0\" class=\"data row0 col0\" >Bennet</td> \n",
       "        <td id=\"T_09addbb0_f756_11ea_a7fc_3024328316f2row0_col1\" class=\"data row0 col1\" >49</td> \n",
       "        <td id=\"T_09addbb0_f756_11ea_a7fc_3024328316f2row0_col2\" class=\"data row0 col2\" >0</td> \n",
       "        <td id=\"T_09addbb0_f756_11ea_a7fc_3024328316f2row0_col3\" class=\"data row0 col3\" >0</td> \n",
       "        <td id=\"T_09addbb0_f756_11ea_a7fc_3024328316f2row0_col4\" class=\"data row0 col4\" > </td> \n",
       "    </tr>    <tr> \n",
       "        <th id=\"T_09addbb0_f756_11ea_a7fc_3024328316f2level0_row1\" class=\"row_heading level0 row1\" >1</th> \n",
       "        <td id=\"T_09addbb0_f756_11ea_a7fc_3024328316f2row1_col0\" class=\"data row1 col0\" >Biden</td> \n",
       "        <td id=\"T_09addbb0_f756_11ea_a7fc_3024328316f2row1_col1\" class=\"data row1 col1\" >28135</td> \n",
       "        <td id=\"T_09addbb0_f756_11ea_a7fc_3024328316f2row1_col2\" class=\"data row1 col2\" >57</td> \n",
       "        <td id=\"T_09addbb0_f756_11ea_a7fc_3024328316f2row1_col3\" class=\"data row1 col3\" >57</td> \n",
       "        <td id=\"T_09addbb0_f756_11ea_a7fc_3024328316f2row1_col4\" class=\"data row1 col4\" >69</td> \n",
       "    </tr>    <tr> \n",
       "        <th id=\"T_09addbb0_f756_11ea_a7fc_3024328316f2level0_row2\" class=\"row_heading level0 row2\" >2</th> \n",
       "        <td id=\"T_09addbb0_f756_11ea_a7fc_3024328316f2row2_col0\" class=\"data row2 col0\" >Bloomberg</td> \n",
       "        <td id=\"T_09addbb0_f756_11ea_a7fc_3024328316f2row2_col1\" class=\"data row2 col1\" >682</td> \n",
       "        <td id=\"T_09addbb0_f756_11ea_a7fc_3024328316f2row2_col2\" class=\"data row2 col2\" >0</td> \n",
       "        <td id=\"T_09addbb0_f756_11ea_a7fc_3024328316f2row2_col3\" class=\"data row2 col3\" >0</td> \n",
       "        <td id=\"T_09addbb0_f756_11ea_a7fc_3024328316f2row2_col4\" class=\"data row2 col4\" > </td> \n",
       "    </tr>    <tr> \n",
       "        <th id=\"T_09addbb0_f756_11ea_a7fc_3024328316f2level0_row3\" class=\"row_heading level0 row3\" >3</th> \n",
       "        <td id=\"T_09addbb0_f756_11ea_a7fc_3024328316f2row3_col0\" class=\"data row3 col0\" >Buttigieg</td> \n",
       "        <td id=\"T_09addbb0_f756_11ea_a7fc_3024328316f2row3_col1\" class=\"data row3 col1\" >509</td> \n",
       "        <td id=\"T_09addbb0_f756_11ea_a7fc_3024328316f2row3_col2\" class=\"data row3 col2\" >0</td> \n",
       "        <td id=\"T_09addbb0_f756_11ea_a7fc_3024328316f2row3_col3\" class=\"data row3 col3\" >0</td> \n",
       "        <td id=\"T_09addbb0_f756_11ea_a7fc_3024328316f2row3_col4\" class=\"data row3 col4\" > </td> \n",
       "    </tr>    <tr> \n",
       "        <th id=\"T_09addbb0_f756_11ea_a7fc_3024328316f2level0_row4\" class=\"row_heading level0 row4\" >4</th> \n",
       "        <td id=\"T_09addbb0_f756_11ea_a7fc_3024328316f2row4_col0\" class=\"data row4 col0\" >Gabbard</td> \n",
       "        <td id=\"T_09addbb0_f756_11ea_a7fc_3024328316f2row4_col1\" class=\"data row4 col1\" >130</td> \n",
       "        <td id=\"T_09addbb0_f756_11ea_a7fc_3024328316f2row4_col2\" class=\"data row4 col2\" >0</td> \n",
       "        <td id=\"T_09addbb0_f756_11ea_a7fc_3024328316f2row4_col3\" class=\"data row4 col3\" >0</td> \n",
       "        <td id=\"T_09addbb0_f756_11ea_a7fc_3024328316f2row4_col4\" class=\"data row4 col4\" > </td> \n",
       "    </tr>    <tr> \n",
       "        <th id=\"T_09addbb0_f756_11ea_a7fc_3024328316f2level0_row5\" class=\"row_heading level0 row5\" >5</th> \n",
       "        <td id=\"T_09addbb0_f756_11ea_a7fc_3024328316f2row5_col0\" class=\"data row5 col0\" >Klobuchar</td> \n",
       "        <td id=\"T_09addbb0_f756_11ea_a7fc_3024328316f2row5_col1\" class=\"data row5 col1\" >396</td> \n",
       "        <td id=\"T_09addbb0_f756_11ea_a7fc_3024328316f2row5_col2\" class=\"data row5 col2\" >0</td> \n",
       "        <td id=\"T_09addbb0_f756_11ea_a7fc_3024328316f2row5_col3\" class=\"data row5 col3\" >0</td> \n",
       "        <td id=\"T_09addbb0_f756_11ea_a7fc_3024328316f2row5_col4\" class=\"data row5 col4\" > </td> \n",
       "    </tr>    <tr> \n",
       "        <th id=\"T_09addbb0_f756_11ea_a7fc_3024328316f2level0_row6\" class=\"row_heading level0 row6\" >6</th> \n",
       "        <td id=\"T_09addbb0_f756_11ea_a7fc_3024328316f2row6_col0\" class=\"data row6 col0\" >Patrick</td> \n",
       "        <td id=\"T_09addbb0_f756_11ea_a7fc_3024328316f2row6_col1\" class=\"data row6 col1\" >23</td> \n",
       "        <td id=\"T_09addbb0_f756_11ea_a7fc_3024328316f2row6_col2\" class=\"data row6 col2\" >0</td> \n",
       "        <td id=\"T_09addbb0_f756_11ea_a7fc_3024328316f2row6_col3\" class=\"data row6 col3\" >0</td> \n",
       "        <td id=\"T_09addbb0_f756_11ea_a7fc_3024328316f2row6_col4\" class=\"data row6 col4\" > </td> \n",
       "    </tr>    <tr> \n",
       "        <th id=\"T_09addbb0_f756_11ea_a7fc_3024328316f2level0_row7\" class=\"row_heading level0 row7\" >7</th> \n",
       "        <td id=\"T_09addbb0_f756_11ea_a7fc_3024328316f2row7_col0\" class=\"data row7 col0\" >Sanders</td> \n",
       "        <td id=\"T_09addbb0_f756_11ea_a7fc_3024328316f2row7_col1\" class=\"data row7 col1\" >5466</td> \n",
       "        <td id=\"T_09addbb0_f756_11ea_a7fc_3024328316f2row7_col2\" class=\"data row7 col2\" >43</td> \n",
       "        <td id=\"T_09addbb0_f756_11ea_a7fc_3024328316f2row7_col3\" class=\"data row7 col3\" >43</td> \n",
       "        <td id=\"T_09addbb0_f756_11ea_a7fc_3024328316f2row7_col4\" class=\"data row7 col4\" > </td> \n",
       "    </tr>    <tr> \n",
       "        <th id=\"T_09addbb0_f756_11ea_a7fc_3024328316f2level0_row8\" class=\"row_heading level0 row8\" >8</th> \n",
       "        <td id=\"T_09addbb0_f756_11ea_a7fc_3024328316f2row8_col0\" class=\"data row8 col0\" >Steyer</td> \n",
       "        <td id=\"T_09addbb0_f756_11ea_a7fc_3024328316f2row8_col1\" class=\"data row8 col1\" >57</td> \n",
       "        <td id=\"T_09addbb0_f756_11ea_a7fc_3024328316f2row8_col2\" class=\"data row8 col2\" >0</td> \n",
       "        <td id=\"T_09addbb0_f756_11ea_a7fc_3024328316f2row8_col3\" class=\"data row8 col3\" >0</td> \n",
       "        <td id=\"T_09addbb0_f756_11ea_a7fc_3024328316f2row8_col4\" class=\"data row8 col4\" > </td> \n",
       "    </tr>    <tr> \n",
       "        <th id=\"T_09addbb0_f756_11ea_a7fc_3024328316f2level0_row9\" class=\"row_heading level0 row9\" >9</th> \n",
       "        <td id=\"T_09addbb0_f756_11ea_a7fc_3024328316f2row9_col0\" class=\"data row9 col0\" >Warren</td> \n",
       "        <td id=\"T_09addbb0_f756_11ea_a7fc_3024328316f2row9_col1\" class=\"data row9 col1\" >1074</td> \n",
       "        <td id=\"T_09addbb0_f756_11ea_a7fc_3024328316f2row9_col2\" class=\"data row9 col2\" >0</td> \n",
       "        <td id=\"T_09addbb0_f756_11ea_a7fc_3024328316f2row9_col3\" class=\"data row9 col3\" >0</td> \n",
       "        <td id=\"T_09addbb0_f756_11ea_a7fc_3024328316f2row9_col4\" class=\"data row9 col4\" > </td> \n",
       "    </tr>    <tr> \n",
       "        <th id=\"T_09addbb0_f756_11ea_a7fc_3024328316f2level0_row10\" class=\"row_heading level0 row10\" >10</th> \n",
       "        <td id=\"T_09addbb0_f756_11ea_a7fc_3024328316f2row10_col0\" class=\"data row10 col0\" >Write_Ins</td> \n",
       "        <td id=\"T_09addbb0_f756_11ea_a7fc_3024328316f2row10_col1\" class=\"data row10 col1\" >94</td> \n",
       "        <td id=\"T_09addbb0_f756_11ea_a7fc_3024328316f2row10_col2\" class=\"data row10 col2\" >0</td> \n",
       "        <td id=\"T_09addbb0_f756_11ea_a7fc_3024328316f2row10_col3\" class=\"data row10 col3\" >0</td> \n",
       "        <td id=\"T_09addbb0_f756_11ea_a7fc_3024328316f2row10_col4\" class=\"data row10 col4\" > </td> \n",
       "    </tr>    <tr> \n",
       "        <th id=\"T_09addbb0_f756_11ea_a7fc_3024328316f2level0_row11\" class=\"row_heading level0 row11\" >11</th> \n",
       "        <td id=\"T_09addbb0_f756_11ea_a7fc_3024328316f2row11_col0\" class=\"data row11 col0\" > </td> \n",
       "        <td id=\"T_09addbb0_f756_11ea_a7fc_3024328316f2row11_col1\" class=\"data row11 col1\" >Sum</td> \n",
       "        <td id=\"T_09addbb0_f756_11ea_a7fc_3024328316f2row11_col2\" class=\"data row11 col2\" >100</td> \n",
       "        <td id=\"T_09addbb0_f756_11ea_a7fc_3024328316f2row11_col3\" class=\"data row11 col3\" > </td> \n",
       "        <td id=\"T_09addbb0_f756_11ea_a7fc_3024328316f2row11_col4\" class=\"data row11 col4\" > </td> \n",
       "    </tr>    <tr> \n",
       "        <th id=\"T_09addbb0_f756_11ea_a7fc_3024328316f2level0_row12\" class=\"row_heading level0 row12\" >12</th> \n",
       "        <td id=\"T_09addbb0_f756_11ea_a7fc_3024328316f2row12_col0\" class=\"data row12 col0\" > </td> \n",
       "        <td id=\"T_09addbb0_f756_11ea_a7fc_3024328316f2row12_col1\" class=\"data row12 col1\" >LR</td> \n",
       "        <td id=\"T_09addbb0_f756_11ea_a7fc_3024328316f2row12_col2\" class=\"data row12 col2\" >0.0000</td> \n",
       "        <td id=\"T_09addbb0_f756_11ea_a7fc_3024328316f2row12_col3\" class=\"data row12 col3\" > </td> \n",
       "        <td id=\"T_09addbb0_f756_11ea_a7fc_3024328316f2row12_col4\" class=\"data row12 col4\" > </td> \n",
       "    </tr>    <tr> \n",
       "        <th id=\"T_09addbb0_f756_11ea_a7fc_3024328316f2level0_row13\" class=\"row_heading level0 row13\" >13</th> \n",
       "        <td id=\"T_09addbb0_f756_11ea_a7fc_3024328316f2row13_col0\" class=\"data row13 col0\" > </td> \n",
       "        <td id=\"T_09addbb0_f756_11ea_a7fc_3024328316f2row13_col1\" class=\"data row13 col1\" >P-Value</td> \n",
       "        <td id=\"T_09addbb0_f756_11ea_a7fc_3024328316f2row13_col2\" class=\"data row13 col2\" >0.0967</td> \n",
       "        <td id=\"T_09addbb0_f756_11ea_a7fc_3024328316f2row13_col3\" class=\"data row13 col3\" > </td> \n",
       "        <td id=\"T_09addbb0_f756_11ea_a7fc_3024328316f2row13_col4\" class=\"data row13 col4\" > </td> \n",
       "    </tr></tbody> \n",
       "</table> "
      ],
      "text/plain": [
       "<pandas.io.formats.style.Styler at 0x7fd446077240>"
      ]
     },
     "execution_count": 14,
     "metadata": {},
     "output_type": "execute_result"
    }
   ],
   "source": [
    "wmin.present_state()\n"
   ]
  },
  {
   "cell_type": "markdown",
   "metadata": {
    "slideshow": {
     "slide_type": "slide"
    }
   },
   "source": [
    "## Athena\n",
    "\n",
    "* passes for 69 out of 100\n",
    "* cares for both:\n",
    "    * p-value (to be below .1)\n",
    "    * LR (to be obove 1)\n",
    "   $\\sum_{k=1}^{\\infty}d_v$"
   ]
  },
  {
   "cell_type": "code",
   "execution_count": 15,
   "metadata": {
    "cell_style": "split",
    "slideshow": {
     "slide_type": "fragment"
    }
   },
   "outputs": [],
   "source": [
    "# athena\n",
    "wath = Audit(\"athena\", risk_limit)\n",
    "wath.read_election_results(election_results)\n",
    "wath.load_contest(\"d_president\")\n",
    "wath.set_observations(100, 100, [0, 68, 0, 0, 0, 0, 0, 32, 0, 0, 0])"
   ]
  },
  {
   "cell_type": "code",
   "execution_count": 16,
   "metadata": {
    "cell_style": "split",
    "slideshow": {
     "slide_type": "fragment"
    }
   },
   "outputs": [
    {
     "data": {
      "text/html": [
       "<style  type=\"text/css\" >\n",
       "    #T_0dded310_f756_11ea_a7fc_3024328316f2row1_col0 {\n",
       "            color:  blue;\n",
       "        }    #T_0dded310_f756_11ea_a7fc_3024328316f2row1_col1 {\n",
       "            color:  blue;\n",
       "        }    #T_0dded310_f756_11ea_a7fc_3024328316f2row1_col2 {\n",
       "            color:  blue;\n",
       "        }    #T_0dded310_f756_11ea_a7fc_3024328316f2row1_col3 {\n",
       "            color:  blue;\n",
       "        }    #T_0dded310_f756_11ea_a7fc_3024328316f2row1_col4 {\n",
       "            color:  blue;\n",
       "        }</style>  \n",
       "<table id=\"T_0dded310_f756_11ea_a7fc_3024328316f2\" > \n",
       "<thead>    <tr> \n",
       "        <th class=\"blank level0\" ></th> \n",
       "        <th class=\"col_heading level0 col0\" >Candidates</th> \n",
       "        <th class=\"col_heading level0 col1\" >Results</th> \n",
       "        <th class=\"col_heading level0 col2\" >Round 1</th> \n",
       "        <th class=\"col_heading level0 col3\" >Total</th> \n",
       "        <th class=\"col_heading level0 col4\" >Required</th> \n",
       "    </tr></thead> \n",
       "<tbody>    <tr> \n",
       "        <th id=\"T_0dded310_f756_11ea_a7fc_3024328316f2level0_row0\" class=\"row_heading level0 row0\" >0</th> \n",
       "        <td id=\"T_0dded310_f756_11ea_a7fc_3024328316f2row0_col0\" class=\"data row0 col0\" >Bennet</td> \n",
       "        <td id=\"T_0dded310_f756_11ea_a7fc_3024328316f2row0_col1\" class=\"data row0 col1\" >49</td> \n",
       "        <td id=\"T_0dded310_f756_11ea_a7fc_3024328316f2row0_col2\" class=\"data row0 col2\" >0</td> \n",
       "        <td id=\"T_0dded310_f756_11ea_a7fc_3024328316f2row0_col3\" class=\"data row0 col3\" >0</td> \n",
       "        <td id=\"T_0dded310_f756_11ea_a7fc_3024328316f2row0_col4\" class=\"data row0 col4\" > </td> \n",
       "    </tr>    <tr> \n",
       "        <th id=\"T_0dded310_f756_11ea_a7fc_3024328316f2level0_row1\" class=\"row_heading level0 row1\" >1</th> \n",
       "        <td id=\"T_0dded310_f756_11ea_a7fc_3024328316f2row1_col0\" class=\"data row1 col0\" >Biden</td> \n",
       "        <td id=\"T_0dded310_f756_11ea_a7fc_3024328316f2row1_col1\" class=\"data row1 col1\" >28135</td> \n",
       "        <td id=\"T_0dded310_f756_11ea_a7fc_3024328316f2row1_col2\" class=\"data row1 col2\" >68</td> \n",
       "        <td id=\"T_0dded310_f756_11ea_a7fc_3024328316f2row1_col3\" class=\"data row1 col3\" >68</td> \n",
       "        <td id=\"T_0dded310_f756_11ea_a7fc_3024328316f2row1_col4\" class=\"data row1 col4\" >69</td> \n",
       "    </tr>    <tr> \n",
       "        <th id=\"T_0dded310_f756_11ea_a7fc_3024328316f2level0_row2\" class=\"row_heading level0 row2\" >2</th> \n",
       "        <td id=\"T_0dded310_f756_11ea_a7fc_3024328316f2row2_col0\" class=\"data row2 col0\" >Bloomberg</td> \n",
       "        <td id=\"T_0dded310_f756_11ea_a7fc_3024328316f2row2_col1\" class=\"data row2 col1\" >682</td> \n",
       "        <td id=\"T_0dded310_f756_11ea_a7fc_3024328316f2row2_col2\" class=\"data row2 col2\" >0</td> \n",
       "        <td id=\"T_0dded310_f756_11ea_a7fc_3024328316f2row2_col3\" class=\"data row2 col3\" >0</td> \n",
       "        <td id=\"T_0dded310_f756_11ea_a7fc_3024328316f2row2_col4\" class=\"data row2 col4\" > </td> \n",
       "    </tr>    <tr> \n",
       "        <th id=\"T_0dded310_f756_11ea_a7fc_3024328316f2level0_row3\" class=\"row_heading level0 row3\" >3</th> \n",
       "        <td id=\"T_0dded310_f756_11ea_a7fc_3024328316f2row3_col0\" class=\"data row3 col0\" >Buttigieg</td> \n",
       "        <td id=\"T_0dded310_f756_11ea_a7fc_3024328316f2row3_col1\" class=\"data row3 col1\" >509</td> \n",
       "        <td id=\"T_0dded310_f756_11ea_a7fc_3024328316f2row3_col2\" class=\"data row3 col2\" >0</td> \n",
       "        <td id=\"T_0dded310_f756_11ea_a7fc_3024328316f2row3_col3\" class=\"data row3 col3\" >0</td> \n",
       "        <td id=\"T_0dded310_f756_11ea_a7fc_3024328316f2row3_col4\" class=\"data row3 col4\" > </td> \n",
       "    </tr>    <tr> \n",
       "        <th id=\"T_0dded310_f756_11ea_a7fc_3024328316f2level0_row4\" class=\"row_heading level0 row4\" >4</th> \n",
       "        <td id=\"T_0dded310_f756_11ea_a7fc_3024328316f2row4_col0\" class=\"data row4 col0\" >Gabbard</td> \n",
       "        <td id=\"T_0dded310_f756_11ea_a7fc_3024328316f2row4_col1\" class=\"data row4 col1\" >130</td> \n",
       "        <td id=\"T_0dded310_f756_11ea_a7fc_3024328316f2row4_col2\" class=\"data row4 col2\" >0</td> \n",
       "        <td id=\"T_0dded310_f756_11ea_a7fc_3024328316f2row4_col3\" class=\"data row4 col3\" >0</td> \n",
       "        <td id=\"T_0dded310_f756_11ea_a7fc_3024328316f2row4_col4\" class=\"data row4 col4\" > </td> \n",
       "    </tr>    <tr> \n",
       "        <th id=\"T_0dded310_f756_11ea_a7fc_3024328316f2level0_row5\" class=\"row_heading level0 row5\" >5</th> \n",
       "        <td id=\"T_0dded310_f756_11ea_a7fc_3024328316f2row5_col0\" class=\"data row5 col0\" >Klobuchar</td> \n",
       "        <td id=\"T_0dded310_f756_11ea_a7fc_3024328316f2row5_col1\" class=\"data row5 col1\" >396</td> \n",
       "        <td id=\"T_0dded310_f756_11ea_a7fc_3024328316f2row5_col2\" class=\"data row5 col2\" >0</td> \n",
       "        <td id=\"T_0dded310_f756_11ea_a7fc_3024328316f2row5_col3\" class=\"data row5 col3\" >0</td> \n",
       "        <td id=\"T_0dded310_f756_11ea_a7fc_3024328316f2row5_col4\" class=\"data row5 col4\" > </td> \n",
       "    </tr>    <tr> \n",
       "        <th id=\"T_0dded310_f756_11ea_a7fc_3024328316f2level0_row6\" class=\"row_heading level0 row6\" >6</th> \n",
       "        <td id=\"T_0dded310_f756_11ea_a7fc_3024328316f2row6_col0\" class=\"data row6 col0\" >Patrick</td> \n",
       "        <td id=\"T_0dded310_f756_11ea_a7fc_3024328316f2row6_col1\" class=\"data row6 col1\" >23</td> \n",
       "        <td id=\"T_0dded310_f756_11ea_a7fc_3024328316f2row6_col2\" class=\"data row6 col2\" >0</td> \n",
       "        <td id=\"T_0dded310_f756_11ea_a7fc_3024328316f2row6_col3\" class=\"data row6 col3\" >0</td> \n",
       "        <td id=\"T_0dded310_f756_11ea_a7fc_3024328316f2row6_col4\" class=\"data row6 col4\" > </td> \n",
       "    </tr>    <tr> \n",
       "        <th id=\"T_0dded310_f756_11ea_a7fc_3024328316f2level0_row7\" class=\"row_heading level0 row7\" >7</th> \n",
       "        <td id=\"T_0dded310_f756_11ea_a7fc_3024328316f2row7_col0\" class=\"data row7 col0\" >Sanders</td> \n",
       "        <td id=\"T_0dded310_f756_11ea_a7fc_3024328316f2row7_col1\" class=\"data row7 col1\" >5466</td> \n",
       "        <td id=\"T_0dded310_f756_11ea_a7fc_3024328316f2row7_col2\" class=\"data row7 col2\" >32</td> \n",
       "        <td id=\"T_0dded310_f756_11ea_a7fc_3024328316f2row7_col3\" class=\"data row7 col3\" >32</td> \n",
       "        <td id=\"T_0dded310_f756_11ea_a7fc_3024328316f2row7_col4\" class=\"data row7 col4\" > </td> \n",
       "    </tr>    <tr> \n",
       "        <th id=\"T_0dded310_f756_11ea_a7fc_3024328316f2level0_row8\" class=\"row_heading level0 row8\" >8</th> \n",
       "        <td id=\"T_0dded310_f756_11ea_a7fc_3024328316f2row8_col0\" class=\"data row8 col0\" >Steyer</td> \n",
       "        <td id=\"T_0dded310_f756_11ea_a7fc_3024328316f2row8_col1\" class=\"data row8 col1\" >57</td> \n",
       "        <td id=\"T_0dded310_f756_11ea_a7fc_3024328316f2row8_col2\" class=\"data row8 col2\" >0</td> \n",
       "        <td id=\"T_0dded310_f756_11ea_a7fc_3024328316f2row8_col3\" class=\"data row8 col3\" >0</td> \n",
       "        <td id=\"T_0dded310_f756_11ea_a7fc_3024328316f2row8_col4\" class=\"data row8 col4\" > </td> \n",
       "    </tr>    <tr> \n",
       "        <th id=\"T_0dded310_f756_11ea_a7fc_3024328316f2level0_row9\" class=\"row_heading level0 row9\" >9</th> \n",
       "        <td id=\"T_0dded310_f756_11ea_a7fc_3024328316f2row9_col0\" class=\"data row9 col0\" >Warren</td> \n",
       "        <td id=\"T_0dded310_f756_11ea_a7fc_3024328316f2row9_col1\" class=\"data row9 col1\" >1074</td> \n",
       "        <td id=\"T_0dded310_f756_11ea_a7fc_3024328316f2row9_col2\" class=\"data row9 col2\" >0</td> \n",
       "        <td id=\"T_0dded310_f756_11ea_a7fc_3024328316f2row9_col3\" class=\"data row9 col3\" >0</td> \n",
       "        <td id=\"T_0dded310_f756_11ea_a7fc_3024328316f2row9_col4\" class=\"data row9 col4\" > </td> \n",
       "    </tr>    <tr> \n",
       "        <th id=\"T_0dded310_f756_11ea_a7fc_3024328316f2level0_row10\" class=\"row_heading level0 row10\" >10</th> \n",
       "        <td id=\"T_0dded310_f756_11ea_a7fc_3024328316f2row10_col0\" class=\"data row10 col0\" >Write_Ins</td> \n",
       "        <td id=\"T_0dded310_f756_11ea_a7fc_3024328316f2row10_col1\" class=\"data row10 col1\" >94</td> \n",
       "        <td id=\"T_0dded310_f756_11ea_a7fc_3024328316f2row10_col2\" class=\"data row10 col2\" >0</td> \n",
       "        <td id=\"T_0dded310_f756_11ea_a7fc_3024328316f2row10_col3\" class=\"data row10 col3\" >0</td> \n",
       "        <td id=\"T_0dded310_f756_11ea_a7fc_3024328316f2row10_col4\" class=\"data row10 col4\" > </td> \n",
       "    </tr>    <tr> \n",
       "        <th id=\"T_0dded310_f756_11ea_a7fc_3024328316f2level0_row11\" class=\"row_heading level0 row11\" >11</th> \n",
       "        <td id=\"T_0dded310_f756_11ea_a7fc_3024328316f2row11_col0\" class=\"data row11 col0\" > </td> \n",
       "        <td id=\"T_0dded310_f756_11ea_a7fc_3024328316f2row11_col1\" class=\"data row11 col1\" >Sum</td> \n",
       "        <td id=\"T_0dded310_f756_11ea_a7fc_3024328316f2row11_col2\" class=\"data row11 col2\" >100</td> \n",
       "        <td id=\"T_0dded310_f756_11ea_a7fc_3024328316f2row11_col3\" class=\"data row11 col3\" > </td> \n",
       "        <td id=\"T_0dded310_f756_11ea_a7fc_3024328316f2row11_col4\" class=\"data row11 col4\" > </td> \n",
       "    </tr>    <tr> \n",
       "        <th id=\"T_0dded310_f756_11ea_a7fc_3024328316f2level0_row12\" class=\"row_heading level0 row12\" >12</th> \n",
       "        <td id=\"T_0dded310_f756_11ea_a7fc_3024328316f2row12_col0\" class=\"data row12 col0\" > </td> \n",
       "        <td id=\"T_0dded310_f756_11ea_a7fc_3024328316f2row12_col1\" class=\"data row12 col1\" >LR</td> \n",
       "        <td id=\"T_0dded310_f756_11ea_a7fc_3024328316f2row12_col2\" class=\"data row12 col2\" >0.4188</td> \n",
       "        <td id=\"T_0dded310_f756_11ea_a7fc_3024328316f2row12_col3\" class=\"data row12 col3\" > </td> \n",
       "        <td id=\"T_0dded310_f756_11ea_a7fc_3024328316f2row12_col4\" class=\"data row12 col4\" > </td> \n",
       "    </tr>    <tr> \n",
       "        <th id=\"T_0dded310_f756_11ea_a7fc_3024328316f2level0_row13\" class=\"row_heading level0 row13\" >13</th> \n",
       "        <td id=\"T_0dded310_f756_11ea_a7fc_3024328316f2row13_col0\" class=\"data row13 col0\" > </td> \n",
       "        <td id=\"T_0dded310_f756_11ea_a7fc_3024328316f2row13_col1\" class=\"data row13 col1\" >P-Value</td> \n",
       "        <td id=\"T_0dded310_f756_11ea_a7fc_3024328316f2row13_col2\" class=\"data row13 col2\" >0.0002</td> \n",
       "        <td id=\"T_0dded310_f756_11ea_a7fc_3024328316f2row13_col3\" class=\"data row13 col3\" > </td> \n",
       "        <td id=\"T_0dded310_f756_11ea_a7fc_3024328316f2row13_col4\" class=\"data row13 col4\" > </td> \n",
       "    </tr></tbody> \n",
       "</table> "
      ],
      "text/plain": [
       "<pandas.io.formats.style.Styler at 0x7fd446022cf8>"
      ]
     },
     "execution_count": 16,
     "metadata": {},
     "output_type": "execute_result"
    }
   ],
   "source": [
    "wath.present_state()"
   ]
  },
  {
   "cell_type": "markdown",
   "metadata": {},
   "source": [
    "## Bravo\n",
    "\n",
    "* passes for 70 out of 100\n",
    "* cares for LR to be over 10"
   ]
  },
  {
   "cell_type": "code",
   "execution_count": 17,
   "metadata": {
    "cell_style": "split"
   },
   "outputs": [],
   "source": [
    "w = Audit(\"athena\", risk_limit)\n",
    "w.read_election_results(election_results)\n",
    "w.load_contest(\"d_president\")\n",
    "w.set_observations(100, 100, [0, 70, 0, 0, 0, 0, 0, 30, 0, 0, 0])\n"
   ]
  },
  {
   "cell_type": "code",
   "execution_count": 18,
   "metadata": {
    "cell_style": "split"
   },
   "outputs": [
    {
     "data": {
      "text/html": [
       "<style  type=\"text/css\" >\n",
       "    #T_10982b24_f756_11ea_a7fc_3024328316f2row1_col0 {\n",
       "            color:  blue;\n",
       "        }    #T_10982b24_f756_11ea_a7fc_3024328316f2row1_col1 {\n",
       "            color:  blue;\n",
       "        }    #T_10982b24_f756_11ea_a7fc_3024328316f2row1_col2 {\n",
       "            color:  blue;\n",
       "        }    #T_10982b24_f756_11ea_a7fc_3024328316f2row1_col3 {\n",
       "            color:  blue;\n",
       "        }    #T_10982b24_f756_11ea_a7fc_3024328316f2row1_col4 {\n",
       "            color:  blue;\n",
       "        }</style>  \n",
       "<table id=\"T_10982b24_f756_11ea_a7fc_3024328316f2\" > \n",
       "<thead>    <tr> \n",
       "        <th class=\"blank level0\" ></th> \n",
       "        <th class=\"col_heading level0 col0\" >Candidates</th> \n",
       "        <th class=\"col_heading level0 col1\" >Results</th> \n",
       "        <th class=\"col_heading level0 col2\" >Round 1</th> \n",
       "        <th class=\"col_heading level0 col3\" >Total</th> \n",
       "        <th class=\"col_heading level0 col4\" >Required</th> \n",
       "    </tr></thead> \n",
       "<tbody>    <tr> \n",
       "        <th id=\"T_10982b24_f756_11ea_a7fc_3024328316f2level0_row0\" class=\"row_heading level0 row0\" >0</th> \n",
       "        <td id=\"T_10982b24_f756_11ea_a7fc_3024328316f2row0_col0\" class=\"data row0 col0\" >Bennet</td> \n",
       "        <td id=\"T_10982b24_f756_11ea_a7fc_3024328316f2row0_col1\" class=\"data row0 col1\" >49</td> \n",
       "        <td id=\"T_10982b24_f756_11ea_a7fc_3024328316f2row0_col2\" class=\"data row0 col2\" >0</td> \n",
       "        <td id=\"T_10982b24_f756_11ea_a7fc_3024328316f2row0_col3\" class=\"data row0 col3\" >0</td> \n",
       "        <td id=\"T_10982b24_f756_11ea_a7fc_3024328316f2row0_col4\" class=\"data row0 col4\" > </td> \n",
       "    </tr>    <tr> \n",
       "        <th id=\"T_10982b24_f756_11ea_a7fc_3024328316f2level0_row1\" class=\"row_heading level0 row1\" >1</th> \n",
       "        <td id=\"T_10982b24_f756_11ea_a7fc_3024328316f2row1_col0\" class=\"data row1 col0\" >Biden</td> \n",
       "        <td id=\"T_10982b24_f756_11ea_a7fc_3024328316f2row1_col1\" class=\"data row1 col1\" >28135</td> \n",
       "        <td id=\"T_10982b24_f756_11ea_a7fc_3024328316f2row1_col2\" class=\"data row1 col2\" >70</td> \n",
       "        <td id=\"T_10982b24_f756_11ea_a7fc_3024328316f2row1_col3\" class=\"data row1 col3\" >70</td> \n",
       "        <td id=\"T_10982b24_f756_11ea_a7fc_3024328316f2row1_col4\" class=\"data row1 col4\" >69</td> \n",
       "    </tr>    <tr> \n",
       "        <th id=\"T_10982b24_f756_11ea_a7fc_3024328316f2level0_row2\" class=\"row_heading level0 row2\" >2</th> \n",
       "        <td id=\"T_10982b24_f756_11ea_a7fc_3024328316f2row2_col0\" class=\"data row2 col0\" >Bloomberg</td> \n",
       "        <td id=\"T_10982b24_f756_11ea_a7fc_3024328316f2row2_col1\" class=\"data row2 col1\" >682</td> \n",
       "        <td id=\"T_10982b24_f756_11ea_a7fc_3024328316f2row2_col2\" class=\"data row2 col2\" >0</td> \n",
       "        <td id=\"T_10982b24_f756_11ea_a7fc_3024328316f2row2_col3\" class=\"data row2 col3\" >0</td> \n",
       "        <td id=\"T_10982b24_f756_11ea_a7fc_3024328316f2row2_col4\" class=\"data row2 col4\" > </td> \n",
       "    </tr>    <tr> \n",
       "        <th id=\"T_10982b24_f756_11ea_a7fc_3024328316f2level0_row3\" class=\"row_heading level0 row3\" >3</th> \n",
       "        <td id=\"T_10982b24_f756_11ea_a7fc_3024328316f2row3_col0\" class=\"data row3 col0\" >Buttigieg</td> \n",
       "        <td id=\"T_10982b24_f756_11ea_a7fc_3024328316f2row3_col1\" class=\"data row3 col1\" >509</td> \n",
       "        <td id=\"T_10982b24_f756_11ea_a7fc_3024328316f2row3_col2\" class=\"data row3 col2\" >0</td> \n",
       "        <td id=\"T_10982b24_f756_11ea_a7fc_3024328316f2row3_col3\" class=\"data row3 col3\" >0</td> \n",
       "        <td id=\"T_10982b24_f756_11ea_a7fc_3024328316f2row3_col4\" class=\"data row3 col4\" > </td> \n",
       "    </tr>    <tr> \n",
       "        <th id=\"T_10982b24_f756_11ea_a7fc_3024328316f2level0_row4\" class=\"row_heading level0 row4\" >4</th> \n",
       "        <td id=\"T_10982b24_f756_11ea_a7fc_3024328316f2row4_col0\" class=\"data row4 col0\" >Gabbard</td> \n",
       "        <td id=\"T_10982b24_f756_11ea_a7fc_3024328316f2row4_col1\" class=\"data row4 col1\" >130</td> \n",
       "        <td id=\"T_10982b24_f756_11ea_a7fc_3024328316f2row4_col2\" class=\"data row4 col2\" >0</td> \n",
       "        <td id=\"T_10982b24_f756_11ea_a7fc_3024328316f2row4_col3\" class=\"data row4 col3\" >0</td> \n",
       "        <td id=\"T_10982b24_f756_11ea_a7fc_3024328316f2row4_col4\" class=\"data row4 col4\" > </td> \n",
       "    </tr>    <tr> \n",
       "        <th id=\"T_10982b24_f756_11ea_a7fc_3024328316f2level0_row5\" class=\"row_heading level0 row5\" >5</th> \n",
       "        <td id=\"T_10982b24_f756_11ea_a7fc_3024328316f2row5_col0\" class=\"data row5 col0\" >Klobuchar</td> \n",
       "        <td id=\"T_10982b24_f756_11ea_a7fc_3024328316f2row5_col1\" class=\"data row5 col1\" >396</td> \n",
       "        <td id=\"T_10982b24_f756_11ea_a7fc_3024328316f2row5_col2\" class=\"data row5 col2\" >0</td> \n",
       "        <td id=\"T_10982b24_f756_11ea_a7fc_3024328316f2row5_col3\" class=\"data row5 col3\" >0</td> \n",
       "        <td id=\"T_10982b24_f756_11ea_a7fc_3024328316f2row5_col4\" class=\"data row5 col4\" > </td> \n",
       "    </tr>    <tr> \n",
       "        <th id=\"T_10982b24_f756_11ea_a7fc_3024328316f2level0_row6\" class=\"row_heading level0 row6\" >6</th> \n",
       "        <td id=\"T_10982b24_f756_11ea_a7fc_3024328316f2row6_col0\" class=\"data row6 col0\" >Patrick</td> \n",
       "        <td id=\"T_10982b24_f756_11ea_a7fc_3024328316f2row6_col1\" class=\"data row6 col1\" >23</td> \n",
       "        <td id=\"T_10982b24_f756_11ea_a7fc_3024328316f2row6_col2\" class=\"data row6 col2\" >0</td> \n",
       "        <td id=\"T_10982b24_f756_11ea_a7fc_3024328316f2row6_col3\" class=\"data row6 col3\" >0</td> \n",
       "        <td id=\"T_10982b24_f756_11ea_a7fc_3024328316f2row6_col4\" class=\"data row6 col4\" > </td> \n",
       "    </tr>    <tr> \n",
       "        <th id=\"T_10982b24_f756_11ea_a7fc_3024328316f2level0_row7\" class=\"row_heading level0 row7\" >7</th> \n",
       "        <td id=\"T_10982b24_f756_11ea_a7fc_3024328316f2row7_col0\" class=\"data row7 col0\" >Sanders</td> \n",
       "        <td id=\"T_10982b24_f756_11ea_a7fc_3024328316f2row7_col1\" class=\"data row7 col1\" >5466</td> \n",
       "        <td id=\"T_10982b24_f756_11ea_a7fc_3024328316f2row7_col2\" class=\"data row7 col2\" >30</td> \n",
       "        <td id=\"T_10982b24_f756_11ea_a7fc_3024328316f2row7_col3\" class=\"data row7 col3\" >30</td> \n",
       "        <td id=\"T_10982b24_f756_11ea_a7fc_3024328316f2row7_col4\" class=\"data row7 col4\" > </td> \n",
       "    </tr>    <tr> \n",
       "        <th id=\"T_10982b24_f756_11ea_a7fc_3024328316f2level0_row8\" class=\"row_heading level0 row8\" >8</th> \n",
       "        <td id=\"T_10982b24_f756_11ea_a7fc_3024328316f2row8_col0\" class=\"data row8 col0\" >Steyer</td> \n",
       "        <td id=\"T_10982b24_f756_11ea_a7fc_3024328316f2row8_col1\" class=\"data row8 col1\" >57</td> \n",
       "        <td id=\"T_10982b24_f756_11ea_a7fc_3024328316f2row8_col2\" class=\"data row8 col2\" >0</td> \n",
       "        <td id=\"T_10982b24_f756_11ea_a7fc_3024328316f2row8_col3\" class=\"data row8 col3\" >0</td> \n",
       "        <td id=\"T_10982b24_f756_11ea_a7fc_3024328316f2row8_col4\" class=\"data row8 col4\" > </td> \n",
       "    </tr>    <tr> \n",
       "        <th id=\"T_10982b24_f756_11ea_a7fc_3024328316f2level0_row9\" class=\"row_heading level0 row9\" >9</th> \n",
       "        <td id=\"T_10982b24_f756_11ea_a7fc_3024328316f2row9_col0\" class=\"data row9 col0\" >Warren</td> \n",
       "        <td id=\"T_10982b24_f756_11ea_a7fc_3024328316f2row9_col1\" class=\"data row9 col1\" >1074</td> \n",
       "        <td id=\"T_10982b24_f756_11ea_a7fc_3024328316f2row9_col2\" class=\"data row9 col2\" >0</td> \n",
       "        <td id=\"T_10982b24_f756_11ea_a7fc_3024328316f2row9_col3\" class=\"data row9 col3\" >0</td> \n",
       "        <td id=\"T_10982b24_f756_11ea_a7fc_3024328316f2row9_col4\" class=\"data row9 col4\" > </td> \n",
       "    </tr>    <tr> \n",
       "        <th id=\"T_10982b24_f756_11ea_a7fc_3024328316f2level0_row10\" class=\"row_heading level0 row10\" >10</th> \n",
       "        <td id=\"T_10982b24_f756_11ea_a7fc_3024328316f2row10_col0\" class=\"data row10 col0\" >Write_Ins</td> \n",
       "        <td id=\"T_10982b24_f756_11ea_a7fc_3024328316f2row10_col1\" class=\"data row10 col1\" >94</td> \n",
       "        <td id=\"T_10982b24_f756_11ea_a7fc_3024328316f2row10_col2\" class=\"data row10 col2\" >0</td> \n",
       "        <td id=\"T_10982b24_f756_11ea_a7fc_3024328316f2row10_col3\" class=\"data row10 col3\" >0</td> \n",
       "        <td id=\"T_10982b24_f756_11ea_a7fc_3024328316f2row10_col4\" class=\"data row10 col4\" > </td> \n",
       "    </tr>    <tr> \n",
       "        <th id=\"T_10982b24_f756_11ea_a7fc_3024328316f2level0_row11\" class=\"row_heading level0 row11\" >11</th> \n",
       "        <td id=\"T_10982b24_f756_11ea_a7fc_3024328316f2row11_col0\" class=\"data row11 col0\" > </td> \n",
       "        <td id=\"T_10982b24_f756_11ea_a7fc_3024328316f2row11_col1\" class=\"data row11 col1\" >Sum</td> \n",
       "        <td id=\"T_10982b24_f756_11ea_a7fc_3024328316f2row11_col2\" class=\"data row11 col2\" >100</td> \n",
       "        <td id=\"T_10982b24_f756_11ea_a7fc_3024328316f2row11_col3\" class=\"data row11 col3\" > </td> \n",
       "        <td id=\"T_10982b24_f756_11ea_a7fc_3024328316f2row11_col4\" class=\"data row11 col4\" > </td> \n",
       "    </tr>    <tr> \n",
       "        <th id=\"T_10982b24_f756_11ea_a7fc_3024328316f2level0_row12\" class=\"row_heading level0 row12\" >12</th> \n",
       "        <td id=\"T_10982b24_f756_11ea_a7fc_3024328316f2row12_col0\" class=\"data row12 col0\" > </td> \n",
       "        <td id=\"T_10982b24_f756_11ea_a7fc_3024328316f2row12_col1\" class=\"data row12 col1\" >LR</td> \n",
       "        <td id=\"T_10982b24_f756_11ea_a7fc_3024328316f2row12_col2\" class=\"data row12 col2\" >11.0956</td> \n",
       "        <td id=\"T_10982b24_f756_11ea_a7fc_3024328316f2row12_col3\" class=\"data row12 col3\" > </td> \n",
       "        <td id=\"T_10982b24_f756_11ea_a7fc_3024328316f2row12_col4\" class=\"data row12 col4\" > </td> \n",
       "    </tr>    <tr> \n",
       "        <th id=\"T_10982b24_f756_11ea_a7fc_3024328316f2level0_row13\" class=\"row_heading level0 row13\" >13</th> \n",
       "        <td id=\"T_10982b24_f756_11ea_a7fc_3024328316f2row13_col0\" class=\"data row13 col0\" > </td> \n",
       "        <td id=\"T_10982b24_f756_11ea_a7fc_3024328316f2row13_col1\" class=\"data row13 col1\" >P-Value</td> \n",
       "        <td id=\"T_10982b24_f756_11ea_a7fc_3024328316f2row13_col2\" class=\"data row13 col2\" >0.0000</td> \n",
       "        <td id=\"T_10982b24_f756_11ea_a7fc_3024328316f2row13_col3\" class=\"data row13 col3\" > </td> \n",
       "        <td id=\"T_10982b24_f756_11ea_a7fc_3024328316f2row13_col4\" class=\"data row13 col4\" > </td> \n",
       "    </tr></tbody> \n",
       "</table> "
      ],
      "text/plain": [
       "<pandas.io.formats.style.Styler at 0x7fd446036cc0>"
      ]
     },
     "execution_count": 18,
     "metadata": {},
     "output_type": "execute_result"
    }
   ],
   "source": [
    "w.present_state()"
   ]
  },
  {
   "cell_type": "code",
   "execution_count": null,
   "metadata": {},
   "outputs": [],
   "source": []
  }
 ],
 "metadata": {
  "celltoolbar": "Slideshow",
  "kernelspec": {
   "display_name": "Python 3",
   "language": "python",
   "name": "python3"
  },
  "language_info": {
   "codemirror_mode": {
    "name": "ipython",
    "version": 3
   },
   "file_extension": ".py",
   "mimetype": "text/x-python",
   "name": "python",
   "nbconvert_exporter": "python",
   "pygments_lexer": "ipython3",
   "version": "3.6.9"
  }
 },
 "nbformat": 4,
 "nbformat_minor": 4
}
