{
 "cells": [
  {
   "cell_type": "code",
   "execution_count": 1,
   "metadata": {
    "slideshow": {
     "slide_type": "slide"
    }
   },
   "outputs": [],
   "source": [
    "# we either import locally (after the repo was cloned)\n",
    "# or we first clone it and then use it (e.g., when run in Google Colab)\n",
    "shell = get_ipython().__class__.__name__ \n",
    "\n",
    "if shell == 'Shell':\n",
    "    # imports when launched in e.g., Google Colab\n",
    "    !git clone https://github.com/filipzz/athena.git r2b2\n",
    "    from r2b2.code.athena.athena import AthenaAudit\n",
    "    from r2b2.code.athena.contest import Contest\n",
    "    from r2b2.code.athena.audit import Audit\n",
    "else: # shell ==  'ZMQInteractiveShell' or shell == 'TerminalInteractiveShell'\n",
    "    # local imports if you run it with e.g., Jupyter\n",
    "    from athena.athena import AthenaAudit\n",
    "    from athena.contest import Contest\n",
    "    from athena.audit import Audit\n",
    "\n",
    "import pandas as pd"
   ]
  },
  {
   "cell_type": "code",
   "execution_count": 2,
   "metadata": {
    "cell_style": "center",
    "slideshow": {
     "slide_type": "slide"
    }
   },
   "outputs": [],
   "source": [
    "# risk limit of the audit\n",
    "risk_limit = 0.1 "
   ]
  },
  {
   "cell_type": "code",
   "execution_count": 25,
   "metadata": {
    "cell_style": "center",
    "slideshow": {
     "slide_type": "fragment"
    }
   },
   "outputs": [],
   "source": [
    "# address of the file with election results\n",
    "#election_results = \"https://raw.githubusercontent.com/gwexploratoryaudits/brla_explore/poorvi/R2Audits/Athena/Scripts/2020MontgomeryPrimary/2020_montgomery_formatted.json\"\n",
    "election_results = \"tmp/2020_montgomery_formatted.json\"\n",
    "\n",
    "w = Audit(\"athena\", risk_limit)\n",
    "\n",
    "w.read_election_results(election_results)\n",
    "\n",
    "#w.get_contests()"
   ]
  },
  {
   "cell_type": "code",
   "execution_count": 26,
   "metadata": {
    "cell_style": "center",
    "slideshow": {
     "slide_type": "fragment"
    }
   },
   "outputs": [],
   "source": [
    "contest = \"d_president\"\n",
    "\n",
    "w.load_contest(contest)"
   ]
  },
  {
   "cell_type": "code",
   "execution_count": 27,
   "metadata": {},
   "outputs": [
    {
     "data": {
      "text/html": [
       "<style  type=\"text/css\" >\n",
       "    #T_5f3cc512_94a7_11ea_afd4_1df96150e54erow1_col0 {\n",
       "            color:  green;\n",
       "        }    #T_5f3cc512_94a7_11ea_afd4_1df96150e54erow1_col1 {\n",
       "            color:  green;\n",
       "        }</style><table id=\"T_5f3cc512_94a7_11ea_afd4_1df96150e54e\" ><thead>    <tr>        <th class=\"blank level0\" ></th>        <th class=\"col_heading level0 col0\" >Candidates</th>        <th class=\"col_heading level0 col1\" >Results</th>    </tr></thead><tbody>\n",
       "                <tr>\n",
       "                        <th id=\"T_5f3cc512_94a7_11ea_afd4_1df96150e54elevel0_row0\" class=\"row_heading level0 row0\" >0</th>\n",
       "                        <td id=\"T_5f3cc512_94a7_11ea_afd4_1df96150e54erow0_col0\" class=\"data row0 col0\" >Bennet</td>\n",
       "                        <td id=\"T_5f3cc512_94a7_11ea_afd4_1df96150e54erow0_col1\" class=\"data row0 col1\" >49</td>\n",
       "            </tr>\n",
       "            <tr>\n",
       "                        <th id=\"T_5f3cc512_94a7_11ea_afd4_1df96150e54elevel0_row1\" class=\"row_heading level0 row1\" >1</th>\n",
       "                        <td id=\"T_5f3cc512_94a7_11ea_afd4_1df96150e54erow1_col0\" class=\"data row1 col0\" >Biden</td>\n",
       "                        <td id=\"T_5f3cc512_94a7_11ea_afd4_1df96150e54erow1_col1\" class=\"data row1 col1\" >28135</td>\n",
       "            </tr>\n",
       "            <tr>\n",
       "                        <th id=\"T_5f3cc512_94a7_11ea_afd4_1df96150e54elevel0_row2\" class=\"row_heading level0 row2\" >2</th>\n",
       "                        <td id=\"T_5f3cc512_94a7_11ea_afd4_1df96150e54erow2_col0\" class=\"data row2 col0\" >Bloomberg</td>\n",
       "                        <td id=\"T_5f3cc512_94a7_11ea_afd4_1df96150e54erow2_col1\" class=\"data row2 col1\" >682</td>\n",
       "            </tr>\n",
       "            <tr>\n",
       "                        <th id=\"T_5f3cc512_94a7_11ea_afd4_1df96150e54elevel0_row3\" class=\"row_heading level0 row3\" >3</th>\n",
       "                        <td id=\"T_5f3cc512_94a7_11ea_afd4_1df96150e54erow3_col0\" class=\"data row3 col0\" >Buttigieg</td>\n",
       "                        <td id=\"T_5f3cc512_94a7_11ea_afd4_1df96150e54erow3_col1\" class=\"data row3 col1\" >509</td>\n",
       "            </tr>\n",
       "            <tr>\n",
       "                        <th id=\"T_5f3cc512_94a7_11ea_afd4_1df96150e54elevel0_row4\" class=\"row_heading level0 row4\" >4</th>\n",
       "                        <td id=\"T_5f3cc512_94a7_11ea_afd4_1df96150e54erow4_col0\" class=\"data row4 col0\" >Gabbard</td>\n",
       "                        <td id=\"T_5f3cc512_94a7_11ea_afd4_1df96150e54erow4_col1\" class=\"data row4 col1\" >130</td>\n",
       "            </tr>\n",
       "            <tr>\n",
       "                        <th id=\"T_5f3cc512_94a7_11ea_afd4_1df96150e54elevel0_row5\" class=\"row_heading level0 row5\" >5</th>\n",
       "                        <td id=\"T_5f3cc512_94a7_11ea_afd4_1df96150e54erow5_col0\" class=\"data row5 col0\" >Klobuchar</td>\n",
       "                        <td id=\"T_5f3cc512_94a7_11ea_afd4_1df96150e54erow5_col1\" class=\"data row5 col1\" >396</td>\n",
       "            </tr>\n",
       "            <tr>\n",
       "                        <th id=\"T_5f3cc512_94a7_11ea_afd4_1df96150e54elevel0_row6\" class=\"row_heading level0 row6\" >6</th>\n",
       "                        <td id=\"T_5f3cc512_94a7_11ea_afd4_1df96150e54erow6_col0\" class=\"data row6 col0\" >Patrick</td>\n",
       "                        <td id=\"T_5f3cc512_94a7_11ea_afd4_1df96150e54erow6_col1\" class=\"data row6 col1\" >23</td>\n",
       "            </tr>\n",
       "            <tr>\n",
       "                        <th id=\"T_5f3cc512_94a7_11ea_afd4_1df96150e54elevel0_row7\" class=\"row_heading level0 row7\" >7</th>\n",
       "                        <td id=\"T_5f3cc512_94a7_11ea_afd4_1df96150e54erow7_col0\" class=\"data row7 col0\" >Sanders</td>\n",
       "                        <td id=\"T_5f3cc512_94a7_11ea_afd4_1df96150e54erow7_col1\" class=\"data row7 col1\" >5466</td>\n",
       "            </tr>\n",
       "            <tr>\n",
       "                        <th id=\"T_5f3cc512_94a7_11ea_afd4_1df96150e54elevel0_row8\" class=\"row_heading level0 row8\" >8</th>\n",
       "                        <td id=\"T_5f3cc512_94a7_11ea_afd4_1df96150e54erow8_col0\" class=\"data row8 col0\" >Steyer</td>\n",
       "                        <td id=\"T_5f3cc512_94a7_11ea_afd4_1df96150e54erow8_col1\" class=\"data row8 col1\" >57</td>\n",
       "            </tr>\n",
       "            <tr>\n",
       "                        <th id=\"T_5f3cc512_94a7_11ea_afd4_1df96150e54elevel0_row9\" class=\"row_heading level0 row9\" >9</th>\n",
       "                        <td id=\"T_5f3cc512_94a7_11ea_afd4_1df96150e54erow9_col0\" class=\"data row9 col0\" >Warren</td>\n",
       "                        <td id=\"T_5f3cc512_94a7_11ea_afd4_1df96150e54erow9_col1\" class=\"data row9 col1\" >1074</td>\n",
       "            </tr>\n",
       "            <tr>\n",
       "                        <th id=\"T_5f3cc512_94a7_11ea_afd4_1df96150e54elevel0_row10\" class=\"row_heading level0 row10\" >10</th>\n",
       "                        <td id=\"T_5f3cc512_94a7_11ea_afd4_1df96150e54erow10_col0\" class=\"data row10 col0\" >Write_Ins</td>\n",
       "                        <td id=\"T_5f3cc512_94a7_11ea_afd4_1df96150e54erow10_col1\" class=\"data row10 col1\" >94</td>\n",
       "            </tr>\n",
       "    </tbody></table>"
      ],
      "text/plain": [
       "<pandas.io.formats.style.Styler at 0x7fb174f750d0>"
      ]
     },
     "execution_count": 27,
     "metadata": {},
     "output_type": "execute_result"
    }
   ],
   "source": [
    "#w.election.print_election()\n",
    "w.show_election_results()"
   ]
  },
  {
   "cell_type": "code",
   "execution_count": 28,
   "metadata": {
    "cell_style": "center",
    "slideshow": {
     "slide_type": "fragment"
    }
   },
   "outputs": [
    {
     "name": "stdout",
     "output_type": "stream",
     "text": [
      "[0.009008703217523537]\n",
      "[0.0009234474078164121]\n",
      "[25.031956574310442]\n",
      "[0.003555140439678134]\n",
      "[0.0013557917641022668]\n",
      "[0.018911122791365746]\n",
      "[3.4861811393987145]\n",
      "[0.007779570289495356]\n",
      "[338.44731532415614]\n",
      "[0.004817440096788956]\n",
      "\n",
      "\n",
      "Audit failed\n",
      "\tDelta:\t\t0.002954669618348799\t[needs to be < 1]\n",
      "\tLR:\t\t338.44731532415614\t[needs to be > 1]\n",
      "\tDelta:\t\t0.002954669618348799\t[needs to be < 1]\n",
      "\tATHENA risk:\t0.10579452168662448\t[needs to be <= 0.1]\n",
      "\tboth conditions are required to be satisfied.\n",
      "[25.031956574310442, 318.9674330483384]\n",
      "[3.4861811393987145, 7.257301825698137]\n",
      "[338.44731532415614, 59459.59140875457]\n",
      "\n",
      "\n",
      "Audit failed\n",
      "\tDelta:\t\t1.6818144496242947e-05\t[needs to be < 1]\n",
      "\tLR:\t\t59459.59140875457\t[needs to be > 1]\n",
      "\tDelta:\t\t1.6818144496242947e-05\t[needs to be < 1]\n",
      "\tATHENA risk:\t0.10579452168662448\t[needs to be <= 0.1]\n",
      "\tboth conditions are required to be satisfied.\n",
      "[25.031956574310442, 318.9674330483384, 4064.413544356601]\n",
      "[3.4861811393987145, 7.257301825698137, 15.107771995566983]\n",
      "[338.44731532415614, 59459.59140875457, 768193.0184289136]\n",
      "\n",
      "\n",
      "Audit failed\n",
      "\tDelta:\t\t1.3017561680593914e-06\t[needs to be < 1]\n",
      "\tLR:\t\t768193.0184289136\t[needs to be > 1]\n",
      "\tDelta:\t\t1.3017561680593914e-06\t[needs to be < 1]\n",
      "\tATHENA risk:\t0.10579452168662448\t[needs to be <= 0.1]\n",
      "\tboth conditions are required to be satisfied.\n",
      "[25.031956574310442, 318.9674330483384, 4064.413544356601, 118.86669376995202]\n",
      "[3.4861811393987145, 7.257301825698137, 15.107771995566983, 0.09877582506979844]\n",
      "[338.44731532415614, 59459.59140875457, 768193.0184289136, 10.800143274754669]\n",
      "\n",
      "\n",
      "Audit failed\n",
      "\tDelta:\t\t0.008412785518669716\t[needs to be < 1]\n",
      "\tLR:\t\t118.86669376995202\t[needs to be > 1]\n",
      "\tDelta:\t\t0.008412785518669716\t[needs to be < 1]\n",
      "\tATHENA risk:\t0.016690462430587995\t[needs to be <= 0.1]\n",
      "\tboth conditions are required to be satisfied.\n",
      "[1, 15, 1, 4, 1, 1, 1, 8, 1, 6, 1, '40', '0.0030', '0.1058']\n",
      "[1, 16, 0, 4, 1, 1, 1, 8, 1, 6, 1, '40', '0.0000', '0.1058']\n",
      "[1, 16, 0, 4, 1, 1, 1, 8, 0, 5, 1, '40', '0.0000', '0.1058']\n",
      "[0, 25, 0, 4, 0, 0, 0, 7, 0, 2, 0, '40', '0.0084', '0.0167']\n"
     ]
    },
    {
     "data": {
      "text/html": [
       "<style  type=\"text/css\" >\n",
       "    #T_601d5550_94a7_11ea_afd4_1df96150e54erow1_col0 {\n",
       "            color:  green;\n",
       "        }    #T_601d5550_94a7_11ea_afd4_1df96150e54erow1_col1 {\n",
       "            color:  green;\n",
       "        }    #T_601d5550_94a7_11ea_afd4_1df96150e54erow1_col2 {\n",
       "            color:  green;\n",
       "        }    #T_601d5550_94a7_11ea_afd4_1df96150e54erow1_col3 {\n",
       "            color:  green;\n",
       "        }    #T_601d5550_94a7_11ea_afd4_1df96150e54erow1_col4 {\n",
       "            color:  green;\n",
       "        }    #T_601d5550_94a7_11ea_afd4_1df96150e54erow1_col5 {\n",
       "            color:  green;\n",
       "        }    #T_601d5550_94a7_11ea_afd4_1df96150e54erow1_col6 {\n",
       "            color:  green;\n",
       "        }    #T_601d5550_94a7_11ea_afd4_1df96150e54erow1_col7 {\n",
       "            color:  green;\n",
       "        }</style><table id=\"T_601d5550_94a7_11ea_afd4_1df96150e54e\" ><thead>    <tr>        <th class=\"blank level0\" ></th>        <th class=\"col_heading level0 col0\" >Candidates</th>        <th class=\"col_heading level0 col1\" >Results</th>        <th class=\"col_heading level0 col2\" >Round 1</th>        <th class=\"col_heading level0 col3\" >Round 2</th>        <th class=\"col_heading level0 col4\" >Round 3</th>        <th class=\"col_heading level0 col5\" >Round 4</th>        <th class=\"col_heading level0 col6\" >Total</th>        <th class=\"col_heading level0 col7\" >Required</th>    </tr></thead><tbody>\n",
       "                <tr>\n",
       "                        <th id=\"T_601d5550_94a7_11ea_afd4_1df96150e54elevel0_row0\" class=\"row_heading level0 row0\" >0</th>\n",
       "                        <td id=\"T_601d5550_94a7_11ea_afd4_1df96150e54erow0_col0\" class=\"data row0 col0\" >Bennet</td>\n",
       "                        <td id=\"T_601d5550_94a7_11ea_afd4_1df96150e54erow0_col1\" class=\"data row0 col1\" >49</td>\n",
       "                        <td id=\"T_601d5550_94a7_11ea_afd4_1df96150e54erow0_col2\" class=\"data row0 col2\" >1</td>\n",
       "                        <td id=\"T_601d5550_94a7_11ea_afd4_1df96150e54erow0_col3\" class=\"data row0 col3\" >1</td>\n",
       "                        <td id=\"T_601d5550_94a7_11ea_afd4_1df96150e54erow0_col4\" class=\"data row0 col4\" >1</td>\n",
       "                        <td id=\"T_601d5550_94a7_11ea_afd4_1df96150e54erow0_col5\" class=\"data row0 col5\" >0</td>\n",
       "                        <td id=\"T_601d5550_94a7_11ea_afd4_1df96150e54erow0_col6\" class=\"data row0 col6\" >3</td>\n",
       "                        <td id=\"T_601d5550_94a7_11ea_afd4_1df96150e54erow0_col7\" class=\"data row0 col7\" > </td>\n",
       "            </tr>\n",
       "            <tr>\n",
       "                        <th id=\"T_601d5550_94a7_11ea_afd4_1df96150e54elevel0_row1\" class=\"row_heading level0 row1\" >1</th>\n",
       "                        <td id=\"T_601d5550_94a7_11ea_afd4_1df96150e54erow1_col0\" class=\"data row1 col0\" >Biden</td>\n",
       "                        <td id=\"T_601d5550_94a7_11ea_afd4_1df96150e54erow1_col1\" class=\"data row1 col1\" >28135</td>\n",
       "                        <td id=\"T_601d5550_94a7_11ea_afd4_1df96150e54erow1_col2\" class=\"data row1 col2\" >15</td>\n",
       "                        <td id=\"T_601d5550_94a7_11ea_afd4_1df96150e54erow1_col3\" class=\"data row1 col3\" >16</td>\n",
       "                        <td id=\"T_601d5550_94a7_11ea_afd4_1df96150e54erow1_col4\" class=\"data row1 col4\" >16</td>\n",
       "                        <td id=\"T_601d5550_94a7_11ea_afd4_1df96150e54erow1_col5\" class=\"data row1 col5\" >25</td>\n",
       "                        <td id=\"T_601d5550_94a7_11ea_afd4_1df96150e54erow1_col6\" class=\"data row1 col6\" >72</td>\n",
       "                        <td id=\"T_601d5550_94a7_11ea_afd4_1df96150e54erow1_col7\" class=\"data row1 col7\" >74</td>\n",
       "            </tr>\n",
       "            <tr>\n",
       "                        <th id=\"T_601d5550_94a7_11ea_afd4_1df96150e54elevel0_row2\" class=\"row_heading level0 row2\" >2</th>\n",
       "                        <td id=\"T_601d5550_94a7_11ea_afd4_1df96150e54erow2_col0\" class=\"data row2 col0\" >Bloomberg</td>\n",
       "                        <td id=\"T_601d5550_94a7_11ea_afd4_1df96150e54erow2_col1\" class=\"data row2 col1\" >682</td>\n",
       "                        <td id=\"T_601d5550_94a7_11ea_afd4_1df96150e54erow2_col2\" class=\"data row2 col2\" >1</td>\n",
       "                        <td id=\"T_601d5550_94a7_11ea_afd4_1df96150e54erow2_col3\" class=\"data row2 col3\" >0</td>\n",
       "                        <td id=\"T_601d5550_94a7_11ea_afd4_1df96150e54erow2_col4\" class=\"data row2 col4\" >0</td>\n",
       "                        <td id=\"T_601d5550_94a7_11ea_afd4_1df96150e54erow2_col5\" class=\"data row2 col5\" >0</td>\n",
       "                        <td id=\"T_601d5550_94a7_11ea_afd4_1df96150e54erow2_col6\" class=\"data row2 col6\" >1</td>\n",
       "                        <td id=\"T_601d5550_94a7_11ea_afd4_1df96150e54erow2_col7\" class=\"data row2 col7\" > </td>\n",
       "            </tr>\n",
       "            <tr>\n",
       "                        <th id=\"T_601d5550_94a7_11ea_afd4_1df96150e54elevel0_row3\" class=\"row_heading level0 row3\" >3</th>\n",
       "                        <td id=\"T_601d5550_94a7_11ea_afd4_1df96150e54erow3_col0\" class=\"data row3 col0\" >Buttigieg</td>\n",
       "                        <td id=\"T_601d5550_94a7_11ea_afd4_1df96150e54erow3_col1\" class=\"data row3 col1\" >509</td>\n",
       "                        <td id=\"T_601d5550_94a7_11ea_afd4_1df96150e54erow3_col2\" class=\"data row3 col2\" >4</td>\n",
       "                        <td id=\"T_601d5550_94a7_11ea_afd4_1df96150e54erow3_col3\" class=\"data row3 col3\" >4</td>\n",
       "                        <td id=\"T_601d5550_94a7_11ea_afd4_1df96150e54erow3_col4\" class=\"data row3 col4\" >4</td>\n",
       "                        <td id=\"T_601d5550_94a7_11ea_afd4_1df96150e54erow3_col5\" class=\"data row3 col5\" >4</td>\n",
       "                        <td id=\"T_601d5550_94a7_11ea_afd4_1df96150e54erow3_col6\" class=\"data row3 col6\" >16</td>\n",
       "                        <td id=\"T_601d5550_94a7_11ea_afd4_1df96150e54erow3_col7\" class=\"data row3 col7\" > </td>\n",
       "            </tr>\n",
       "            <tr>\n",
       "                        <th id=\"T_601d5550_94a7_11ea_afd4_1df96150e54elevel0_row4\" class=\"row_heading level0 row4\" >4</th>\n",
       "                        <td id=\"T_601d5550_94a7_11ea_afd4_1df96150e54erow4_col0\" class=\"data row4 col0\" >Gabbard</td>\n",
       "                        <td id=\"T_601d5550_94a7_11ea_afd4_1df96150e54erow4_col1\" class=\"data row4 col1\" >130</td>\n",
       "                        <td id=\"T_601d5550_94a7_11ea_afd4_1df96150e54erow4_col2\" class=\"data row4 col2\" >1</td>\n",
       "                        <td id=\"T_601d5550_94a7_11ea_afd4_1df96150e54erow4_col3\" class=\"data row4 col3\" >1</td>\n",
       "                        <td id=\"T_601d5550_94a7_11ea_afd4_1df96150e54erow4_col4\" class=\"data row4 col4\" >1</td>\n",
       "                        <td id=\"T_601d5550_94a7_11ea_afd4_1df96150e54erow4_col5\" class=\"data row4 col5\" >0</td>\n",
       "                        <td id=\"T_601d5550_94a7_11ea_afd4_1df96150e54erow4_col6\" class=\"data row4 col6\" >3</td>\n",
       "                        <td id=\"T_601d5550_94a7_11ea_afd4_1df96150e54erow4_col7\" class=\"data row4 col7\" > </td>\n",
       "            </tr>\n",
       "            <tr>\n",
       "                        <th id=\"T_601d5550_94a7_11ea_afd4_1df96150e54elevel0_row5\" class=\"row_heading level0 row5\" >5</th>\n",
       "                        <td id=\"T_601d5550_94a7_11ea_afd4_1df96150e54erow5_col0\" class=\"data row5 col0\" >Klobuchar</td>\n",
       "                        <td id=\"T_601d5550_94a7_11ea_afd4_1df96150e54erow5_col1\" class=\"data row5 col1\" >396</td>\n",
       "                        <td id=\"T_601d5550_94a7_11ea_afd4_1df96150e54erow5_col2\" class=\"data row5 col2\" >1</td>\n",
       "                        <td id=\"T_601d5550_94a7_11ea_afd4_1df96150e54erow5_col3\" class=\"data row5 col3\" >1</td>\n",
       "                        <td id=\"T_601d5550_94a7_11ea_afd4_1df96150e54erow5_col4\" class=\"data row5 col4\" >1</td>\n",
       "                        <td id=\"T_601d5550_94a7_11ea_afd4_1df96150e54erow5_col5\" class=\"data row5 col5\" >0</td>\n",
       "                        <td id=\"T_601d5550_94a7_11ea_afd4_1df96150e54erow5_col6\" class=\"data row5 col6\" >3</td>\n",
       "                        <td id=\"T_601d5550_94a7_11ea_afd4_1df96150e54erow5_col7\" class=\"data row5 col7\" > </td>\n",
       "            </tr>\n",
       "            <tr>\n",
       "                        <th id=\"T_601d5550_94a7_11ea_afd4_1df96150e54elevel0_row6\" class=\"row_heading level0 row6\" >6</th>\n",
       "                        <td id=\"T_601d5550_94a7_11ea_afd4_1df96150e54erow6_col0\" class=\"data row6 col0\" >Patrick</td>\n",
       "                        <td id=\"T_601d5550_94a7_11ea_afd4_1df96150e54erow6_col1\" class=\"data row6 col1\" >23</td>\n",
       "                        <td id=\"T_601d5550_94a7_11ea_afd4_1df96150e54erow6_col2\" class=\"data row6 col2\" >1</td>\n",
       "                        <td id=\"T_601d5550_94a7_11ea_afd4_1df96150e54erow6_col3\" class=\"data row6 col3\" >1</td>\n",
       "                        <td id=\"T_601d5550_94a7_11ea_afd4_1df96150e54erow6_col4\" class=\"data row6 col4\" >1</td>\n",
       "                        <td id=\"T_601d5550_94a7_11ea_afd4_1df96150e54erow6_col5\" class=\"data row6 col5\" >0</td>\n",
       "                        <td id=\"T_601d5550_94a7_11ea_afd4_1df96150e54erow6_col6\" class=\"data row6 col6\" >3</td>\n",
       "                        <td id=\"T_601d5550_94a7_11ea_afd4_1df96150e54erow6_col7\" class=\"data row6 col7\" > </td>\n",
       "            </tr>\n",
       "            <tr>\n",
       "                        <th id=\"T_601d5550_94a7_11ea_afd4_1df96150e54elevel0_row7\" class=\"row_heading level0 row7\" >7</th>\n",
       "                        <td id=\"T_601d5550_94a7_11ea_afd4_1df96150e54erow7_col0\" class=\"data row7 col0\" >Sanders</td>\n",
       "                        <td id=\"T_601d5550_94a7_11ea_afd4_1df96150e54erow7_col1\" class=\"data row7 col1\" >5466</td>\n",
       "                        <td id=\"T_601d5550_94a7_11ea_afd4_1df96150e54erow7_col2\" class=\"data row7 col2\" >8</td>\n",
       "                        <td id=\"T_601d5550_94a7_11ea_afd4_1df96150e54erow7_col3\" class=\"data row7 col3\" >8</td>\n",
       "                        <td id=\"T_601d5550_94a7_11ea_afd4_1df96150e54erow7_col4\" class=\"data row7 col4\" >8</td>\n",
       "                        <td id=\"T_601d5550_94a7_11ea_afd4_1df96150e54erow7_col5\" class=\"data row7 col5\" >7</td>\n",
       "                        <td id=\"T_601d5550_94a7_11ea_afd4_1df96150e54erow7_col6\" class=\"data row7 col6\" >31</td>\n",
       "                        <td id=\"T_601d5550_94a7_11ea_afd4_1df96150e54erow7_col7\" class=\"data row7 col7\" > </td>\n",
       "            </tr>\n",
       "            <tr>\n",
       "                        <th id=\"T_601d5550_94a7_11ea_afd4_1df96150e54elevel0_row8\" class=\"row_heading level0 row8\" >8</th>\n",
       "                        <td id=\"T_601d5550_94a7_11ea_afd4_1df96150e54erow8_col0\" class=\"data row8 col0\" >Steyer</td>\n",
       "                        <td id=\"T_601d5550_94a7_11ea_afd4_1df96150e54erow8_col1\" class=\"data row8 col1\" >57</td>\n",
       "                        <td id=\"T_601d5550_94a7_11ea_afd4_1df96150e54erow8_col2\" class=\"data row8 col2\" >1</td>\n",
       "                        <td id=\"T_601d5550_94a7_11ea_afd4_1df96150e54erow8_col3\" class=\"data row8 col3\" >1</td>\n",
       "                        <td id=\"T_601d5550_94a7_11ea_afd4_1df96150e54erow8_col4\" class=\"data row8 col4\" >0</td>\n",
       "                        <td id=\"T_601d5550_94a7_11ea_afd4_1df96150e54erow8_col5\" class=\"data row8 col5\" >0</td>\n",
       "                        <td id=\"T_601d5550_94a7_11ea_afd4_1df96150e54erow8_col6\" class=\"data row8 col6\" >2</td>\n",
       "                        <td id=\"T_601d5550_94a7_11ea_afd4_1df96150e54erow8_col7\" class=\"data row8 col7\" > </td>\n",
       "            </tr>\n",
       "            <tr>\n",
       "                        <th id=\"T_601d5550_94a7_11ea_afd4_1df96150e54elevel0_row9\" class=\"row_heading level0 row9\" >9</th>\n",
       "                        <td id=\"T_601d5550_94a7_11ea_afd4_1df96150e54erow9_col0\" class=\"data row9 col0\" >Warren</td>\n",
       "                        <td id=\"T_601d5550_94a7_11ea_afd4_1df96150e54erow9_col1\" class=\"data row9 col1\" >1074</td>\n",
       "                        <td id=\"T_601d5550_94a7_11ea_afd4_1df96150e54erow9_col2\" class=\"data row9 col2\" >6</td>\n",
       "                        <td id=\"T_601d5550_94a7_11ea_afd4_1df96150e54erow9_col3\" class=\"data row9 col3\" >6</td>\n",
       "                        <td id=\"T_601d5550_94a7_11ea_afd4_1df96150e54erow9_col4\" class=\"data row9 col4\" >5</td>\n",
       "                        <td id=\"T_601d5550_94a7_11ea_afd4_1df96150e54erow9_col5\" class=\"data row9 col5\" >2</td>\n",
       "                        <td id=\"T_601d5550_94a7_11ea_afd4_1df96150e54erow9_col6\" class=\"data row9 col6\" >19</td>\n",
       "                        <td id=\"T_601d5550_94a7_11ea_afd4_1df96150e54erow9_col7\" class=\"data row9 col7\" > </td>\n",
       "            </tr>\n",
       "            <tr>\n",
       "                        <th id=\"T_601d5550_94a7_11ea_afd4_1df96150e54elevel0_row10\" class=\"row_heading level0 row10\" >10</th>\n",
       "                        <td id=\"T_601d5550_94a7_11ea_afd4_1df96150e54erow10_col0\" class=\"data row10 col0\" >Write_Ins</td>\n",
       "                        <td id=\"T_601d5550_94a7_11ea_afd4_1df96150e54erow10_col1\" class=\"data row10 col1\" >94</td>\n",
       "                        <td id=\"T_601d5550_94a7_11ea_afd4_1df96150e54erow10_col2\" class=\"data row10 col2\" >1</td>\n",
       "                        <td id=\"T_601d5550_94a7_11ea_afd4_1df96150e54erow10_col3\" class=\"data row10 col3\" >1</td>\n",
       "                        <td id=\"T_601d5550_94a7_11ea_afd4_1df96150e54erow10_col4\" class=\"data row10 col4\" >1</td>\n",
       "                        <td id=\"T_601d5550_94a7_11ea_afd4_1df96150e54erow10_col5\" class=\"data row10 col5\" >0</td>\n",
       "                        <td id=\"T_601d5550_94a7_11ea_afd4_1df96150e54erow10_col6\" class=\"data row10 col6\" >3</td>\n",
       "                        <td id=\"T_601d5550_94a7_11ea_afd4_1df96150e54erow10_col7\" class=\"data row10 col7\" > </td>\n",
       "            </tr>\n",
       "            <tr>\n",
       "                        <th id=\"T_601d5550_94a7_11ea_afd4_1df96150e54elevel0_row11\" class=\"row_heading level0 row11\" >11</th>\n",
       "                        <td id=\"T_601d5550_94a7_11ea_afd4_1df96150e54erow11_col0\" class=\"data row11 col0\" > </td>\n",
       "                        <td id=\"T_601d5550_94a7_11ea_afd4_1df96150e54erow11_col1\" class=\"data row11 col1\" >Sum</td>\n",
       "                        <td id=\"T_601d5550_94a7_11ea_afd4_1df96150e54erow11_col2\" class=\"data row11 col2\" >40</td>\n",
       "                        <td id=\"T_601d5550_94a7_11ea_afd4_1df96150e54erow11_col3\" class=\"data row11 col3\" >40</td>\n",
       "                        <td id=\"T_601d5550_94a7_11ea_afd4_1df96150e54erow11_col4\" class=\"data row11 col4\" >40</td>\n",
       "                        <td id=\"T_601d5550_94a7_11ea_afd4_1df96150e54erow11_col5\" class=\"data row11 col5\" >40</td>\n",
       "                        <td id=\"T_601d5550_94a7_11ea_afd4_1df96150e54erow11_col6\" class=\"data row11 col6\" > </td>\n",
       "                        <td id=\"T_601d5550_94a7_11ea_afd4_1df96150e54erow11_col7\" class=\"data row11 col7\" > </td>\n",
       "            </tr>\n",
       "            <tr>\n",
       "                        <th id=\"T_601d5550_94a7_11ea_afd4_1df96150e54elevel0_row12\" class=\"row_heading level0 row12\" >12</th>\n",
       "                        <td id=\"T_601d5550_94a7_11ea_afd4_1df96150e54erow12_col0\" class=\"data row12 col0\" > </td>\n",
       "                        <td id=\"T_601d5550_94a7_11ea_afd4_1df96150e54erow12_col1\" class=\"data row12 col1\" >Delta</td>\n",
       "                        <td id=\"T_601d5550_94a7_11ea_afd4_1df96150e54erow12_col2\" class=\"data row12 col2\" >0.0030</td>\n",
       "                        <td id=\"T_601d5550_94a7_11ea_afd4_1df96150e54erow12_col3\" class=\"data row12 col3\" >0.0000</td>\n",
       "                        <td id=\"T_601d5550_94a7_11ea_afd4_1df96150e54erow12_col4\" class=\"data row12 col4\" >0.0000</td>\n",
       "                        <td id=\"T_601d5550_94a7_11ea_afd4_1df96150e54erow12_col5\" class=\"data row12 col5\" >0.0084</td>\n",
       "                        <td id=\"T_601d5550_94a7_11ea_afd4_1df96150e54erow12_col6\" class=\"data row12 col6\" > </td>\n",
       "                        <td id=\"T_601d5550_94a7_11ea_afd4_1df96150e54erow12_col7\" class=\"data row12 col7\" > </td>\n",
       "            </tr>\n",
       "            <tr>\n",
       "                        <th id=\"T_601d5550_94a7_11ea_afd4_1df96150e54elevel0_row13\" class=\"row_heading level0 row13\" >13</th>\n",
       "                        <td id=\"T_601d5550_94a7_11ea_afd4_1df96150e54erow13_col0\" class=\"data row13 col0\" > </td>\n",
       "                        <td id=\"T_601d5550_94a7_11ea_afd4_1df96150e54erow13_col1\" class=\"data row13 col1\" >P-Value</td>\n",
       "                        <td id=\"T_601d5550_94a7_11ea_afd4_1df96150e54erow13_col2\" class=\"data row13 col2\" >0.1058</td>\n",
       "                        <td id=\"T_601d5550_94a7_11ea_afd4_1df96150e54erow13_col3\" class=\"data row13 col3\" >0.1058</td>\n",
       "                        <td id=\"T_601d5550_94a7_11ea_afd4_1df96150e54erow13_col4\" class=\"data row13 col4\" >0.1058</td>\n",
       "                        <td id=\"T_601d5550_94a7_11ea_afd4_1df96150e54erow13_col5\" class=\"data row13 col5\" >0.0167</td>\n",
       "                        <td id=\"T_601d5550_94a7_11ea_afd4_1df96150e54erow13_col6\" class=\"data row13 col6\" > </td>\n",
       "                        <td id=\"T_601d5550_94a7_11ea_afd4_1df96150e54erow13_col7\" class=\"data row13 col7\" > </td>\n",
       "            </tr>\n",
       "    </tbody></table>"
      ],
      "text/plain": [
       "<pandas.io.formats.style.Styler at 0x7fb17efc2d10>"
      ]
     },
     "execution_count": 28,
     "metadata": {},
     "output_type": "execute_result"
    }
   ],
   "source": [
    "w.set_observations(59, 40, [1, 15, 1, 4, 1, 1, 1, 8, 1, 6, 1])\n",
    "w.set_observations(59, 40, [1, 16, 0, 4, 1, 1, 1, 8, 1, 6, 1])\n",
    "w.set_observations(59, 40, [1, 16, 0, 4, 1, 1, 1, 8, 0, 5, 1])\n",
    "w.set_observations(59, 40, [0, 25, 0, 4, 0, 0, 0, 7, 0, 2, 0])\n",
    "w.present_state()"
   ]
  },
  {
   "cell_type": "code",
   "execution_count": null,
   "metadata": {
    "cell_style": "center",
    "slideshow": {
     "slide_type": "slide"
    }
   },
   "outputs": [],
   "source": []
  },
  {
   "cell_type": "code",
   "execution_count": null,
   "metadata": {},
   "outputs": [],
   "source": [
    "w.run_audit_round()\n",
    "w.present_state()"
   ]
  },
  {
   "cell_type": "markdown",
   "metadata": {},
   "source": [
    "### DEV part"
   ]
  },
  {
   "cell_type": "code",
   "execution_count": null,
   "metadata": {},
   "outputs": [],
   "source": [
    "d = {'Candidates': w.election.candidates, 'Results': w.election.results}\n",
    "df = pd.DataFrame(data=d)\n",
    "\n",
    "# Results of round samples\n",
    "for rd in range(w.round_number):\n",
    "    rd_caption = \"Round \" + str(rd + 1)\n",
    "    r = []\n",
    "    for i in range(len(w.election.candidates)):\n",
    "        r.append(w.round_observations[i][rd])\n",
    "    df[rd_caption] = r\n",
    "\n",
    "# Total column - sum of sampled ballots    \n",
    "r = []\n",
    "rd_caption = \"Total\"\n",
    "for i in range(len(w.election.candidates)):\n",
    "    r.append(w.audit_observations[i][w.round_number - 1])\n",
    "df[rd_caption] = r\n",
    "\n",
    "# Required column - presents kmin values to pass the audit\n",
    "r = []\n",
    "rd_caption = \"Required\"\n",
    "for i in range(len(w.election.candidates)):\n",
    "    if w.min_kmins[i] == 0:\n",
    "        r.append(\"\")\n",
    "    else:\n",
    "        r.append(w.min_kmins[i])\n",
    "df[rd_caption] = r\n",
    "\n",
    "s = df.style.set_properties(subset = pd.IndexSlice[w.election.winners, :], **{'color' : 'green'})\n"
   ]
  },
  {
   "cell_type": "code",
   "execution_count": null,
   "metadata": {},
   "outputs": [],
   "source": []
  },
  {
   "cell_type": "code",
   "execution_count": null,
   "metadata": {},
   "outputs": [],
   "source": []
  },
  {
   "cell_type": "code",
   "execution_count": null,
   "metadata": {},
   "outputs": [],
   "source": []
  },
  {
   "cell_type": "markdown",
   "metadata": {
    "slideshow": {
     "slide_type": "slide"
    }
   },
   "source": [
    "# This part is only needed if you are not planning to enter election details \"by hand\"\n"
   ]
  },
  {
   "cell_type": "code",
   "execution_count": null,
   "metadata": {},
   "outputs": [],
   "source": [
    "audit_type = \"athena\" "
   ]
  },
  {
   "cell_type": "code",
   "execution_count": null,
   "metadata": {},
   "outputs": [],
   "source": [
    "logging.getLogger(__name__).setLevel(\"INFO\")"
   ]
  },
  {
   "cell_type": "code",
   "execution_count": null,
   "metadata": {},
   "outputs": [],
   "source": [
    "alpha = 0.1 # risk limit\n",
    "name = \"Election name\"\n",
    "winners = 1 # number of winners"
   ]
  },
  {
   "cell_type": "code",
   "execution_count": null,
   "metadata": {},
   "outputs": [],
   "source": [
    "results = [17800, 9700] # ballots for candidates\n",
    "total = 67000 # total number of ballots cast (can be set to 0)"
   ]
  },
  {
   "cell_type": "code",
   "execution_count": null,
   "metadata": {},
   "outputs": [],
   "source": [
    "delta = 1\n",
    "candidates = [string.ascii_uppercase[i] for i in range(len(results))]\n",
    "ballots_cast = total\n",
    "if ballots_cast < sum(results):\n",
    "    ballots_cast = sum(results)\n",
    "model = \"bin\"\n",
    "round_schedule = []\n",
    "election = {}\n",
    "election[\"ballots_cast\"] = ballots_cast\n",
    "election[\"alpha\"] = alpha\n",
    "election[\"delta\"] = delta\n",
    "election[\"candidates\"] = candidates\n",
    "election[\"results\"] = results\n",
    "election[\"winners\"] = winners\n",
    "election[\"name\"] = name\n",
    "election[\"model\"] = model\n",
    "election_object = Election(election)\n",
    "election_object.print_election()"
   ]
  },
  {
   "cell_type": "code",
   "execution_count": null,
   "metadata": {},
   "outputs": [],
   "source": [
    "w = Audit(audit_type, alpha, delta)\n",
    "w.add_election(election)\n",
    "w.add_round_schedule(round_schedule)\n",
    "\n",
    "w.run_interactive()\n"
   ]
  }
 ],
 "metadata": {
  "celltoolbar": "Slideshow",
  "kernelspec": {
   "display_name": "Python 3",
   "language": "python",
   "name": "python3"
  },
  "language_info": {
   "codemirror_mode": {
    "name": "ipython",
    "version": 3
   },
   "file_extension": ".py",
   "mimetype": "text/x-python",
   "name": "python",
   "nbconvert_exporter": "python",
   "pygments_lexer": "ipython3",
   "version": "3.7.6"
  }
 },
 "nbformat": 4,
 "nbformat_minor": 4
}
