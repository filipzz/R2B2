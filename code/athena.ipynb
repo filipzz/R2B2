{
 "cells": [
  {
   "cell_type": "markdown",
   "metadata": {},
   "source": [
    "# The required imports"
   ]
  },
  {
   "cell_type": "code",
   "execution_count": 1,
   "metadata": {
    "slideshow": {
     "slide_type": "slide"
    }
   },
   "outputs": [],
   "source": [
    "# we either import locally (after the repo was cloned)\n",
    "# or we first clone it and then use it (e.g., when run in Google Colab)\n",
    "shell = get_ipython().__class__.__name__ \n",
    "\n",
    "if shell == 'Shell':\n",
    "    # imports when launched in e.g., Google Colab\n",
    "    !git clone https://github.com/filipzz/athena.git r2b2\n",
    "    from r2b2.code.athena.athena import AthenaAudit\n",
    "    from r2b2.code.athena.contest import Contest\n",
    "    from r2b2.code.athena.audit import Audit\n",
    "else: # shell ==  'ZMQInteractiveShell' or shell == 'TerminalInteractiveShell'\n",
    "    # local imports if you run it with e.g., Jupyter\n",
    "    from athena.athena import AthenaAudit\n",
    "    from athena.contest import Contest\n",
    "    from athena.audit import Audit\n",
    "\n",
    "import pandas as pd"
   ]
  },
  {
   "cell_type": "markdown",
   "metadata": {},
   "source": [
    "# Setting risk limit"
   ]
  },
  {
   "cell_type": "code",
   "execution_count": 2,
   "metadata": {
    "cell_style": "center",
    "slideshow": {
     "slide_type": "slide"
    }
   },
   "outputs": [],
   "source": [
    "# Set risk limit of the audit\n",
    "risk_limit = 0.1 "
   ]
  },
  {
   "cell_type": "markdown",
   "metadata": {},
   "source": [
    "# Loading data from a file"
   ]
  },
  {
   "cell_type": "code",
   "execution_count": 3,
   "metadata": {
    "cell_style": "center",
    "slideshow": {
     "slide_type": "fragment"
    }
   },
   "outputs": [],
   "source": [
    "# address of the file with election results the file can be either\n",
    "# an url:\n",
    "#election_results = \"https://raw.githubusercontent.com/gwexploratoryaudits/brla_explore/poorvi/R2Audits/Athena/Scripts/2020MontgomeryPrimary/2020_montgomery_formatted.json\"\n",
    "# or a local file:\n",
    "#election_results = \"athena/test_data/simple.json\"\n",
    "#contest_name = \"contest_1\"\n",
    "#another example\n",
    "election_results = \"athena/test_data/2020_montgomery_formatted.json\"\n",
    "contest_name = \"d_president\""
   ]
  },
  {
   "cell_type": "markdown",
   "metadata": {},
   "source": [
    "# Check if the load is successful"
   ]
  },
  {
   "cell_type": "code",
   "execution_count": 4,
   "metadata": {
    "cell_style": "center",
    "slideshow": {
     "slide_type": "fragment"
    }
   },
   "outputs": [],
   "source": [
    "\n",
    "w = Audit(\"minerva\", risk_limit)\n",
    "\n",
    "w.read_election_results(election_results)"
   ]
  },
  {
   "cell_type": "code",
   "execution_count": 5,
   "metadata": {},
   "outputs": [
    {
     "name": "stdout",
     "output_type": "stream",
     "text": [
      "{'d_president': [[], [], [], [], [], [], [], [], [], [], []], 'd_congress': [[], []], 'd_senator': [[], []], 'd_cc_1_2_2021': [[], []], 'd_cc_1_3_2021': [[], []], 'r_10th': [[], [], []], 'r_senator': [[], [], []], 'r_42nd': [[], []], 'r_cc_1_2_2021': [[], []]}\n"
     ]
    }
   ],
   "source": [
    "print(w.observations)"
   ]
  },
  {
   "cell_type": "code",
   "execution_count": 6,
   "metadata": {
    "cell_style": "center"
   },
   "outputs": [
    {
     "data": {
      "text/html": [
       "<style  type=\"text/css\" >\n",
       "#T_6cb5545a_1f82_11eb_84c9_678f0700d3fbrow1_col0,#T_6cb5545a_1f82_11eb_84c9_678f0700d3fbrow1_col1{\n",
       "            color:  green;\n",
       "        }</style><table id=\"T_6cb5545a_1f82_11eb_84c9_678f0700d3fb\" ><thead>    <tr>        <th class=\"blank level0\" ></th>        <th class=\"col_heading level0 col0\" >Candidates</th>        <th class=\"col_heading level0 col1\" >Results</th>    </tr></thead><tbody>\n",
       "                <tr>\n",
       "                        <th id=\"T_6cb5545a_1f82_11eb_84c9_678f0700d3fblevel0_row0\" class=\"row_heading level0 row0\" >0</th>\n",
       "                        <td id=\"T_6cb5545a_1f82_11eb_84c9_678f0700d3fbrow0_col0\" class=\"data row0 col0\" >Bennet</td>\n",
       "                        <td id=\"T_6cb5545a_1f82_11eb_84c9_678f0700d3fbrow0_col1\" class=\"data row0 col1\" >49</td>\n",
       "            </tr>\n",
       "            <tr>\n",
       "                        <th id=\"T_6cb5545a_1f82_11eb_84c9_678f0700d3fblevel0_row1\" class=\"row_heading level0 row1\" >1</th>\n",
       "                        <td id=\"T_6cb5545a_1f82_11eb_84c9_678f0700d3fbrow1_col0\" class=\"data row1 col0\" >Biden</td>\n",
       "                        <td id=\"T_6cb5545a_1f82_11eb_84c9_678f0700d3fbrow1_col1\" class=\"data row1 col1\" >28135</td>\n",
       "            </tr>\n",
       "            <tr>\n",
       "                        <th id=\"T_6cb5545a_1f82_11eb_84c9_678f0700d3fblevel0_row2\" class=\"row_heading level0 row2\" >2</th>\n",
       "                        <td id=\"T_6cb5545a_1f82_11eb_84c9_678f0700d3fbrow2_col0\" class=\"data row2 col0\" >Bloomberg</td>\n",
       "                        <td id=\"T_6cb5545a_1f82_11eb_84c9_678f0700d3fbrow2_col1\" class=\"data row2 col1\" >682</td>\n",
       "            </tr>\n",
       "            <tr>\n",
       "                        <th id=\"T_6cb5545a_1f82_11eb_84c9_678f0700d3fblevel0_row3\" class=\"row_heading level0 row3\" >3</th>\n",
       "                        <td id=\"T_6cb5545a_1f82_11eb_84c9_678f0700d3fbrow3_col0\" class=\"data row3 col0\" >Buttigieg</td>\n",
       "                        <td id=\"T_6cb5545a_1f82_11eb_84c9_678f0700d3fbrow3_col1\" class=\"data row3 col1\" >509</td>\n",
       "            </tr>\n",
       "            <tr>\n",
       "                        <th id=\"T_6cb5545a_1f82_11eb_84c9_678f0700d3fblevel0_row4\" class=\"row_heading level0 row4\" >4</th>\n",
       "                        <td id=\"T_6cb5545a_1f82_11eb_84c9_678f0700d3fbrow4_col0\" class=\"data row4 col0\" >Gabbard</td>\n",
       "                        <td id=\"T_6cb5545a_1f82_11eb_84c9_678f0700d3fbrow4_col1\" class=\"data row4 col1\" >130</td>\n",
       "            </tr>\n",
       "            <tr>\n",
       "                        <th id=\"T_6cb5545a_1f82_11eb_84c9_678f0700d3fblevel0_row5\" class=\"row_heading level0 row5\" >5</th>\n",
       "                        <td id=\"T_6cb5545a_1f82_11eb_84c9_678f0700d3fbrow5_col0\" class=\"data row5 col0\" >Klobuchar</td>\n",
       "                        <td id=\"T_6cb5545a_1f82_11eb_84c9_678f0700d3fbrow5_col1\" class=\"data row5 col1\" >396</td>\n",
       "            </tr>\n",
       "            <tr>\n",
       "                        <th id=\"T_6cb5545a_1f82_11eb_84c9_678f0700d3fblevel0_row6\" class=\"row_heading level0 row6\" >6</th>\n",
       "                        <td id=\"T_6cb5545a_1f82_11eb_84c9_678f0700d3fbrow6_col0\" class=\"data row6 col0\" >Patrick</td>\n",
       "                        <td id=\"T_6cb5545a_1f82_11eb_84c9_678f0700d3fbrow6_col1\" class=\"data row6 col1\" >23</td>\n",
       "            </tr>\n",
       "            <tr>\n",
       "                        <th id=\"T_6cb5545a_1f82_11eb_84c9_678f0700d3fblevel0_row7\" class=\"row_heading level0 row7\" >7</th>\n",
       "                        <td id=\"T_6cb5545a_1f82_11eb_84c9_678f0700d3fbrow7_col0\" class=\"data row7 col0\" >Sanders</td>\n",
       "                        <td id=\"T_6cb5545a_1f82_11eb_84c9_678f0700d3fbrow7_col1\" class=\"data row7 col1\" >5466</td>\n",
       "            </tr>\n",
       "            <tr>\n",
       "                        <th id=\"T_6cb5545a_1f82_11eb_84c9_678f0700d3fblevel0_row8\" class=\"row_heading level0 row8\" >8</th>\n",
       "                        <td id=\"T_6cb5545a_1f82_11eb_84c9_678f0700d3fbrow8_col0\" class=\"data row8 col0\" >Steyer</td>\n",
       "                        <td id=\"T_6cb5545a_1f82_11eb_84c9_678f0700d3fbrow8_col1\" class=\"data row8 col1\" >57</td>\n",
       "            </tr>\n",
       "            <tr>\n",
       "                        <th id=\"T_6cb5545a_1f82_11eb_84c9_678f0700d3fblevel0_row9\" class=\"row_heading level0 row9\" >9</th>\n",
       "                        <td id=\"T_6cb5545a_1f82_11eb_84c9_678f0700d3fbrow9_col0\" class=\"data row9 col0\" >Warren</td>\n",
       "                        <td id=\"T_6cb5545a_1f82_11eb_84c9_678f0700d3fbrow9_col1\" class=\"data row9 col1\" >1074</td>\n",
       "            </tr>\n",
       "            <tr>\n",
       "                        <th id=\"T_6cb5545a_1f82_11eb_84c9_678f0700d3fblevel0_row10\" class=\"row_heading level0 row10\" >10</th>\n",
       "                        <td id=\"T_6cb5545a_1f82_11eb_84c9_678f0700d3fbrow10_col0\" class=\"data row10 col0\" >Write_Ins</td>\n",
       "                        <td id=\"T_6cb5545a_1f82_11eb_84c9_678f0700d3fbrow10_col1\" class=\"data row10 col1\" >94</td>\n",
       "            </tr>\n",
       "    </tbody></table>"
      ],
      "text/plain": [
       "<pandas.io.formats.style.Styler at 0x7f58bc18ca90>"
      ]
     },
     "execution_count": 6,
     "metadata": {},
     "output_type": "execute_result"
    }
   ],
   "source": [
    "w.load_contest(contest_name)\n",
    "w.show_election_results()"
   ]
  },
  {
   "cell_type": "markdown",
   "metadata": {},
   "source": [
    "# Example - running an audit"
   ]
  },
  {
   "cell_type": "code",
   "execution_count": 7,
   "metadata": {},
   "outputs": [
    {
     "name": "stdout",
     "output_type": "stream",
     "text": [
      "[[0.7, 21], [0.8, 25], [0.9, 29]]\n"
     ]
    }
   ],
   "source": [
    "# create an Audit object with risk_limit\n",
    "w = Audit(\"minerva\", risk_limit)\n",
    "\n",
    "# read data from a file\n",
    "w.read_election_results(election_results)\n",
    "\n",
    "# load selected contest\n",
    "w.load_contest(contest_name)\n",
    "\n",
    "# predict round sizes\n",
    "print(w.predict_round_sizes([.7, .8, .9]))\n",
    "\n",
    "#print(\"\\n\\n\")\n",
    "\n",
    "#print(w.find_next_round_size([.7, .8, .9]))\n",
    "# set observations: \n",
    "# * number of total ballots drawn in the round\n",
    "# * number of relevant ballots for the contest\n",
    "# * a list of votes sampled for each candidate\n",
    "#w.set_observations(50, 19, [0, 11, 0, 1, 0, 0, 0, 6, 1, 0, 0])\n",
    "#print(w.predict_round_sizes([.7, .8, .9]))\n",
    "# results for the second round:\n",
    "#w.set_observations(29, 10, [0, 6, 0, 0, 0, 0, 0, 4, 0, 0, 0])\n",
    "#w.present_state()\n"
   ]
  },
  {
   "cell_type": "code",
   "execution_count": null,
   "metadata": {},
   "outputs": [],
   "source": []
  },
  {
   "cell_type": "markdown",
   "metadata": {},
   "source": [
    "# More examples\n",
    "\n",
    "You may compare with data from: [https://github.com/gwexploratoryaudits/brla_explore/blob/poorvi/R2Audits/Athena/Scripts/2020MontgomeryPrimary/2020_montgomery_pvalue_multiple_round_tests.json](https://github.com/gwexploratoryaudits/brla_explore/blob/poorvi/R2Audits/Athena/Scripts/2020MontgomeryPrimary/2020_montgomery_pvalue_multiple_round_tests.json)"
   ]
  },
  {
   "cell_type": "code",
   "execution_count": 38,
   "metadata": {},
   "outputs": [
    {
     "name": "stdout",
     "output_type": "stream",
     "text": [
      "[[0.7, 119], [0.8, 123], [0.9, 133]]\n"
     ]
    }
   ],
   "source": [
    "\n",
    "# create an Audit object with risk_limit\n",
    "w = Audit(\"minerva\", risk_limit)\n",
    "\n",
    "# read data from a file\n",
    "w.read_election_results(election_results)\n",
    "\n",
    "# load selected contest\n",
    "w.load_contest(\"d_president\")\n",
    "\n",
    "# test 1 (d_president) \n",
    "#w.load_contest(\"d_president\")\n",
    "w.set_observations(50, 19, [0, 11, 1, 0, 0, 0, 0, 6, 1, 0, 0])\n",
    "w.set_observations(29, 10, [0, 6, 0, 0, 0, 0, 0, 4, 0, 0, 0])\n",
    "w.set_observations(29, 10, [1, 1, 1, 1, 1, 1, 0, 4, 0, 0, 0])\n",
    "w.present_state()\n",
    "# test 2 - (d_president): \n",
    "#w.load_contest(\"d_president\")\n",
    "#w.set_observations(16, 16, [0, 10, 1, 0, 0, 0, 0, 4, 1, 0, 0])\n",
    "#w.set_observations(29, 29, [1, 10, 0, 1, 1, 1, 1, 13, 0, 1, 0])\n",
    "# test 3 (d_pres)\n",
    "#w.load_contest(\"d_president\")\n",
    "#w.set_observations(22, 22, [0, 11, 1, 0, 0, 0, 0, 9, 1, 0, 0])\n",
    "#w.set_observations(7, 7, [0, 6, 0, 0, 0, 0, 0, 1, 0, 0, 0])\n",
    "# test 4 - congress - ok\n",
    "#w.load_contest(\"d_congress\")\n",
    "#w.set_observations(42, 42, [17, 25])\n",
    "# test 5 - ok\n",
    "#w.load_contest(\"d_congress\")\n",
    "#w.set_observations(27, 27, [10, 17])\n",
    "#w.set_observations(27, 27, [10, 17])\n",
    "# test 6 \n",
    "#w.load_contest(\"d_congress\")\n",
    "#w.set_observations(31, 31, [12, 19])\n",
    "#w.set_observations(31, 31, [12, 19])\n",
    "# test7 \n",
    "#w.load_contest(\"d_senator\")\n",
    "#w.set_observations(17, 17, [11, 6])\n",
    "#w.set_observations(9, 9, [5, 4])\n",
    "#test8 - the same problem\n",
    "#w.load_contest(\"d_senator\")\n",
    "#w.set_observations(12, 12, [8, 4])\n",
    "#w.set_observations(12, 12, [8, 4])\n",
    "#test 9\n",
    "#w.load_contest(\"d_senator\")\n",
    "#w.set_observations(40, 40, [27, 13])\n",
    "#w.set_observations(40, 40, [27, 13])\n",
    "\n",
    "#w.present_state()\n",
    "\n",
    "w.find_next_round_size([.7, .9])\n",
    "print(w.predict_round_sizes([.7, .8, .9]))\n"
   ]
  },
  {
   "cell_type": "code",
   "execution_count": 39,
   "metadata": {},
   "outputs": [
    {
     "data": {
      "text/html": [
       "<style  type=\"text/css\" >\n",
       "#T_d7ed8e26_1f83_11eb_84c9_678f0700d3fbrow1_col0,#T_d7ed8e26_1f83_11eb_84c9_678f0700d3fbrow1_col1,#T_d7ed8e26_1f83_11eb_84c9_678f0700d3fbrow1_col2,#T_d7ed8e26_1f83_11eb_84c9_678f0700d3fbrow1_col3,#T_d7ed8e26_1f83_11eb_84c9_678f0700d3fbrow1_col4,#T_d7ed8e26_1f83_11eb_84c9_678f0700d3fbrow1_col5{\n",
       "            color:  blue;\n",
       "        }</style><table id=\"T_d7ed8e26_1f83_11eb_84c9_678f0700d3fb\" ><thead>    <tr>        <th class=\"blank level0\" ></th>        <th class=\"col_heading level0 col0\" >Candidates</th>        <th class=\"col_heading level0 col1\" >Results</th>        <th class=\"col_heading level0 col2\" >Round 1</th>        <th class=\"col_heading level0 col3\" >Round 2</th>        <th class=\"col_heading level0 col4\" >Total</th>        <th class=\"col_heading level0 col5\" >Required</th>    </tr></thead><tbody>\n",
       "                <tr>\n",
       "                        <th id=\"T_d7ed8e26_1f83_11eb_84c9_678f0700d3fblevel0_row0\" class=\"row_heading level0 row0\" >0</th>\n",
       "                        <td id=\"T_d7ed8e26_1f83_11eb_84c9_678f0700d3fbrow0_col0\" class=\"data row0 col0\" >Fogel</td>\n",
       "                        <td id=\"T_d7ed8e26_1f83_11eb_84c9_678f0700d3fbrow0_col1\" class=\"data row0 col1\" >16339</td>\n",
       "                        <td id=\"T_d7ed8e26_1f83_11eb_84c9_678f0700d3fbrow0_col2\" class=\"data row0 col2\" >24</td>\n",
       "                        <td id=\"T_d7ed8e26_1f83_11eb_84c9_678f0700d3fbrow0_col3\" class=\"data row0 col3\" >24</td>\n",
       "                        <td id=\"T_d7ed8e26_1f83_11eb_84c9_678f0700d3fbrow0_col4\" class=\"data row0 col4\" >48</td>\n",
       "                        <td id=\"T_d7ed8e26_1f83_11eb_84c9_678f0700d3fbrow0_col5\" class=\"data row0 col5\" >55</td>\n",
       "            </tr>\n",
       "            <tr>\n",
       "                        <th id=\"T_d7ed8e26_1f83_11eb_84c9_678f0700d3fblevel0_row1\" class=\"row_heading level0 row1\" >1</th>\n",
       "                        <td id=\"T_d7ed8e26_1f83_11eb_84c9_678f0700d3fbrow1_col0\" class=\"data row1 col0\" >Griggs</td>\n",
       "                        <td id=\"T_d7ed8e26_1f83_11eb_84c9_678f0700d3fbrow1_col1\" class=\"data row1 col1\" >3514</td>\n",
       "                        <td id=\"T_d7ed8e26_1f83_11eb_84c9_678f0700d3fbrow1_col2\" class=\"data row1 col2\" >16</td>\n",
       "                        <td id=\"T_d7ed8e26_1f83_11eb_84c9_678f0700d3fbrow1_col3\" class=\"data row1 col3\" >16</td>\n",
       "                        <td id=\"T_d7ed8e26_1f83_11eb_84c9_678f0700d3fbrow1_col4\" class=\"data row1 col4\" >32</td>\n",
       "                        <td id=\"T_d7ed8e26_1f83_11eb_84c9_678f0700d3fbrow1_col5\" class=\"data row1 col5\" > </td>\n",
       "            </tr>\n",
       "            <tr>\n",
       "                        <th id=\"T_d7ed8e26_1f83_11eb_84c9_678f0700d3fblevel0_row2\" class=\"row_heading level0 row2\" >2</th>\n",
       "                        <td id=\"T_d7ed8e26_1f83_11eb_84c9_678f0700d3fbrow2_col0\" class=\"data row2 col0\" > </td>\n",
       "                        <td id=\"T_d7ed8e26_1f83_11eb_84c9_678f0700d3fbrow2_col1\" class=\"data row2 col1\" >Sum</td>\n",
       "                        <td id=\"T_d7ed8e26_1f83_11eb_84c9_678f0700d3fbrow2_col2\" class=\"data row2 col2\" >40</td>\n",
       "                        <td id=\"T_d7ed8e26_1f83_11eb_84c9_678f0700d3fbrow2_col3\" class=\"data row2 col3\" >40</td>\n",
       "                        <td id=\"T_d7ed8e26_1f83_11eb_84c9_678f0700d3fbrow2_col4\" class=\"data row2 col4\" > </td>\n",
       "                        <td id=\"T_d7ed8e26_1f83_11eb_84c9_678f0700d3fbrow2_col5\" class=\"data row2 col5\" > </td>\n",
       "            </tr>\n",
       "            <tr>\n",
       "                        <th id=\"T_d7ed8e26_1f83_11eb_84c9_678f0700d3fblevel0_row3\" class=\"row_heading level0 row3\" >3</th>\n",
       "                        <td id=\"T_d7ed8e26_1f83_11eb_84c9_678f0700d3fbrow3_col0\" class=\"data row3 col0\" > </td>\n",
       "                        <td id=\"T_d7ed8e26_1f83_11eb_84c9_678f0700d3fbrow3_col1\" class=\"data row3 col1\" >LR</td>\n",
       "                        <td id=\"T_d7ed8e26_1f83_11eb_84c9_678f0700d3fbrow3_col2\" class=\"data row3 col2\" >1.0000</td>\n",
       "                        <td id=\"T_d7ed8e26_1f83_11eb_84c9_678f0700d3fbrow3_col3\" class=\"data row3 col3\" >1.0000</td>\n",
       "                        <td id=\"T_d7ed8e26_1f83_11eb_84c9_678f0700d3fbrow3_col4\" class=\"data row3 col4\" > </td>\n",
       "                        <td id=\"T_d7ed8e26_1f83_11eb_84c9_678f0700d3fbrow3_col5\" class=\"data row3 col5\" > </td>\n",
       "            </tr>\n",
       "            <tr>\n",
       "                        <th id=\"T_d7ed8e26_1f83_11eb_84c9_678f0700d3fblevel0_row4\" class=\"row_heading level0 row4\" >4</th>\n",
       "                        <td id=\"T_d7ed8e26_1f83_11eb_84c9_678f0700d3fbrow4_col0\" class=\"data row4 col0\" > </td>\n",
       "                        <td id=\"T_d7ed8e26_1f83_11eb_84c9_678f0700d3fbrow4_col1\" class=\"data row4 col1\" >P-Value</td>\n",
       "                        <td id=\"T_d7ed8e26_1f83_11eb_84c9_678f0700d3fbrow4_col2\" class=\"data row4 col2\" >0.1341</td>\n",
       "                        <td id=\"T_d7ed8e26_1f83_11eb_84c9_678f0700d3fbrow4_col3\" class=\"data row4 col3\" >28.5044</td>\n",
       "                        <td id=\"T_d7ed8e26_1f83_11eb_84c9_678f0700d3fbrow4_col4\" class=\"data row4 col4\" > </td>\n",
       "                        <td id=\"T_d7ed8e26_1f83_11eb_84c9_678f0700d3fbrow4_col5\" class=\"data row4 col5\" > </td>\n",
       "            </tr>\n",
       "    </tbody></table>"
      ],
      "text/plain": [
       "<pandas.io.formats.style.Styler at 0x7f58acedb1f0>"
      ]
     },
     "execution_count": 39,
     "metadata": {},
     "output_type": "execute_result"
    }
   ],
   "source": [
    "w.load_contest(\"d_senator\")\n",
    "w.set_observations(40, 40, [24, 16])\n",
    "w.set_observations(40, 40, [24, 16])\n",
    "\n",
    "w.present_state()\n"
   ]
  },
  {
   "cell_type": "code",
   "execution_count": null,
   "metadata": {},
   "outputs": [],
   "source": [
    "w.status"
   ]
  },
  {
   "cell_type": "code",
   "execution_count": null,
   "metadata": {},
   "outputs": [],
   "source": [
    "print(w.predict_round_sizes([.7, .8, .9]))\n"
   ]
  },
  {
   "cell_type": "code",
   "execution_count": null,
   "metadata": {},
   "outputs": [],
   "source": [
    "w"
   ]
  },
  {
   "cell_type": "markdown",
   "metadata": {},
   "source": [
    "# BRAVO vs Athena vs Minerva"
   ]
  },
  {
   "cell_type": "markdown",
   "metadata": {},
   "source": [
    "## Minerva \n",
    "\n",
    "* passes for 57 out of 100\n",
    "* cares only for p-value"
   ]
  },
  {
   "cell_type": "code",
   "execution_count": 40,
   "metadata": {
    "cell_style": "center"
   },
   "outputs": [],
   "source": [
    "# Minerva would pass the test for kmin = 57\n",
    "wmin = Audit(\"minerva\", risk_limit)\n",
    "wmin.read_election_results(election_results)\n",
    "wmin.load_contest(\"d_president\")\n",
    "# minerva\n",
    "wmin.set_observations(100, 100, [0, 57, 0, 0, 0, 0, 0, 43, 0, 0, 0])"
   ]
  },
  {
   "cell_type": "code",
   "execution_count": 41,
   "metadata": {
    "cell_style": "split"
   },
   "outputs": [
    {
     "data": {
      "text/html": [
       "<style  type=\"text/css\" >\n",
       "#T_e6719488_1f83_11eb_84c9_678f0700d3fbrow1_col0,#T_e6719488_1f83_11eb_84c9_678f0700d3fbrow1_col1,#T_e6719488_1f83_11eb_84c9_678f0700d3fbrow1_col2,#T_e6719488_1f83_11eb_84c9_678f0700d3fbrow1_col3,#T_e6719488_1f83_11eb_84c9_678f0700d3fbrow1_col4{\n",
       "            color:  blue;\n",
       "        }</style><table id=\"T_e6719488_1f83_11eb_84c9_678f0700d3fb\" ><thead>    <tr>        <th class=\"blank level0\" ></th>        <th class=\"col_heading level0 col0\" >Candidates</th>        <th class=\"col_heading level0 col1\" >Results</th>        <th class=\"col_heading level0 col2\" >Round 1</th>        <th class=\"col_heading level0 col3\" >Total</th>        <th class=\"col_heading level0 col4\" >Required</th>    </tr></thead><tbody>\n",
       "                <tr>\n",
       "                        <th id=\"T_e6719488_1f83_11eb_84c9_678f0700d3fblevel0_row0\" class=\"row_heading level0 row0\" >0</th>\n",
       "                        <td id=\"T_e6719488_1f83_11eb_84c9_678f0700d3fbrow0_col0\" class=\"data row0 col0\" >Bennet</td>\n",
       "                        <td id=\"T_e6719488_1f83_11eb_84c9_678f0700d3fbrow0_col1\" class=\"data row0 col1\" >49</td>\n",
       "                        <td id=\"T_e6719488_1f83_11eb_84c9_678f0700d3fbrow0_col2\" class=\"data row0 col2\" >0</td>\n",
       "                        <td id=\"T_e6719488_1f83_11eb_84c9_678f0700d3fbrow0_col3\" class=\"data row0 col3\" >0</td>\n",
       "                        <td id=\"T_e6719488_1f83_11eb_84c9_678f0700d3fbrow0_col4\" class=\"data row0 col4\" > </td>\n",
       "            </tr>\n",
       "            <tr>\n",
       "                        <th id=\"T_e6719488_1f83_11eb_84c9_678f0700d3fblevel0_row1\" class=\"row_heading level0 row1\" >1</th>\n",
       "                        <td id=\"T_e6719488_1f83_11eb_84c9_678f0700d3fbrow1_col0\" class=\"data row1 col0\" >Biden</td>\n",
       "                        <td id=\"T_e6719488_1f83_11eb_84c9_678f0700d3fbrow1_col1\" class=\"data row1 col1\" >28135</td>\n",
       "                        <td id=\"T_e6719488_1f83_11eb_84c9_678f0700d3fbrow1_col2\" class=\"data row1 col2\" >57</td>\n",
       "                        <td id=\"T_e6719488_1f83_11eb_84c9_678f0700d3fbrow1_col3\" class=\"data row1 col3\" >57</td>\n",
       "                        <td id=\"T_e6719488_1f83_11eb_84c9_678f0700d3fbrow1_col4\" class=\"data row1 col4\" >57</td>\n",
       "            </tr>\n",
       "            <tr>\n",
       "                        <th id=\"T_e6719488_1f83_11eb_84c9_678f0700d3fblevel0_row2\" class=\"row_heading level0 row2\" >2</th>\n",
       "                        <td id=\"T_e6719488_1f83_11eb_84c9_678f0700d3fbrow2_col0\" class=\"data row2 col0\" >Bloomberg</td>\n",
       "                        <td id=\"T_e6719488_1f83_11eb_84c9_678f0700d3fbrow2_col1\" class=\"data row2 col1\" >682</td>\n",
       "                        <td id=\"T_e6719488_1f83_11eb_84c9_678f0700d3fbrow2_col2\" class=\"data row2 col2\" >0</td>\n",
       "                        <td id=\"T_e6719488_1f83_11eb_84c9_678f0700d3fbrow2_col3\" class=\"data row2 col3\" >0</td>\n",
       "                        <td id=\"T_e6719488_1f83_11eb_84c9_678f0700d3fbrow2_col4\" class=\"data row2 col4\" > </td>\n",
       "            </tr>\n",
       "            <tr>\n",
       "                        <th id=\"T_e6719488_1f83_11eb_84c9_678f0700d3fblevel0_row3\" class=\"row_heading level0 row3\" >3</th>\n",
       "                        <td id=\"T_e6719488_1f83_11eb_84c9_678f0700d3fbrow3_col0\" class=\"data row3 col0\" >Buttigieg</td>\n",
       "                        <td id=\"T_e6719488_1f83_11eb_84c9_678f0700d3fbrow3_col1\" class=\"data row3 col1\" >509</td>\n",
       "                        <td id=\"T_e6719488_1f83_11eb_84c9_678f0700d3fbrow3_col2\" class=\"data row3 col2\" >0</td>\n",
       "                        <td id=\"T_e6719488_1f83_11eb_84c9_678f0700d3fbrow3_col3\" class=\"data row3 col3\" >0</td>\n",
       "                        <td id=\"T_e6719488_1f83_11eb_84c9_678f0700d3fbrow3_col4\" class=\"data row3 col4\" > </td>\n",
       "            </tr>\n",
       "            <tr>\n",
       "                        <th id=\"T_e6719488_1f83_11eb_84c9_678f0700d3fblevel0_row4\" class=\"row_heading level0 row4\" >4</th>\n",
       "                        <td id=\"T_e6719488_1f83_11eb_84c9_678f0700d3fbrow4_col0\" class=\"data row4 col0\" >Gabbard</td>\n",
       "                        <td id=\"T_e6719488_1f83_11eb_84c9_678f0700d3fbrow4_col1\" class=\"data row4 col1\" >130</td>\n",
       "                        <td id=\"T_e6719488_1f83_11eb_84c9_678f0700d3fbrow4_col2\" class=\"data row4 col2\" >0</td>\n",
       "                        <td id=\"T_e6719488_1f83_11eb_84c9_678f0700d3fbrow4_col3\" class=\"data row4 col3\" >0</td>\n",
       "                        <td id=\"T_e6719488_1f83_11eb_84c9_678f0700d3fbrow4_col4\" class=\"data row4 col4\" > </td>\n",
       "            </tr>\n",
       "            <tr>\n",
       "                        <th id=\"T_e6719488_1f83_11eb_84c9_678f0700d3fblevel0_row5\" class=\"row_heading level0 row5\" >5</th>\n",
       "                        <td id=\"T_e6719488_1f83_11eb_84c9_678f0700d3fbrow5_col0\" class=\"data row5 col0\" >Klobuchar</td>\n",
       "                        <td id=\"T_e6719488_1f83_11eb_84c9_678f0700d3fbrow5_col1\" class=\"data row5 col1\" >396</td>\n",
       "                        <td id=\"T_e6719488_1f83_11eb_84c9_678f0700d3fbrow5_col2\" class=\"data row5 col2\" >0</td>\n",
       "                        <td id=\"T_e6719488_1f83_11eb_84c9_678f0700d3fbrow5_col3\" class=\"data row5 col3\" >0</td>\n",
       "                        <td id=\"T_e6719488_1f83_11eb_84c9_678f0700d3fbrow5_col4\" class=\"data row5 col4\" > </td>\n",
       "            </tr>\n",
       "            <tr>\n",
       "                        <th id=\"T_e6719488_1f83_11eb_84c9_678f0700d3fblevel0_row6\" class=\"row_heading level0 row6\" >6</th>\n",
       "                        <td id=\"T_e6719488_1f83_11eb_84c9_678f0700d3fbrow6_col0\" class=\"data row6 col0\" >Patrick</td>\n",
       "                        <td id=\"T_e6719488_1f83_11eb_84c9_678f0700d3fbrow6_col1\" class=\"data row6 col1\" >23</td>\n",
       "                        <td id=\"T_e6719488_1f83_11eb_84c9_678f0700d3fbrow6_col2\" class=\"data row6 col2\" >0</td>\n",
       "                        <td id=\"T_e6719488_1f83_11eb_84c9_678f0700d3fbrow6_col3\" class=\"data row6 col3\" >0</td>\n",
       "                        <td id=\"T_e6719488_1f83_11eb_84c9_678f0700d3fbrow6_col4\" class=\"data row6 col4\" > </td>\n",
       "            </tr>\n",
       "            <tr>\n",
       "                        <th id=\"T_e6719488_1f83_11eb_84c9_678f0700d3fblevel0_row7\" class=\"row_heading level0 row7\" >7</th>\n",
       "                        <td id=\"T_e6719488_1f83_11eb_84c9_678f0700d3fbrow7_col0\" class=\"data row7 col0\" >Sanders</td>\n",
       "                        <td id=\"T_e6719488_1f83_11eb_84c9_678f0700d3fbrow7_col1\" class=\"data row7 col1\" >5466</td>\n",
       "                        <td id=\"T_e6719488_1f83_11eb_84c9_678f0700d3fbrow7_col2\" class=\"data row7 col2\" >43</td>\n",
       "                        <td id=\"T_e6719488_1f83_11eb_84c9_678f0700d3fbrow7_col3\" class=\"data row7 col3\" >43</td>\n",
       "                        <td id=\"T_e6719488_1f83_11eb_84c9_678f0700d3fbrow7_col4\" class=\"data row7 col4\" > </td>\n",
       "            </tr>\n",
       "            <tr>\n",
       "                        <th id=\"T_e6719488_1f83_11eb_84c9_678f0700d3fblevel0_row8\" class=\"row_heading level0 row8\" >8</th>\n",
       "                        <td id=\"T_e6719488_1f83_11eb_84c9_678f0700d3fbrow8_col0\" class=\"data row8 col0\" >Steyer</td>\n",
       "                        <td id=\"T_e6719488_1f83_11eb_84c9_678f0700d3fbrow8_col1\" class=\"data row8 col1\" >57</td>\n",
       "                        <td id=\"T_e6719488_1f83_11eb_84c9_678f0700d3fbrow8_col2\" class=\"data row8 col2\" >0</td>\n",
       "                        <td id=\"T_e6719488_1f83_11eb_84c9_678f0700d3fbrow8_col3\" class=\"data row8 col3\" >0</td>\n",
       "                        <td id=\"T_e6719488_1f83_11eb_84c9_678f0700d3fbrow8_col4\" class=\"data row8 col4\" > </td>\n",
       "            </tr>\n",
       "            <tr>\n",
       "                        <th id=\"T_e6719488_1f83_11eb_84c9_678f0700d3fblevel0_row9\" class=\"row_heading level0 row9\" >9</th>\n",
       "                        <td id=\"T_e6719488_1f83_11eb_84c9_678f0700d3fbrow9_col0\" class=\"data row9 col0\" >Warren</td>\n",
       "                        <td id=\"T_e6719488_1f83_11eb_84c9_678f0700d3fbrow9_col1\" class=\"data row9 col1\" >1074</td>\n",
       "                        <td id=\"T_e6719488_1f83_11eb_84c9_678f0700d3fbrow9_col2\" class=\"data row9 col2\" >0</td>\n",
       "                        <td id=\"T_e6719488_1f83_11eb_84c9_678f0700d3fbrow9_col3\" class=\"data row9 col3\" >0</td>\n",
       "                        <td id=\"T_e6719488_1f83_11eb_84c9_678f0700d3fbrow9_col4\" class=\"data row9 col4\" > </td>\n",
       "            </tr>\n",
       "            <tr>\n",
       "                        <th id=\"T_e6719488_1f83_11eb_84c9_678f0700d3fblevel0_row10\" class=\"row_heading level0 row10\" >10</th>\n",
       "                        <td id=\"T_e6719488_1f83_11eb_84c9_678f0700d3fbrow10_col0\" class=\"data row10 col0\" >Write_Ins</td>\n",
       "                        <td id=\"T_e6719488_1f83_11eb_84c9_678f0700d3fbrow10_col1\" class=\"data row10 col1\" >94</td>\n",
       "                        <td id=\"T_e6719488_1f83_11eb_84c9_678f0700d3fbrow10_col2\" class=\"data row10 col2\" >0</td>\n",
       "                        <td id=\"T_e6719488_1f83_11eb_84c9_678f0700d3fbrow10_col3\" class=\"data row10 col3\" >0</td>\n",
       "                        <td id=\"T_e6719488_1f83_11eb_84c9_678f0700d3fbrow10_col4\" class=\"data row10 col4\" > </td>\n",
       "            </tr>\n",
       "            <tr>\n",
       "                        <th id=\"T_e6719488_1f83_11eb_84c9_678f0700d3fblevel0_row11\" class=\"row_heading level0 row11\" >11</th>\n",
       "                        <td id=\"T_e6719488_1f83_11eb_84c9_678f0700d3fbrow11_col0\" class=\"data row11 col0\" > </td>\n",
       "                        <td id=\"T_e6719488_1f83_11eb_84c9_678f0700d3fbrow11_col1\" class=\"data row11 col1\" >Sum</td>\n",
       "                        <td id=\"T_e6719488_1f83_11eb_84c9_678f0700d3fbrow11_col2\" class=\"data row11 col2\" >100</td>\n",
       "                        <td id=\"T_e6719488_1f83_11eb_84c9_678f0700d3fbrow11_col3\" class=\"data row11 col3\" > </td>\n",
       "                        <td id=\"T_e6719488_1f83_11eb_84c9_678f0700d3fbrow11_col4\" class=\"data row11 col4\" > </td>\n",
       "            </tr>\n",
       "            <tr>\n",
       "                        <th id=\"T_e6719488_1f83_11eb_84c9_678f0700d3fblevel0_row12\" class=\"row_heading level0 row12\" >12</th>\n",
       "                        <td id=\"T_e6719488_1f83_11eb_84c9_678f0700d3fbrow12_col0\" class=\"data row12 col0\" > </td>\n",
       "                        <td id=\"T_e6719488_1f83_11eb_84c9_678f0700d3fbrow12_col1\" class=\"data row12 col1\" >LR</td>\n",
       "                        <td id=\"T_e6719488_1f83_11eb_84c9_678f0700d3fbrow12_col2\" class=\"data row12 col2\" >1.0000</td>\n",
       "                        <td id=\"T_e6719488_1f83_11eb_84c9_678f0700d3fbrow12_col3\" class=\"data row12 col3\" > </td>\n",
       "                        <td id=\"T_e6719488_1f83_11eb_84c9_678f0700d3fbrow12_col4\" class=\"data row12 col4\" > </td>\n",
       "            </tr>\n",
       "            <tr>\n",
       "                        <th id=\"T_e6719488_1f83_11eb_84c9_678f0700d3fblevel0_row13\" class=\"row_heading level0 row13\" >13</th>\n",
       "                        <td id=\"T_e6719488_1f83_11eb_84c9_678f0700d3fbrow13_col0\" class=\"data row13 col0\" > </td>\n",
       "                        <td id=\"T_e6719488_1f83_11eb_84c9_678f0700d3fbrow13_col1\" class=\"data row13 col1\" >P-Value</td>\n",
       "                        <td id=\"T_e6719488_1f83_11eb_84c9_678f0700d3fbrow13_col2\" class=\"data row13 col2\" >0.0967</td>\n",
       "                        <td id=\"T_e6719488_1f83_11eb_84c9_678f0700d3fbrow13_col3\" class=\"data row13 col3\" > </td>\n",
       "                        <td id=\"T_e6719488_1f83_11eb_84c9_678f0700d3fbrow13_col4\" class=\"data row13 col4\" > </td>\n",
       "            </tr>\n",
       "    </tbody></table>"
      ],
      "text/plain": [
       "<pandas.io.formats.style.Styler at 0x7f58acedb280>"
      ]
     },
     "execution_count": 41,
     "metadata": {},
     "output_type": "execute_result"
    }
   ],
   "source": [
    "wmin.present_state()\n"
   ]
  },
  {
   "cell_type": "markdown",
   "metadata": {
    "slideshow": {
     "slide_type": "slide"
    }
   },
   "source": [
    "## Athena\n",
    "\n",
    "* passes for 69 out of 100\n",
    "* cares for both:\n",
    "    * p-value (to be below .1)\n",
    "    * LR (to be obove 1)\n",
    "   $\\sum_{k=1}^{\\infty}d_v$"
   ]
  },
  {
   "cell_type": "code",
   "execution_count": 42,
   "metadata": {
    "cell_style": "split",
    "slideshow": {
     "slide_type": "fragment"
    }
   },
   "outputs": [],
   "source": [
    "# athena\n",
    "wath = Audit(\"athena\", risk_limit)\n",
    "wath.read_election_results(election_results)\n",
    "wath.load_contest(\"d_president\")\n",
    "wath.set_observations(100, 100, [0, 68, 0, 0, 0, 0, 0, 32, 0, 0, 0])"
   ]
  },
  {
   "cell_type": "code",
   "execution_count": 43,
   "metadata": {
    "cell_style": "split",
    "slideshow": {
     "slide_type": "fragment"
    }
   },
   "outputs": [
    {
     "data": {
      "text/html": [
       "<style  type=\"text/css\" >\n",
       "#T_e9e67778_1f83_11eb_84c9_678f0700d3fbrow1_col0,#T_e9e67778_1f83_11eb_84c9_678f0700d3fbrow1_col1,#T_e9e67778_1f83_11eb_84c9_678f0700d3fbrow1_col2,#T_e9e67778_1f83_11eb_84c9_678f0700d3fbrow1_col3,#T_e9e67778_1f83_11eb_84c9_678f0700d3fbrow1_col4{\n",
       "            color:  blue;\n",
       "        }</style><table id=\"T_e9e67778_1f83_11eb_84c9_678f0700d3fb\" ><thead>    <tr>        <th class=\"blank level0\" ></th>        <th class=\"col_heading level0 col0\" >Candidates</th>        <th class=\"col_heading level0 col1\" >Results</th>        <th class=\"col_heading level0 col2\" >Round 1</th>        <th class=\"col_heading level0 col3\" >Total</th>        <th class=\"col_heading level0 col4\" >Required</th>    </tr></thead><tbody>\n",
       "                <tr>\n",
       "                        <th id=\"T_e9e67778_1f83_11eb_84c9_678f0700d3fblevel0_row0\" class=\"row_heading level0 row0\" >0</th>\n",
       "                        <td id=\"T_e9e67778_1f83_11eb_84c9_678f0700d3fbrow0_col0\" class=\"data row0 col0\" >Bennet</td>\n",
       "                        <td id=\"T_e9e67778_1f83_11eb_84c9_678f0700d3fbrow0_col1\" class=\"data row0 col1\" >49</td>\n",
       "                        <td id=\"T_e9e67778_1f83_11eb_84c9_678f0700d3fbrow0_col2\" class=\"data row0 col2\" >0</td>\n",
       "                        <td id=\"T_e9e67778_1f83_11eb_84c9_678f0700d3fbrow0_col3\" class=\"data row0 col3\" >0</td>\n",
       "                        <td id=\"T_e9e67778_1f83_11eb_84c9_678f0700d3fbrow0_col4\" class=\"data row0 col4\" > </td>\n",
       "            </tr>\n",
       "            <tr>\n",
       "                        <th id=\"T_e9e67778_1f83_11eb_84c9_678f0700d3fblevel0_row1\" class=\"row_heading level0 row1\" >1</th>\n",
       "                        <td id=\"T_e9e67778_1f83_11eb_84c9_678f0700d3fbrow1_col0\" class=\"data row1 col0\" >Biden</td>\n",
       "                        <td id=\"T_e9e67778_1f83_11eb_84c9_678f0700d3fbrow1_col1\" class=\"data row1 col1\" >28135</td>\n",
       "                        <td id=\"T_e9e67778_1f83_11eb_84c9_678f0700d3fbrow1_col2\" class=\"data row1 col2\" >68</td>\n",
       "                        <td id=\"T_e9e67778_1f83_11eb_84c9_678f0700d3fbrow1_col3\" class=\"data row1 col3\" >68</td>\n",
       "                        <td id=\"T_e9e67778_1f83_11eb_84c9_678f0700d3fbrow1_col4\" class=\"data row1 col4\" >69</td>\n",
       "            </tr>\n",
       "            <tr>\n",
       "                        <th id=\"T_e9e67778_1f83_11eb_84c9_678f0700d3fblevel0_row2\" class=\"row_heading level0 row2\" >2</th>\n",
       "                        <td id=\"T_e9e67778_1f83_11eb_84c9_678f0700d3fbrow2_col0\" class=\"data row2 col0\" >Bloomberg</td>\n",
       "                        <td id=\"T_e9e67778_1f83_11eb_84c9_678f0700d3fbrow2_col1\" class=\"data row2 col1\" >682</td>\n",
       "                        <td id=\"T_e9e67778_1f83_11eb_84c9_678f0700d3fbrow2_col2\" class=\"data row2 col2\" >0</td>\n",
       "                        <td id=\"T_e9e67778_1f83_11eb_84c9_678f0700d3fbrow2_col3\" class=\"data row2 col3\" >0</td>\n",
       "                        <td id=\"T_e9e67778_1f83_11eb_84c9_678f0700d3fbrow2_col4\" class=\"data row2 col4\" > </td>\n",
       "            </tr>\n",
       "            <tr>\n",
       "                        <th id=\"T_e9e67778_1f83_11eb_84c9_678f0700d3fblevel0_row3\" class=\"row_heading level0 row3\" >3</th>\n",
       "                        <td id=\"T_e9e67778_1f83_11eb_84c9_678f0700d3fbrow3_col0\" class=\"data row3 col0\" >Buttigieg</td>\n",
       "                        <td id=\"T_e9e67778_1f83_11eb_84c9_678f0700d3fbrow3_col1\" class=\"data row3 col1\" >509</td>\n",
       "                        <td id=\"T_e9e67778_1f83_11eb_84c9_678f0700d3fbrow3_col2\" class=\"data row3 col2\" >0</td>\n",
       "                        <td id=\"T_e9e67778_1f83_11eb_84c9_678f0700d3fbrow3_col3\" class=\"data row3 col3\" >0</td>\n",
       "                        <td id=\"T_e9e67778_1f83_11eb_84c9_678f0700d3fbrow3_col4\" class=\"data row3 col4\" > </td>\n",
       "            </tr>\n",
       "            <tr>\n",
       "                        <th id=\"T_e9e67778_1f83_11eb_84c9_678f0700d3fblevel0_row4\" class=\"row_heading level0 row4\" >4</th>\n",
       "                        <td id=\"T_e9e67778_1f83_11eb_84c9_678f0700d3fbrow4_col0\" class=\"data row4 col0\" >Gabbard</td>\n",
       "                        <td id=\"T_e9e67778_1f83_11eb_84c9_678f0700d3fbrow4_col1\" class=\"data row4 col1\" >130</td>\n",
       "                        <td id=\"T_e9e67778_1f83_11eb_84c9_678f0700d3fbrow4_col2\" class=\"data row4 col2\" >0</td>\n",
       "                        <td id=\"T_e9e67778_1f83_11eb_84c9_678f0700d3fbrow4_col3\" class=\"data row4 col3\" >0</td>\n",
       "                        <td id=\"T_e9e67778_1f83_11eb_84c9_678f0700d3fbrow4_col4\" class=\"data row4 col4\" > </td>\n",
       "            </tr>\n",
       "            <tr>\n",
       "                        <th id=\"T_e9e67778_1f83_11eb_84c9_678f0700d3fblevel0_row5\" class=\"row_heading level0 row5\" >5</th>\n",
       "                        <td id=\"T_e9e67778_1f83_11eb_84c9_678f0700d3fbrow5_col0\" class=\"data row5 col0\" >Klobuchar</td>\n",
       "                        <td id=\"T_e9e67778_1f83_11eb_84c9_678f0700d3fbrow5_col1\" class=\"data row5 col1\" >396</td>\n",
       "                        <td id=\"T_e9e67778_1f83_11eb_84c9_678f0700d3fbrow5_col2\" class=\"data row5 col2\" >0</td>\n",
       "                        <td id=\"T_e9e67778_1f83_11eb_84c9_678f0700d3fbrow5_col3\" class=\"data row5 col3\" >0</td>\n",
       "                        <td id=\"T_e9e67778_1f83_11eb_84c9_678f0700d3fbrow5_col4\" class=\"data row5 col4\" > </td>\n",
       "            </tr>\n",
       "            <tr>\n",
       "                        <th id=\"T_e9e67778_1f83_11eb_84c9_678f0700d3fblevel0_row6\" class=\"row_heading level0 row6\" >6</th>\n",
       "                        <td id=\"T_e9e67778_1f83_11eb_84c9_678f0700d3fbrow6_col0\" class=\"data row6 col0\" >Patrick</td>\n",
       "                        <td id=\"T_e9e67778_1f83_11eb_84c9_678f0700d3fbrow6_col1\" class=\"data row6 col1\" >23</td>\n",
       "                        <td id=\"T_e9e67778_1f83_11eb_84c9_678f0700d3fbrow6_col2\" class=\"data row6 col2\" >0</td>\n",
       "                        <td id=\"T_e9e67778_1f83_11eb_84c9_678f0700d3fbrow6_col3\" class=\"data row6 col3\" >0</td>\n",
       "                        <td id=\"T_e9e67778_1f83_11eb_84c9_678f0700d3fbrow6_col4\" class=\"data row6 col4\" > </td>\n",
       "            </tr>\n",
       "            <tr>\n",
       "                        <th id=\"T_e9e67778_1f83_11eb_84c9_678f0700d3fblevel0_row7\" class=\"row_heading level0 row7\" >7</th>\n",
       "                        <td id=\"T_e9e67778_1f83_11eb_84c9_678f0700d3fbrow7_col0\" class=\"data row7 col0\" >Sanders</td>\n",
       "                        <td id=\"T_e9e67778_1f83_11eb_84c9_678f0700d3fbrow7_col1\" class=\"data row7 col1\" >5466</td>\n",
       "                        <td id=\"T_e9e67778_1f83_11eb_84c9_678f0700d3fbrow7_col2\" class=\"data row7 col2\" >32</td>\n",
       "                        <td id=\"T_e9e67778_1f83_11eb_84c9_678f0700d3fbrow7_col3\" class=\"data row7 col3\" >32</td>\n",
       "                        <td id=\"T_e9e67778_1f83_11eb_84c9_678f0700d3fbrow7_col4\" class=\"data row7 col4\" > </td>\n",
       "            </tr>\n",
       "            <tr>\n",
       "                        <th id=\"T_e9e67778_1f83_11eb_84c9_678f0700d3fblevel0_row8\" class=\"row_heading level0 row8\" >8</th>\n",
       "                        <td id=\"T_e9e67778_1f83_11eb_84c9_678f0700d3fbrow8_col0\" class=\"data row8 col0\" >Steyer</td>\n",
       "                        <td id=\"T_e9e67778_1f83_11eb_84c9_678f0700d3fbrow8_col1\" class=\"data row8 col1\" >57</td>\n",
       "                        <td id=\"T_e9e67778_1f83_11eb_84c9_678f0700d3fbrow8_col2\" class=\"data row8 col2\" >0</td>\n",
       "                        <td id=\"T_e9e67778_1f83_11eb_84c9_678f0700d3fbrow8_col3\" class=\"data row8 col3\" >0</td>\n",
       "                        <td id=\"T_e9e67778_1f83_11eb_84c9_678f0700d3fbrow8_col4\" class=\"data row8 col4\" > </td>\n",
       "            </tr>\n",
       "            <tr>\n",
       "                        <th id=\"T_e9e67778_1f83_11eb_84c9_678f0700d3fblevel0_row9\" class=\"row_heading level0 row9\" >9</th>\n",
       "                        <td id=\"T_e9e67778_1f83_11eb_84c9_678f0700d3fbrow9_col0\" class=\"data row9 col0\" >Warren</td>\n",
       "                        <td id=\"T_e9e67778_1f83_11eb_84c9_678f0700d3fbrow9_col1\" class=\"data row9 col1\" >1074</td>\n",
       "                        <td id=\"T_e9e67778_1f83_11eb_84c9_678f0700d3fbrow9_col2\" class=\"data row9 col2\" >0</td>\n",
       "                        <td id=\"T_e9e67778_1f83_11eb_84c9_678f0700d3fbrow9_col3\" class=\"data row9 col3\" >0</td>\n",
       "                        <td id=\"T_e9e67778_1f83_11eb_84c9_678f0700d3fbrow9_col4\" class=\"data row9 col4\" > </td>\n",
       "            </tr>\n",
       "            <tr>\n",
       "                        <th id=\"T_e9e67778_1f83_11eb_84c9_678f0700d3fblevel0_row10\" class=\"row_heading level0 row10\" >10</th>\n",
       "                        <td id=\"T_e9e67778_1f83_11eb_84c9_678f0700d3fbrow10_col0\" class=\"data row10 col0\" >Write_Ins</td>\n",
       "                        <td id=\"T_e9e67778_1f83_11eb_84c9_678f0700d3fbrow10_col1\" class=\"data row10 col1\" >94</td>\n",
       "                        <td id=\"T_e9e67778_1f83_11eb_84c9_678f0700d3fbrow10_col2\" class=\"data row10 col2\" >0</td>\n",
       "                        <td id=\"T_e9e67778_1f83_11eb_84c9_678f0700d3fbrow10_col3\" class=\"data row10 col3\" >0</td>\n",
       "                        <td id=\"T_e9e67778_1f83_11eb_84c9_678f0700d3fbrow10_col4\" class=\"data row10 col4\" > </td>\n",
       "            </tr>\n",
       "            <tr>\n",
       "                        <th id=\"T_e9e67778_1f83_11eb_84c9_678f0700d3fblevel0_row11\" class=\"row_heading level0 row11\" >11</th>\n",
       "                        <td id=\"T_e9e67778_1f83_11eb_84c9_678f0700d3fbrow11_col0\" class=\"data row11 col0\" > </td>\n",
       "                        <td id=\"T_e9e67778_1f83_11eb_84c9_678f0700d3fbrow11_col1\" class=\"data row11 col1\" >Sum</td>\n",
       "                        <td id=\"T_e9e67778_1f83_11eb_84c9_678f0700d3fbrow11_col2\" class=\"data row11 col2\" >100</td>\n",
       "                        <td id=\"T_e9e67778_1f83_11eb_84c9_678f0700d3fbrow11_col3\" class=\"data row11 col3\" > </td>\n",
       "                        <td id=\"T_e9e67778_1f83_11eb_84c9_678f0700d3fbrow11_col4\" class=\"data row11 col4\" > </td>\n",
       "            </tr>\n",
       "            <tr>\n",
       "                        <th id=\"T_e9e67778_1f83_11eb_84c9_678f0700d3fblevel0_row12\" class=\"row_heading level0 row12\" >12</th>\n",
       "                        <td id=\"T_e9e67778_1f83_11eb_84c9_678f0700d3fbrow12_col0\" class=\"data row12 col0\" > </td>\n",
       "                        <td id=\"T_e9e67778_1f83_11eb_84c9_678f0700d3fbrow12_col1\" class=\"data row12 col1\" >LR</td>\n",
       "                        <td id=\"T_e9e67778_1f83_11eb_84c9_678f0700d3fbrow12_col2\" class=\"data row12 col2\" >1.0000</td>\n",
       "                        <td id=\"T_e9e67778_1f83_11eb_84c9_678f0700d3fbrow12_col3\" class=\"data row12 col3\" > </td>\n",
       "                        <td id=\"T_e9e67778_1f83_11eb_84c9_678f0700d3fbrow12_col4\" class=\"data row12 col4\" > </td>\n",
       "            </tr>\n",
       "            <tr>\n",
       "                        <th id=\"T_e9e67778_1f83_11eb_84c9_678f0700d3fblevel0_row13\" class=\"row_heading level0 row13\" >13</th>\n",
       "                        <td id=\"T_e9e67778_1f83_11eb_84c9_678f0700d3fbrow13_col0\" class=\"data row13 col0\" > </td>\n",
       "                        <td id=\"T_e9e67778_1f83_11eb_84c9_678f0700d3fbrow13_col1\" class=\"data row13 col1\" >P-Value</td>\n",
       "                        <td id=\"T_e9e67778_1f83_11eb_84c9_678f0700d3fbrow13_col2\" class=\"data row13 col2\" >0.0002</td>\n",
       "                        <td id=\"T_e9e67778_1f83_11eb_84c9_678f0700d3fbrow13_col3\" class=\"data row13 col3\" > </td>\n",
       "                        <td id=\"T_e9e67778_1f83_11eb_84c9_678f0700d3fbrow13_col4\" class=\"data row13 col4\" > </td>\n",
       "            </tr>\n",
       "    </tbody></table>"
      ],
      "text/plain": [
       "<pandas.io.formats.style.Styler at 0x7f58acec7fd0>"
      ]
     },
     "execution_count": 43,
     "metadata": {},
     "output_type": "execute_result"
    }
   ],
   "source": [
    "wath.present_state()"
   ]
  },
  {
   "cell_type": "markdown",
   "metadata": {},
   "source": [
    "## Bravo\n",
    "\n",
    "* passes for 70 out of 100\n",
    "* cares for LR to be over 10"
   ]
  },
  {
   "cell_type": "code",
   "execution_count": 44,
   "metadata": {
    "cell_style": "split"
   },
   "outputs": [],
   "source": [
    "w = Audit(\"athena\", risk_limit)\n",
    "w.read_election_results(election_results)\n",
    "w.load_contest(\"d_president\")\n",
    "w.set_observations(100, 100, [0, 70, 0, 0, 0, 0, 0, 30, 0, 0, 0])\n"
   ]
  },
  {
   "cell_type": "code",
   "execution_count": 45,
   "metadata": {
    "cell_style": "split"
   },
   "outputs": [
    {
     "data": {
      "text/html": [
       "<style  type=\"text/css\" >\n",
       "#T_eed93da6_1f83_11eb_84c9_678f0700d3fbrow1_col0,#T_eed93da6_1f83_11eb_84c9_678f0700d3fbrow1_col1,#T_eed93da6_1f83_11eb_84c9_678f0700d3fbrow1_col2,#T_eed93da6_1f83_11eb_84c9_678f0700d3fbrow1_col3,#T_eed93da6_1f83_11eb_84c9_678f0700d3fbrow1_col4{\n",
       "            color:  blue;\n",
       "        }</style><table id=\"T_eed93da6_1f83_11eb_84c9_678f0700d3fb\" ><thead>    <tr>        <th class=\"blank level0\" ></th>        <th class=\"col_heading level0 col0\" >Candidates</th>        <th class=\"col_heading level0 col1\" >Results</th>        <th class=\"col_heading level0 col2\" >Round 1</th>        <th class=\"col_heading level0 col3\" >Total</th>        <th class=\"col_heading level0 col4\" >Required</th>    </tr></thead><tbody>\n",
       "                <tr>\n",
       "                        <th id=\"T_eed93da6_1f83_11eb_84c9_678f0700d3fblevel0_row0\" class=\"row_heading level0 row0\" >0</th>\n",
       "                        <td id=\"T_eed93da6_1f83_11eb_84c9_678f0700d3fbrow0_col0\" class=\"data row0 col0\" >Bennet</td>\n",
       "                        <td id=\"T_eed93da6_1f83_11eb_84c9_678f0700d3fbrow0_col1\" class=\"data row0 col1\" >49</td>\n",
       "                        <td id=\"T_eed93da6_1f83_11eb_84c9_678f0700d3fbrow0_col2\" class=\"data row0 col2\" >0</td>\n",
       "                        <td id=\"T_eed93da6_1f83_11eb_84c9_678f0700d3fbrow0_col3\" class=\"data row0 col3\" >0</td>\n",
       "                        <td id=\"T_eed93da6_1f83_11eb_84c9_678f0700d3fbrow0_col4\" class=\"data row0 col4\" > </td>\n",
       "            </tr>\n",
       "            <tr>\n",
       "                        <th id=\"T_eed93da6_1f83_11eb_84c9_678f0700d3fblevel0_row1\" class=\"row_heading level0 row1\" >1</th>\n",
       "                        <td id=\"T_eed93da6_1f83_11eb_84c9_678f0700d3fbrow1_col0\" class=\"data row1 col0\" >Biden</td>\n",
       "                        <td id=\"T_eed93da6_1f83_11eb_84c9_678f0700d3fbrow1_col1\" class=\"data row1 col1\" >28135</td>\n",
       "                        <td id=\"T_eed93da6_1f83_11eb_84c9_678f0700d3fbrow1_col2\" class=\"data row1 col2\" >70</td>\n",
       "                        <td id=\"T_eed93da6_1f83_11eb_84c9_678f0700d3fbrow1_col3\" class=\"data row1 col3\" >70</td>\n",
       "                        <td id=\"T_eed93da6_1f83_11eb_84c9_678f0700d3fbrow1_col4\" class=\"data row1 col4\" >69</td>\n",
       "            </tr>\n",
       "            <tr>\n",
       "                        <th id=\"T_eed93da6_1f83_11eb_84c9_678f0700d3fblevel0_row2\" class=\"row_heading level0 row2\" >2</th>\n",
       "                        <td id=\"T_eed93da6_1f83_11eb_84c9_678f0700d3fbrow2_col0\" class=\"data row2 col0\" >Bloomberg</td>\n",
       "                        <td id=\"T_eed93da6_1f83_11eb_84c9_678f0700d3fbrow2_col1\" class=\"data row2 col1\" >682</td>\n",
       "                        <td id=\"T_eed93da6_1f83_11eb_84c9_678f0700d3fbrow2_col2\" class=\"data row2 col2\" >0</td>\n",
       "                        <td id=\"T_eed93da6_1f83_11eb_84c9_678f0700d3fbrow2_col3\" class=\"data row2 col3\" >0</td>\n",
       "                        <td id=\"T_eed93da6_1f83_11eb_84c9_678f0700d3fbrow2_col4\" class=\"data row2 col4\" > </td>\n",
       "            </tr>\n",
       "            <tr>\n",
       "                        <th id=\"T_eed93da6_1f83_11eb_84c9_678f0700d3fblevel0_row3\" class=\"row_heading level0 row3\" >3</th>\n",
       "                        <td id=\"T_eed93da6_1f83_11eb_84c9_678f0700d3fbrow3_col0\" class=\"data row3 col0\" >Buttigieg</td>\n",
       "                        <td id=\"T_eed93da6_1f83_11eb_84c9_678f0700d3fbrow3_col1\" class=\"data row3 col1\" >509</td>\n",
       "                        <td id=\"T_eed93da6_1f83_11eb_84c9_678f0700d3fbrow3_col2\" class=\"data row3 col2\" >0</td>\n",
       "                        <td id=\"T_eed93da6_1f83_11eb_84c9_678f0700d3fbrow3_col3\" class=\"data row3 col3\" >0</td>\n",
       "                        <td id=\"T_eed93da6_1f83_11eb_84c9_678f0700d3fbrow3_col4\" class=\"data row3 col4\" > </td>\n",
       "            </tr>\n",
       "            <tr>\n",
       "                        <th id=\"T_eed93da6_1f83_11eb_84c9_678f0700d3fblevel0_row4\" class=\"row_heading level0 row4\" >4</th>\n",
       "                        <td id=\"T_eed93da6_1f83_11eb_84c9_678f0700d3fbrow4_col0\" class=\"data row4 col0\" >Gabbard</td>\n",
       "                        <td id=\"T_eed93da6_1f83_11eb_84c9_678f0700d3fbrow4_col1\" class=\"data row4 col1\" >130</td>\n",
       "                        <td id=\"T_eed93da6_1f83_11eb_84c9_678f0700d3fbrow4_col2\" class=\"data row4 col2\" >0</td>\n",
       "                        <td id=\"T_eed93da6_1f83_11eb_84c9_678f0700d3fbrow4_col3\" class=\"data row4 col3\" >0</td>\n",
       "                        <td id=\"T_eed93da6_1f83_11eb_84c9_678f0700d3fbrow4_col4\" class=\"data row4 col4\" > </td>\n",
       "            </tr>\n",
       "            <tr>\n",
       "                        <th id=\"T_eed93da6_1f83_11eb_84c9_678f0700d3fblevel0_row5\" class=\"row_heading level0 row5\" >5</th>\n",
       "                        <td id=\"T_eed93da6_1f83_11eb_84c9_678f0700d3fbrow5_col0\" class=\"data row5 col0\" >Klobuchar</td>\n",
       "                        <td id=\"T_eed93da6_1f83_11eb_84c9_678f0700d3fbrow5_col1\" class=\"data row5 col1\" >396</td>\n",
       "                        <td id=\"T_eed93da6_1f83_11eb_84c9_678f0700d3fbrow5_col2\" class=\"data row5 col2\" >0</td>\n",
       "                        <td id=\"T_eed93da6_1f83_11eb_84c9_678f0700d3fbrow5_col3\" class=\"data row5 col3\" >0</td>\n",
       "                        <td id=\"T_eed93da6_1f83_11eb_84c9_678f0700d3fbrow5_col4\" class=\"data row5 col4\" > </td>\n",
       "            </tr>\n",
       "            <tr>\n",
       "                        <th id=\"T_eed93da6_1f83_11eb_84c9_678f0700d3fblevel0_row6\" class=\"row_heading level0 row6\" >6</th>\n",
       "                        <td id=\"T_eed93da6_1f83_11eb_84c9_678f0700d3fbrow6_col0\" class=\"data row6 col0\" >Patrick</td>\n",
       "                        <td id=\"T_eed93da6_1f83_11eb_84c9_678f0700d3fbrow6_col1\" class=\"data row6 col1\" >23</td>\n",
       "                        <td id=\"T_eed93da6_1f83_11eb_84c9_678f0700d3fbrow6_col2\" class=\"data row6 col2\" >0</td>\n",
       "                        <td id=\"T_eed93da6_1f83_11eb_84c9_678f0700d3fbrow6_col3\" class=\"data row6 col3\" >0</td>\n",
       "                        <td id=\"T_eed93da6_1f83_11eb_84c9_678f0700d3fbrow6_col4\" class=\"data row6 col4\" > </td>\n",
       "            </tr>\n",
       "            <tr>\n",
       "                        <th id=\"T_eed93da6_1f83_11eb_84c9_678f0700d3fblevel0_row7\" class=\"row_heading level0 row7\" >7</th>\n",
       "                        <td id=\"T_eed93da6_1f83_11eb_84c9_678f0700d3fbrow7_col0\" class=\"data row7 col0\" >Sanders</td>\n",
       "                        <td id=\"T_eed93da6_1f83_11eb_84c9_678f0700d3fbrow7_col1\" class=\"data row7 col1\" >5466</td>\n",
       "                        <td id=\"T_eed93da6_1f83_11eb_84c9_678f0700d3fbrow7_col2\" class=\"data row7 col2\" >30</td>\n",
       "                        <td id=\"T_eed93da6_1f83_11eb_84c9_678f0700d3fbrow7_col3\" class=\"data row7 col3\" >30</td>\n",
       "                        <td id=\"T_eed93da6_1f83_11eb_84c9_678f0700d3fbrow7_col4\" class=\"data row7 col4\" > </td>\n",
       "            </tr>\n",
       "            <tr>\n",
       "                        <th id=\"T_eed93da6_1f83_11eb_84c9_678f0700d3fblevel0_row8\" class=\"row_heading level0 row8\" >8</th>\n",
       "                        <td id=\"T_eed93da6_1f83_11eb_84c9_678f0700d3fbrow8_col0\" class=\"data row8 col0\" >Steyer</td>\n",
       "                        <td id=\"T_eed93da6_1f83_11eb_84c9_678f0700d3fbrow8_col1\" class=\"data row8 col1\" >57</td>\n",
       "                        <td id=\"T_eed93da6_1f83_11eb_84c9_678f0700d3fbrow8_col2\" class=\"data row8 col2\" >0</td>\n",
       "                        <td id=\"T_eed93da6_1f83_11eb_84c9_678f0700d3fbrow8_col3\" class=\"data row8 col3\" >0</td>\n",
       "                        <td id=\"T_eed93da6_1f83_11eb_84c9_678f0700d3fbrow8_col4\" class=\"data row8 col4\" > </td>\n",
       "            </tr>\n",
       "            <tr>\n",
       "                        <th id=\"T_eed93da6_1f83_11eb_84c9_678f0700d3fblevel0_row9\" class=\"row_heading level0 row9\" >9</th>\n",
       "                        <td id=\"T_eed93da6_1f83_11eb_84c9_678f0700d3fbrow9_col0\" class=\"data row9 col0\" >Warren</td>\n",
       "                        <td id=\"T_eed93da6_1f83_11eb_84c9_678f0700d3fbrow9_col1\" class=\"data row9 col1\" >1074</td>\n",
       "                        <td id=\"T_eed93da6_1f83_11eb_84c9_678f0700d3fbrow9_col2\" class=\"data row9 col2\" >0</td>\n",
       "                        <td id=\"T_eed93da6_1f83_11eb_84c9_678f0700d3fbrow9_col3\" class=\"data row9 col3\" >0</td>\n",
       "                        <td id=\"T_eed93da6_1f83_11eb_84c9_678f0700d3fbrow9_col4\" class=\"data row9 col4\" > </td>\n",
       "            </tr>\n",
       "            <tr>\n",
       "                        <th id=\"T_eed93da6_1f83_11eb_84c9_678f0700d3fblevel0_row10\" class=\"row_heading level0 row10\" >10</th>\n",
       "                        <td id=\"T_eed93da6_1f83_11eb_84c9_678f0700d3fbrow10_col0\" class=\"data row10 col0\" >Write_Ins</td>\n",
       "                        <td id=\"T_eed93da6_1f83_11eb_84c9_678f0700d3fbrow10_col1\" class=\"data row10 col1\" >94</td>\n",
       "                        <td id=\"T_eed93da6_1f83_11eb_84c9_678f0700d3fbrow10_col2\" class=\"data row10 col2\" >0</td>\n",
       "                        <td id=\"T_eed93da6_1f83_11eb_84c9_678f0700d3fbrow10_col3\" class=\"data row10 col3\" >0</td>\n",
       "                        <td id=\"T_eed93da6_1f83_11eb_84c9_678f0700d3fbrow10_col4\" class=\"data row10 col4\" > </td>\n",
       "            </tr>\n",
       "            <tr>\n",
       "                        <th id=\"T_eed93da6_1f83_11eb_84c9_678f0700d3fblevel0_row11\" class=\"row_heading level0 row11\" >11</th>\n",
       "                        <td id=\"T_eed93da6_1f83_11eb_84c9_678f0700d3fbrow11_col0\" class=\"data row11 col0\" > </td>\n",
       "                        <td id=\"T_eed93da6_1f83_11eb_84c9_678f0700d3fbrow11_col1\" class=\"data row11 col1\" >Sum</td>\n",
       "                        <td id=\"T_eed93da6_1f83_11eb_84c9_678f0700d3fbrow11_col2\" class=\"data row11 col2\" >100</td>\n",
       "                        <td id=\"T_eed93da6_1f83_11eb_84c9_678f0700d3fbrow11_col3\" class=\"data row11 col3\" > </td>\n",
       "                        <td id=\"T_eed93da6_1f83_11eb_84c9_678f0700d3fbrow11_col4\" class=\"data row11 col4\" > </td>\n",
       "            </tr>\n",
       "            <tr>\n",
       "                        <th id=\"T_eed93da6_1f83_11eb_84c9_678f0700d3fblevel0_row12\" class=\"row_heading level0 row12\" >12</th>\n",
       "                        <td id=\"T_eed93da6_1f83_11eb_84c9_678f0700d3fbrow12_col0\" class=\"data row12 col0\" > </td>\n",
       "                        <td id=\"T_eed93da6_1f83_11eb_84c9_678f0700d3fbrow12_col1\" class=\"data row12 col1\" >LR</td>\n",
       "                        <td id=\"T_eed93da6_1f83_11eb_84c9_678f0700d3fbrow12_col2\" class=\"data row12 col2\" >1.0000</td>\n",
       "                        <td id=\"T_eed93da6_1f83_11eb_84c9_678f0700d3fbrow12_col3\" class=\"data row12 col3\" > </td>\n",
       "                        <td id=\"T_eed93da6_1f83_11eb_84c9_678f0700d3fbrow12_col4\" class=\"data row12 col4\" > </td>\n",
       "            </tr>\n",
       "            <tr>\n",
       "                        <th id=\"T_eed93da6_1f83_11eb_84c9_678f0700d3fblevel0_row13\" class=\"row_heading level0 row13\" >13</th>\n",
       "                        <td id=\"T_eed93da6_1f83_11eb_84c9_678f0700d3fbrow13_col0\" class=\"data row13 col0\" > </td>\n",
       "                        <td id=\"T_eed93da6_1f83_11eb_84c9_678f0700d3fbrow13_col1\" class=\"data row13 col1\" >P-Value</td>\n",
       "                        <td id=\"T_eed93da6_1f83_11eb_84c9_678f0700d3fbrow13_col2\" class=\"data row13 col2\" >0.0000</td>\n",
       "                        <td id=\"T_eed93da6_1f83_11eb_84c9_678f0700d3fbrow13_col3\" class=\"data row13 col3\" > </td>\n",
       "                        <td id=\"T_eed93da6_1f83_11eb_84c9_678f0700d3fbrow13_col4\" class=\"data row13 col4\" > </td>\n",
       "            </tr>\n",
       "    </tbody></table>"
      ],
      "text/plain": [
       "<pandas.io.formats.style.Styler at 0x7f58509606d0>"
      ]
     },
     "execution_count": 45,
     "metadata": {},
     "output_type": "execute_result"
    }
   ],
   "source": [
    "w.present_state()"
   ]
  },
  {
   "cell_type": "code",
   "execution_count": null,
   "metadata": {},
   "outputs": [],
   "source": []
  }
 ],
 "metadata": {
  "celltoolbar": "Slideshow",
  "kernelspec": {
   "display_name": "Python 3",
   "language": "python",
   "name": "python3"
  },
  "language_info": {
   "codemirror_mode": {
    "name": "ipython",
    "version": 3
   },
   "file_extension": ".py",
   "mimetype": "text/x-python",
   "name": "python",
   "nbconvert_exporter": "python",
   "pygments_lexer": "ipython3",
   "version": "3.8.3"
  }
 },
 "nbformat": 4,
 "nbformat_minor": 4
}
