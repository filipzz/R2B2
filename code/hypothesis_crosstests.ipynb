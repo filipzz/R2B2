{
 "cells": [
  {
   "cell_type": "markdown",
   "metadata": {},
   "source": [
    "# Compare Minerva audits from athena and r2b2 repos"
   ]
  },
  {
   "cell_type": "code",
   "execution_count": 1,
   "metadata": {},
   "outputs": [],
   "source": [
    "# we either import locally (after the repo was cloned)\n",
    "# or we first clone it and then use it (e.g., when run in Google Colab)\n",
    "shell = get_ipython().__class__.__name__ \n",
    "\n",
    "if shell == 'Shell':\n",
    "    # imports when launched in e.g., Google Colab\n",
    "    !git clone https://github.com/filipzz/athena.git r2b2\n",
    "    from r2b2.code.athena.athena import AthenaAudit\n",
    "    from r2b2.code.athena.contest import Contest\n",
    "    from r2b2.code.athena.audit import Audit\n",
    "else: # shell ==  'ZMQInteractiveShell' or shell == 'TerminalInteractiveShell'\n",
    "    # local imports if you run it with e.g., Jupyter\n",
    "    from athena.athena import AthenaAudit\n",
    "    from athena.contest import Contest\n",
    "    from athena.election import Election\n",
    "    from athena.audit import Audit\n",
    "\n",
    "import pandas as pd\n",
    "import json"
   ]
  },
  {
   "cell_type": "code",
   "execution_count": 2,
   "metadata": {},
   "outputs": [],
   "source": [
    "import r2b2.contest as r2b2contest\n",
    "import r2b2.minerva as r2b2minerva\n",
    "import r2b2.election as r2b2election\n",
    "import r2b2.tests.util as r2b2util"
   ]
  },
  {
   "cell_type": "code",
   "execution_count": 3,
   "metadata": {},
   "outputs": [],
   "source": [
    "import json"
   ]
  },
  {
   "cell_type": "markdown",
   "metadata": {},
   "source": [
    "# Helper functions"
   ]
  },
  {
   "cell_type": "code",
   "execution_count": 4,
   "metadata": {},
   "outputs": [],
   "source": [
    "def compute_risk_r2b2(contest_dict, rounds, observations, risk_limit=0.1, max_fraction=0.5):\n",
    "    \"\"\"Compute risk level via r2b2 module, returning (for now) kmins and p_values\"\"\"\n",
    "\n",
    "    assert len(rounds) == 1, \"Can't handle more than one round yet\"\n",
    "    contest = r2b2contest.Contest(**contest_dict)\n",
    "    audit = r2b2minerva.Minerva(risk_limit, max_fraction, contest)\n",
    "    # FIXME: This approach to 2b2 minerva arbitrary compute_risk calculations only works for a single round\n",
    "    audit.compute_min_winner_ballots(rounds)\n",
    "    audit.current_dist_reported()\n",
    "    audit.current_dist_null()\n",
    "    #return audit\n",
    "    return {'kmins': audit.min_winner_ballots,\n",
    "            'p_values': [audit.compute_risk(observations[0])]}"
   ]
  },
  {
   "cell_type": "code",
   "execution_count": 5,
   "metadata": {},
   "outputs": [],
   "source": [
    "def compute_risk_athena(contest_dict, rounds, observations, risk_limit=0.1, max_fraction=0.5):\n",
    "    \"\"\"Compute risk level via athena module, returning (for now) kmins and p_values\"\"\"\n",
    "\n",
    "    total_ballots = sum(tally for tally in contest_dict['tally'].values())\n",
    "    election_name = \"hypothesis election\"\n",
    "    contest_name = \"hypothesis_contest\"\n",
    "    election = {\n",
    "        'name': election_name,\n",
    "        'total_ballots': total_ballots,\n",
    "        'contests': {contest_name: contest_dict}\n",
    "    }\n",
    "    audit = Audit(\"minerva\", risk_limit)\n",
    "    audit.add_election(election)\n",
    "    #print(audit)\n",
    "    audit.load_contest(contest_name)\n",
    "    audit.set_observations(rounds[0], rounds[0], [observations[0], rounds[0] - observations[0]])\n",
    "    status = audit.status[audit.active_contest]\n",
    "    return {'kmins': status.min_kmins[:1],   # FIXME: why more than one kmin value?\n",
    "            'p_values': [status.risks[0]]}"
   ]
  },
  {
   "cell_type": "code",
   "execution_count": 6,
   "metadata": {},
   "outputs": [],
   "source": [
    "def dict_compare(d1, d2):\n",
    "    d1_keys = set(d1.keys())\n",
    "    d2_keys = set(d2.keys())\n",
    "    shared_keys = d1_keys.intersection(d2_keys)\n",
    "    added = d1_keys - d2_keys\n",
    "    removed = d2_keys - d1_keys\n",
    "    modified = {o : (d1[o], d2[o]) for o in shared_keys if d1[o] != d2[o]}\n",
    "    same = set(o for o in shared_keys if d1[o] == d2[o])\n",
    "    return modified\n",
    "    #return added, removed, modified, same"
   ]
  },
  {
   "cell_type": "markdown",
   "metadata": {},
   "source": [
    "# Compare various observations"
   ]
  },
  {
   "cell_type": "code",
   "execution_count": 7,
   "metadata": {},
   "outputs": [],
   "source": [
    "contest_data = {\n",
    "    'contest_ballots': 10000,\n",
    "    'tally': {'A': 7500, 'B': 2500},\n",
    "    'num_winners': 1,\n",
    "    'reported_winners': ['A'],\n",
    "    'contest_type': r2b2contest.ContestType.PLURALITY}"
   ]
  },
  {
   "cell_type": "code",
   "execution_count": 8,
   "metadata": {
    "scrolled": true
   },
   "outputs": [
    {
     "name": "stdout",
     "output_type": "stream",
     "text": [
      "0 {'kmins': [31], 'p_values': [0.999999999999995]}\n",
      "1 {'kmins': [31], 'p_values': [0.9999999999999941]}\n",
      "2 {'kmins': [31], 'p_values': [0.9999999999999497]}\n",
      "3 {'kmins': [31], 'p_values': [0.9999999999988617]}\n",
      "4 {'kmins': [31], 'p_values': [0.9999999999814534]}\n",
      "5 {'kmins': [31], 'p_values': [0.9999999997769059]}\n",
      "6 {'kmins': [31], 'p_values': [0.999999997895069]}\n",
      "7 {'kmins': [31], 'p_values': [0.9999999837812922]}\n",
      "8 {'kmins': [31], 'p_values': [0.9999998950661236]}\n",
      "9 {'kmins': [31], 'p_values': [0.9999994182220927]}\n",
      "10 {'kmins': [31], 'p_values': [0.9999971929499484]}\n",
      "11 {'kmins': [31], 'p_values': [0.9999880693341571]}\n",
      "12 {'kmins': [31], 'p_values': [0.9999548925494649]}\n",
      "13 {'kmins': [31], 'p_values': [0.9998470679992498]}\n",
      "14 {'kmins': [31], 'p_values': [0.9995318885450718]}\n",
      "15 {'kmins': [31], 'p_values': [0.9986989142756701]}\n",
      "16 {'kmins': [31], 'p_values': [0.9966997760460113]}\n",
      "17 {'kmins': [31], 'p_values': [0.9923266612788878]}\n",
      "18 {'kmins': [31], 'p_values': [0.9835804323980646]}\n",
      "19 {'kmins': [31], 'p_values': [0.9675456829632899]}\n",
      "20 {'kmins': [31], 'p_values': [0.9405398062587353]}\n",
      "21 {'kmins': [31], 'p_values': [0.8986807720567698]}\n",
      "22 {'kmins': [31], 'p_values': [0.8388824436477395]}\n",
      "23 {'kmins': [31], 'p_values': [0.7600583861090779]}\n",
      "24 {'kmins': [31], 'p_values': [0.6641017488903845]}\n",
      "25 {'kmins': [31], 'p_values': [0.5561587323215998]}\n",
      "26 {'kmins': [31], 'p_values': [0.4439167994497353]}\n",
      "27 {'kmins': [31], 'p_values': [0.33602858406556296]}\n",
      "28 {'kmins': [31], 'p_values': [0.24018790457911424]}\n",
      "29 {'kmins': [31], 'p_values': [0.16154104415410725]}\n",
      "30 {'kmins': [31], 'p_values': [0.10195792858213848]}\n",
      "31 {'kmins': [31], 'p_values': [0.06029945043440224]}\n",
      "32 {'kmins': [31], 'p_values': [0.03341442556675801]}\n",
      "33 {'kmins': [31], 'p_values': [0.017377473516471977]}\n",
      "34 {'kmins': [31], 'p_values': [0.008509927081849339]}\n",
      "35 {'kmins': [31], 'p_values': [0.003943312244663762]}\n",
      "36 {'kmins': [31], 'p_values': [0.0017392307477434106]}\n",
      "37 {'kmins': [31], 'p_values': [0.0007348265516083757]}\n",
      "38 {'kmins': [31], 'p_values': [0.0002992879429643782]}\n",
      "39 {'kmins': [31], 'p_values': [0.00011820035688164246]}\n",
      "40 {'kmins': [31], 'p_values': [4.550175713461362e-05]}\n",
      "41 {'kmins': [31], 'p_values': [1.714921285684293e-05]}\n",
      "42 {'kmins': [31], 'p_values': [6.351477213646728e-06]}\n",
      "43 {'kmins': [31], 'p_values': [2.31868099943065e-06]}\n",
      "44 {'kmins': [31], 'p_values': [8.364091460685915e-07]}\n",
      "45 {'kmins': [31], 'p_values': [2.9873101062242023e-07]}\n",
      "46 {'kmins': [31], 'p_values': [1.0581134432735158e-07]}\n",
      "47 {'kmins': [31], 'p_values': [3.72175615240451e-08]}\n",
      "48 {'kmins': [31], 'p_values': [1.3013500734348119e-08]}\n",
      "49 {'kmins': [31], 'p_values': [4.527439008661251e-09]}\n"
     ]
    }
   ],
   "source": [
    "for obs in range(0, 50):\n",
    "    rr = compute_risk_r2b2(contest_data, [50], [obs])\n",
    "    ar = compute_risk_athena(contest_data, [50], [obs])\n",
    "    print(obs, ar)\n",
    "    comp = dict_compare(rr, ar)\n",
    "    if comp: print(obs, comp)"
   ]
  },
  {
   "cell_type": "markdown",
   "metadata": {},
   "source": [
    "# Older, Misc"
   ]
  },
  {
   "cell_type": "code",
   "execution_count": 9,
   "metadata": {},
   "outputs": [],
   "source": [
    "# with open(r2b2_contest_file, 'r') as f: contest_data = json.load(f)"
   ]
  },
  {
   "cell_type": "code",
   "execution_count": 10,
   "metadata": {},
   "outputs": [],
   "source": [
    "# contest_data['contest_type'] = r2b2contest.ContestType.PLURALITY"
   ]
  },
  {
   "cell_type": "code",
   "execution_count": 11,
   "metadata": {},
   "outputs": [],
   "source": [
    "rr = compute_risk_r2b2(contest_data, [50], [32])"
   ]
  },
  {
   "cell_type": "code",
   "execution_count": 12,
   "metadata": {},
   "outputs": [],
   "source": [
    "ar = compute_risk_athena(contest_data, [50], [32])"
   ]
  },
  {
   "cell_type": "code",
   "execution_count": 13,
   "metadata": {},
   "outputs": [
    {
     "data": {
      "text/plain": [
       "{'kmins': [31], 'p_values': [0.03341442556675801]}"
      ]
     },
     "execution_count": 13,
     "metadata": {},
     "output_type": "execute_result"
    }
   ],
   "source": [
    "ar"
   ]
  },
  {
   "cell_type": "code",
   "execution_count": 14,
   "metadata": {},
   "outputs": [
    {
     "data": {
      "text/plain": [
       "{}"
      ]
     },
     "execution_count": 14,
     "metadata": {},
     "output_type": "execute_result"
    }
   ],
   "source": [
    "dict_compare(rr, ar)"
   ]
  },
  {
   "cell_type": "markdown",
   "metadata": {},
   "source": [
    "## Formats"
   ]
  },
  {
   "cell_type": "code",
   "execution_count": 15,
   "metadata": {},
   "outputs": [],
   "source": [
    "r2b2_election_file = '/srv/s/electionaudits/bayes/r2b2/src/r2b2/tests/data/election_template.json'"
   ]
  },
  {
   "cell_type": "code",
   "execution_count": 16,
   "metadata": {},
   "outputs": [],
   "source": [
    "re = r2b2util.parse_election(r2b2_election_file)"
   ]
  },
  {
   "cell_type": "code",
   "execution_count": 17,
   "metadata": {},
   "outputs": [],
   "source": [
    "r2b2_contest_file = '/srv/s/electionaudits/bayes/r2b2/src/r2b2/tests/data/m50-contest.json'"
   ]
  },
  {
   "cell_type": "code",
   "execution_count": 18,
   "metadata": {},
   "outputs": [],
   "source": [
    "rc = r2b2util.parse_contest(r2b2_contest_file)"
   ]
  },
  {
   "cell_type": "code",
   "execution_count": 19,
   "metadata": {},
   "outputs": [
    {
     "name": "stdout",
     "output_type": "stream",
     "text": [
      "{\n",
      "        \"contest_ballots\" : 10000,\n",
      "        \"tally\" : {\n",
      "                \"A\" : 7500,\n",
      "                \"B\" : 2500\n",
      "        },\n",
      "        \"num_winners\" : 1,\n",
      "        \"reported_winners\" : [\"A\"],\n",
      "        \"contest_type\" : \"PLURALITY\"\n",
      "}\n",
      "\n"
     ]
    }
   ],
   "source": [
    "with open(r2b2_contest_file, 'r') as f: print(f.read())"
   ]
  },
  {
   "cell_type": "code",
   "execution_count": 20,
   "metadata": {},
   "outputs": [],
   "source": [
    "athena_election_file = \"athena/test_data/simple.json\""
   ]
  },
  {
   "cell_type": "code",
   "execution_count": 21,
   "metadata": {},
   "outputs": [
    {
     "name": "stdout",
     "output_type": "stream",
     "text": [
      "{\n",
      "\t\"name\": \"x\",\n",
      "\t\"total_ballots\": 10000,\n",
      "\t\"contests\": {\n",
      "\t\t\"two_candidates\": {\n",
      "\t\t\t\"contest_ballots\": 10000,\n",
      "\t\t\t\"tally\": {\n",
      "\t\t\t\t\"A\": 6000,\n",
      "\t\t\t\t\"B\": 4000\n",
      "\t\t\t},\n",
      "\t\t\t\"num_winners\": 1,\n",
      "\t\t\t\"reported_winners\": [\n",
      "\t\t\t\t\"A\"\n",
      "\t\t\t],\n",
      "\t\t\t\"contest_type\": \"PLURALITY\"\n",
      "\t\t}\n",
      "    }\n",
      "}\n",
      "\n"
     ]
    }
   ],
   "source": [
    "with open(athena_election_file, 'r') as f: print(f.read())"
   ]
  },
  {
   "cell_type": "markdown",
   "metadata": {},
   "source": [
    "## Set parameters"
   ]
  },
  {
   "cell_type": "code",
   "execution_count": 22,
   "metadata": {},
   "outputs": [],
   "source": [
    "risk_limit = 0.1\n",
    "max_fraction = 0.5"
   ]
  },
  {
   "cell_type": "code",
   "execution_count": 23,
   "metadata": {},
   "outputs": [],
   "source": [
    "num_winners = 1\n",
    "election_name = \"test0\"\n",
    "contest1_name = \"margin50\"\n",
    "candidate1_name = 'A'\n",
    "candidate2_name = 'B'\n",
    "candidate1_tally = 7500\n",
    "candidate2_tally = 2500\n",
    "undervotes = 0\n",
    "total_ballots = candidate1_tally + candidate2_tally + undervotes"
   ]
  },
  {
   "cell_type": "markdown",
   "metadata": {},
   "source": [
    "## With r2b2"
   ]
  },
  {
   "cell_type": "code",
   "execution_count": 24,
   "metadata": {},
   "outputs": [
    {
     "data": {
      "text/plain": [
       "r2b2.contest.Contest"
      ]
     },
     "execution_count": 24,
     "metadata": {},
     "output_type": "execute_result"
    }
   ],
   "source": [
    "r2b2contest.Contest"
   ]
  },
  {
   "cell_type": "code",
   "execution_count": 25,
   "metadata": {},
   "outputs": [],
   "source": [
    "rc = r2b2contest.Contest(10000, {\n",
    "'A': 7500,\n",
    "       'B': 2500\n",
    "    }, 1, ['A'], r2b2contest.ContestType.PLURALITY)"
   ]
  },
  {
   "cell_type": "code",
   "execution_count": 26,
   "metadata": {},
   "outputs": [],
   "source": [
    "rm = r2b2minerva.Minerva(risk_limit, max_fraction, rc)"
   ]
  },
  {
   "cell_type": "code",
   "execution_count": 27,
   "metadata": {},
   "outputs": [],
   "source": [
    "rm.compute_min_winner_ballots([50])"
   ]
  },
  {
   "cell_type": "code",
   "execution_count": 28,
   "metadata": {},
   "outputs": [],
   "source": [
    "rkmin = rm.min_winner_ballots"
   ]
  },
  {
   "cell_type": "code",
   "execution_count": 29,
   "metadata": {},
   "outputs": [
    {
     "data": {
      "text/plain": [
       "[31]"
      ]
     },
     "execution_count": 29,
     "metadata": {},
     "output_type": "execute_result"
    }
   ],
   "source": [
    "rkmin"
   ]
  },
  {
   "cell_type": "markdown",
   "metadata": {},
   "source": [
    "FIXME: This approach to 2b2 minerva arbitrary compute_risk calculations only works for a single round"
   ]
  },
  {
   "cell_type": "code",
   "execution_count": 30,
   "metadata": {},
   "outputs": [],
   "source": [
    "rm.current_dist_reported()\n",
    "rm.current_dist_null()"
   ]
  },
  {
   "cell_type": "code",
   "execution_count": 31,
   "metadata": {},
   "outputs": [],
   "source": [
    "r_p_value = rm.compute_risk(32)"
   ]
  },
  {
   "cell_type": "code",
   "execution_count": 32,
   "metadata": {},
   "outputs": [
    {
     "data": {
      "text/plain": [
       "0.03341442556675801"
      ]
     },
     "execution_count": 32,
     "metadata": {},
     "output_type": "execute_result"
    }
   ],
   "source": [
    "r_p_value"
   ]
  },
  {
   "cell_type": "code",
   "execution_count": 33,
   "metadata": {},
   "outputs": [
    {
     "data": {
      "text/plain": [
       "array([8.88178420e-16, 4.44089210e-14, 1.08801856e-12, 1.74082970e-11,\n",
       "       2.04547490e-10, 1.88183691e-09, 1.41137768e-08, 8.87151685e-08,\n",
       "       4.76844031e-07, 2.22527214e-06, 9.12361579e-06, 3.31767847e-05,\n",
       "       1.07824550e-04, 3.15179455e-04, 8.32974273e-04, 1.99913826e-03,\n",
       "       4.37311493e-03, 8.74622987e-03, 1.60347548e-02, 2.70059027e-02,\n",
       "       4.18591493e-02, 5.97987846e-02, 7.88256707e-02, 9.59616860e-02,\n",
       "       1.07956897e-01, 1.12275173e-01, 1.07956897e-01, 9.59616860e-02,\n",
       "       7.88256707e-02, 5.97987846e-02, 4.18591493e-02, 2.70059027e-02,\n",
       "       1.60347548e-02, 8.74622987e-03, 4.37311493e-03, 1.99913826e-03,\n",
       "       8.32974273e-04, 3.15179455e-04, 1.07824550e-04, 3.31767847e-05,\n",
       "       9.12361579e-06, 2.22527214e-06, 4.76844031e-07, 8.87151685e-08,\n",
       "       1.41137768e-08, 1.88183691e-09, 2.04547490e-10, 1.74082970e-11,\n",
       "       1.08801856e-12, 4.44089210e-14, 8.88178420e-16])"
      ]
     },
     "execution_count": 33,
     "metadata": {},
     "output_type": "execute_result"
    }
   ],
   "source": [
    "rm.distribution_null"
   ]
  },
  {
   "cell_type": "markdown",
   "metadata": {},
   "source": [
    "## With Athena"
   ]
  },
  {
   "cell_type": "markdown",
   "metadata": {},
   "source": [
    "### Load from variables"
   ]
  },
  {
   "cell_type": "code",
   "execution_count": 34,
   "metadata": {},
   "outputs": [],
   "source": [
    "contest = {\n",
    "    'num_winners': num_winners,\n",
    "    'tally': {\n",
    "        candidate1_name: candidate1_tally,\n",
    "        candidate2_name: candidate2_tally,        \n",
    "    }\n",
    "}"
   ]
  },
  {
   "cell_type": "code",
   "execution_count": 35,
   "metadata": {},
   "outputs": [],
   "source": [
    "election = {\n",
    "    'name': election_name,\n",
    "    'total_ballots': total_ballots,\n",
    "    'contests': {contest1_name: contest}\n",
    "}"
   ]
  },
  {
   "cell_type": "code",
   "execution_count": 36,
   "metadata": {},
   "outputs": [],
   "source": [
    "am = Audit(\"minerva\", risk_limit)"
   ]
  },
  {
   "cell_type": "code",
   "execution_count": 37,
   "metadata": {},
   "outputs": [],
   "source": [
    "am.add_election(election)"
   ]
  },
  {
   "cell_type": "code",
   "execution_count": 38,
   "metadata": {},
   "outputs": [],
   "source": [
    "am.load_contest(contest1_name)"
   ]
  },
  {
   "cell_type": "code",
   "execution_count": 39,
   "metadata": {},
   "outputs": [],
   "source": [
    "am.set_observations(50, 50, [32,18])"
   ]
  },
  {
   "cell_type": "code",
   "execution_count": 40,
   "metadata": {},
   "outputs": [
    {
     "data": {
      "text/html": [
       "<style  type=\"text/css\" >\n",
       "    #T_dfca35c2_d2df_11ea_8f1f_e09d31573688row1_col0 {\n",
       "            color:  blue;\n",
       "        }    #T_dfca35c2_d2df_11ea_8f1f_e09d31573688row1_col1 {\n",
       "            color:  blue;\n",
       "        }    #T_dfca35c2_d2df_11ea_8f1f_e09d31573688row1_col2 {\n",
       "            color:  blue;\n",
       "        }    #T_dfca35c2_d2df_11ea_8f1f_e09d31573688row1_col3 {\n",
       "            color:  blue;\n",
       "        }    #T_dfca35c2_d2df_11ea_8f1f_e09d31573688row1_col4 {\n",
       "            color:  blue;\n",
       "        }</style><table id=\"T_dfca35c2_d2df_11ea_8f1f_e09d31573688\" ><thead>    <tr>        <th class=\"blank level0\" ></th>        <th class=\"col_heading level0 col0\" >Candidates</th>        <th class=\"col_heading level0 col1\" >Results</th>        <th class=\"col_heading level0 col2\" >Round 1</th>        <th class=\"col_heading level0 col3\" >Total</th>        <th class=\"col_heading level0 col4\" >Required</th>    </tr></thead><tbody>\n",
       "                <tr>\n",
       "                        <th id=\"T_dfca35c2_d2df_11ea_8f1f_e09d31573688level0_row0\" class=\"row_heading level0 row0\" >0</th>\n",
       "                        <td id=\"T_dfca35c2_d2df_11ea_8f1f_e09d31573688row0_col0\" class=\"data row0 col0\" >A</td>\n",
       "                        <td id=\"T_dfca35c2_d2df_11ea_8f1f_e09d31573688row0_col1\" class=\"data row0 col1\" >7500</td>\n",
       "                        <td id=\"T_dfca35c2_d2df_11ea_8f1f_e09d31573688row0_col2\" class=\"data row0 col2\" >32</td>\n",
       "                        <td id=\"T_dfca35c2_d2df_11ea_8f1f_e09d31573688row0_col3\" class=\"data row0 col3\" >32</td>\n",
       "                        <td id=\"T_dfca35c2_d2df_11ea_8f1f_e09d31573688row0_col4\" class=\"data row0 col4\" >31</td>\n",
       "            </tr>\n",
       "            <tr>\n",
       "                        <th id=\"T_dfca35c2_d2df_11ea_8f1f_e09d31573688level0_row1\" class=\"row_heading level0 row1\" >1</th>\n",
       "                        <td id=\"T_dfca35c2_d2df_11ea_8f1f_e09d31573688row1_col0\" class=\"data row1 col0\" >B</td>\n",
       "                        <td id=\"T_dfca35c2_d2df_11ea_8f1f_e09d31573688row1_col1\" class=\"data row1 col1\" >2500</td>\n",
       "                        <td id=\"T_dfca35c2_d2df_11ea_8f1f_e09d31573688row1_col2\" class=\"data row1 col2\" >18</td>\n",
       "                        <td id=\"T_dfca35c2_d2df_11ea_8f1f_e09d31573688row1_col3\" class=\"data row1 col3\" >18</td>\n",
       "                        <td id=\"T_dfca35c2_d2df_11ea_8f1f_e09d31573688row1_col4\" class=\"data row1 col4\" > </td>\n",
       "            </tr>\n",
       "            <tr>\n",
       "                        <th id=\"T_dfca35c2_d2df_11ea_8f1f_e09d31573688level0_row2\" class=\"row_heading level0 row2\" >2</th>\n",
       "                        <td id=\"T_dfca35c2_d2df_11ea_8f1f_e09d31573688row2_col0\" class=\"data row2 col0\" > </td>\n",
       "                        <td id=\"T_dfca35c2_d2df_11ea_8f1f_e09d31573688row2_col1\" class=\"data row2 col1\" >Sum</td>\n",
       "                        <td id=\"T_dfca35c2_d2df_11ea_8f1f_e09d31573688row2_col2\" class=\"data row2 col2\" >50</td>\n",
       "                        <td id=\"T_dfca35c2_d2df_11ea_8f1f_e09d31573688row2_col3\" class=\"data row2 col3\" > </td>\n",
       "                        <td id=\"T_dfca35c2_d2df_11ea_8f1f_e09d31573688row2_col4\" class=\"data row2 col4\" > </td>\n",
       "            </tr>\n",
       "            <tr>\n",
       "                        <th id=\"T_dfca35c2_d2df_11ea_8f1f_e09d31573688level0_row3\" class=\"row_heading level0 row3\" >3</th>\n",
       "                        <td id=\"T_dfca35c2_d2df_11ea_8f1f_e09d31573688row3_col0\" class=\"data row3 col0\" > </td>\n",
       "                        <td id=\"T_dfca35c2_d2df_11ea_8f1f_e09d31573688row3_col1\" class=\"data row3 col1\" >LR</td>\n",
       "                        <td id=\"T_dfca35c2_d2df_11ea_8f1f_e09d31573688row3_col2\" class=\"data row3 col2\" >1.6458</td>\n",
       "                        <td id=\"T_dfca35c2_d2df_11ea_8f1f_e09d31573688row3_col3\" class=\"data row3 col3\" > </td>\n",
       "                        <td id=\"T_dfca35c2_d2df_11ea_8f1f_e09d31573688row3_col4\" class=\"data row3 col4\" > </td>\n",
       "            </tr>\n",
       "            <tr>\n",
       "                        <th id=\"T_dfca35c2_d2df_11ea_8f1f_e09d31573688level0_row4\" class=\"row_heading level0 row4\" >4</th>\n",
       "                        <td id=\"T_dfca35c2_d2df_11ea_8f1f_e09d31573688row4_col0\" class=\"data row4 col0\" > </td>\n",
       "                        <td id=\"T_dfca35c2_d2df_11ea_8f1f_e09d31573688row4_col1\" class=\"data row4 col1\" >P-Value</td>\n",
       "                        <td id=\"T_dfca35c2_d2df_11ea_8f1f_e09d31573688row4_col2\" class=\"data row4 col2\" >0.0334</td>\n",
       "                        <td id=\"T_dfca35c2_d2df_11ea_8f1f_e09d31573688row4_col3\" class=\"data row4 col3\" > </td>\n",
       "                        <td id=\"T_dfca35c2_d2df_11ea_8f1f_e09d31573688row4_col4\" class=\"data row4 col4\" > </td>\n",
       "            </tr>\n",
       "    </tbody></table>"
      ],
      "text/plain": [
       "<pandas.io.formats.style.Styler at 0x7f35c97eebd0>"
      ]
     },
     "execution_count": 40,
     "metadata": {},
     "output_type": "execute_result"
    }
   ],
   "source": [
    "am.present_state()"
   ]
  },
  {
   "cell_type": "code",
   "execution_count": 41,
   "metadata": {},
   "outputs": [],
   "source": [
    "a_p_value = am.status[am.active_contest].risks[0]"
   ]
  },
  {
   "cell_type": "code",
   "execution_count": 42,
   "metadata": {},
   "outputs": [
    {
     "data": {
      "text/plain": [
       "True"
      ]
     },
     "execution_count": 42,
     "metadata": {},
     "output_type": "execute_result"
    }
   ],
   "source": [
    "a_p_value == r_p_value"
   ]
  },
  {
   "cell_type": "code",
   "execution_count": 43,
   "metadata": {},
   "outputs": [
    {
     "data": {
      "text/plain": [
       "'margin50'"
      ]
     },
     "execution_count": 43,
     "metadata": {},
     "output_type": "execute_result"
    }
   ],
   "source": [
    "am.active_contest"
   ]
  },
  {
   "cell_type": "code",
   "execution_count": 44,
   "metadata": {},
   "outputs": [],
   "source": [
    "cs = am.status[am.active_contest]"
   ]
  },
  {
   "cell_type": "code",
   "execution_count": 45,
   "metadata": {},
   "outputs": [
    {
     "data": {
      "text/plain": [
       "athena.audit.Status"
      ]
     },
     "execution_count": 45,
     "metadata": {},
     "output_type": "execute_result"
    }
   ],
   "source": [
    "type(cs)"
   ]
  },
  {
   "cell_type": "code",
   "execution_count": 46,
   "metadata": {},
   "outputs": [
    {
     "data": {
      "text/plain": [
       "['round_number',\n",
       " 'params',\n",
       " 'min_kmins',\n",
       " 'risks',\n",
       " 'deltas',\n",
       " 'audit_pairs',\n",
       " 'audit_completed',\n",
       " 'ballots_sampled']"
      ]
     },
     "execution_count": 46,
     "metadata": {},
     "output_type": "execute_result"
    }
   ],
   "source": [
    "# attributes of audit Status\n",
    "[attr for attr in cs.__dir__() if not attr.startswith('_')]"
   ]
  },
  {
   "cell_type": "code",
   "execution_count": 47,
   "metadata": {},
   "outputs": [
    {
     "data": {
      "text/plain": [
       "athena.audit.Status"
      ]
     },
     "execution_count": 47,
     "metadata": {},
     "output_type": "execute_result"
    }
   ],
   "source": [
    "type(am.status[am.active_contest])"
   ]
  },
  {
   "cell_type": "code",
   "execution_count": 48,
   "metadata": {},
   "outputs": [
    {
     "data": {
      "text/plain": [
       "audit type: minerva\n",
       "alpha: 0.1\n",
       "observations: [[32], [18]]\n",
       "status: {'margin50': {\"round_number\": 2, \"min_kmins\": [31, 0], \"risks\": [0.03341442556675801]}}"
      ]
     },
     "execution_count": 48,
     "metadata": {},
     "output_type": "execute_result"
    }
   ],
   "source": [
    "am"
   ]
  },
  {
   "cell_type": "code",
   "execution_count": 49,
   "metadata": {},
   "outputs": [
    {
     "data": {
      "text/plain": [
       "[0.03341442556675801]"
      ]
     },
     "execution_count": 49,
     "metadata": {},
     "output_type": "execute_result"
    }
   ],
   "source": [
    "cs.risks"
   ]
  },
  {
   "cell_type": "code",
   "execution_count": 50,
   "metadata": {},
   "outputs": [
    {
     "data": {
      "text/plain": [
       "athena.audit.Status"
      ]
     },
     "execution_count": 50,
     "metadata": {},
     "output_type": "execute_result"
    }
   ],
   "source": [
    "type(am.status[am.active_contest])"
   ]
  },
  {
   "cell_type": "code",
   "execution_count": 51,
   "metadata": {},
   "outputs": [],
   "source": [
    "a_p_value = am.status"
   ]
  },
  {
   "cell_type": "code",
   "execution_count": 52,
   "metadata": {},
   "outputs": [
    {
     "data": {
      "text/plain": [
       "{'margin50': {\"round_number\": 2, \"min_kmins\": [31, 0], \"risks\": [0.03341442556675801]}}"
      ]
     },
     "execution_count": 52,
     "metadata": {},
     "output_type": "execute_result"
    }
   ],
   "source": [
    "am.status"
   ]
  },
  {
   "cell_type": "markdown",
   "metadata": {},
   "source": [
    "### Load from json string"
   ]
  },
  {
   "cell_type": "code",
   "execution_count": 53,
   "metadata": {},
   "outputs": [],
   "source": [
    "am = Audit(\"minerva\", risk_limit)"
   ]
  },
  {
   "cell_type": "code",
   "execution_count": 54,
   "metadata": {},
   "outputs": [],
   "source": [
    "am.add_election(json.loads(\"\"\"{\n",
    "\t\"name\": \"x\",\n",
    "\t\"total_ballots\": 10000,\n",
    "\t\"contests\": {\n",
    "\t\t\"two_candidates\": {\n",
    "\t\t\t\"contest_ballots\": 10000,\n",
    "\t\t\t\"tally\": {\n",
    "\t\t\t\t\"A\": 6000,\n",
    "\t\t\t\t\"B\": 4000\n",
    "\t\t\t},\n",
    "\t\t\t\"num_winners\": 1,\n",
    "\t\t\t\"reported_winners\": [\n",
    "\t\t\t\t\"A\"\n",
    "\t\t\t],\n",
    "\t\t\t\"contest_type\": \"PLURALITY\"\n",
    "\t\t}\n",
    "    }\n",
    "}\n",
    "\"\"\"))"
   ]
  },
  {
   "cell_type": "code",
   "execution_count": 55,
   "metadata": {},
   "outputs": [],
   "source": [
    "am.load_contest(\"two_candidates\")"
   ]
  },
  {
   "cell_type": "code",
   "execution_count": 56,
   "metadata": {},
   "outputs": [],
   "source": [
    "am.set_observations(50, 50, [32,18])"
   ]
  },
  {
   "cell_type": "code",
   "execution_count": 57,
   "metadata": {},
   "outputs": [
    {
     "data": {
      "text/html": [
       "<style  type=\"text/css\" >\n",
       "    #T_e764e5c0_d2df_11ea_8f1f_e09d31573688row1_col0 {\n",
       "            color:  blue;\n",
       "        }    #T_e764e5c0_d2df_11ea_8f1f_e09d31573688row1_col1 {\n",
       "            color:  blue;\n",
       "        }    #T_e764e5c0_d2df_11ea_8f1f_e09d31573688row1_col2 {\n",
       "            color:  blue;\n",
       "        }    #T_e764e5c0_d2df_11ea_8f1f_e09d31573688row1_col3 {\n",
       "            color:  blue;\n",
       "        }    #T_e764e5c0_d2df_11ea_8f1f_e09d31573688row1_col4 {\n",
       "            color:  blue;\n",
       "        }</style><table id=\"T_e764e5c0_d2df_11ea_8f1f_e09d31573688\" ><thead>    <tr>        <th class=\"blank level0\" ></th>        <th class=\"col_heading level0 col0\" >Candidates</th>        <th class=\"col_heading level0 col1\" >Results</th>        <th class=\"col_heading level0 col2\" >Round 1</th>        <th class=\"col_heading level0 col3\" >Total</th>        <th class=\"col_heading level0 col4\" >Required</th>    </tr></thead><tbody>\n",
       "                <tr>\n",
       "                        <th id=\"T_e764e5c0_d2df_11ea_8f1f_e09d31573688level0_row0\" class=\"row_heading level0 row0\" >0</th>\n",
       "                        <td id=\"T_e764e5c0_d2df_11ea_8f1f_e09d31573688row0_col0\" class=\"data row0 col0\" >A</td>\n",
       "                        <td id=\"T_e764e5c0_d2df_11ea_8f1f_e09d31573688row0_col1\" class=\"data row0 col1\" >6000</td>\n",
       "                        <td id=\"T_e764e5c0_d2df_11ea_8f1f_e09d31573688row0_col2\" class=\"data row0 col2\" >32</td>\n",
       "                        <td id=\"T_e764e5c0_d2df_11ea_8f1f_e09d31573688row0_col3\" class=\"data row0 col3\" >32</td>\n",
       "                        <td id=\"T_e764e5c0_d2df_11ea_8f1f_e09d31573688row0_col4\" class=\"data row0 col4\" >32</td>\n",
       "            </tr>\n",
       "            <tr>\n",
       "                        <th id=\"T_e764e5c0_d2df_11ea_8f1f_e09d31573688level0_row1\" class=\"row_heading level0 row1\" >1</th>\n",
       "                        <td id=\"T_e764e5c0_d2df_11ea_8f1f_e09d31573688row1_col0\" class=\"data row1 col0\" >B</td>\n",
       "                        <td id=\"T_e764e5c0_d2df_11ea_8f1f_e09d31573688row1_col1\" class=\"data row1 col1\" >4000</td>\n",
       "                        <td id=\"T_e764e5c0_d2df_11ea_8f1f_e09d31573688row1_col2\" class=\"data row1 col2\" >18</td>\n",
       "                        <td id=\"T_e764e5c0_d2df_11ea_8f1f_e09d31573688row1_col3\" class=\"data row1 col3\" >18</td>\n",
       "                        <td id=\"T_e764e5c0_d2df_11ea_8f1f_e09d31573688row1_col4\" class=\"data row1 col4\" > </td>\n",
       "            </tr>\n",
       "            <tr>\n",
       "                        <th id=\"T_e764e5c0_d2df_11ea_8f1f_e09d31573688level0_row2\" class=\"row_heading level0 row2\" >2</th>\n",
       "                        <td id=\"T_e764e5c0_d2df_11ea_8f1f_e09d31573688row2_col0\" class=\"data row2 col0\" > </td>\n",
       "                        <td id=\"T_e764e5c0_d2df_11ea_8f1f_e09d31573688row2_col1\" class=\"data row2 col1\" >Sum</td>\n",
       "                        <td id=\"T_e764e5c0_d2df_11ea_8f1f_e09d31573688row2_col2\" class=\"data row2 col2\" >50</td>\n",
       "                        <td id=\"T_e764e5c0_d2df_11ea_8f1f_e09d31573688row2_col3\" class=\"data row2 col3\" > </td>\n",
       "                        <td id=\"T_e764e5c0_d2df_11ea_8f1f_e09d31573688row2_col4\" class=\"data row2 col4\" > </td>\n",
       "            </tr>\n",
       "            <tr>\n",
       "                        <th id=\"T_e764e5c0_d2df_11ea_8f1f_e09d31573688level0_row3\" class=\"row_heading level0 row3\" >3</th>\n",
       "                        <td id=\"T_e764e5c0_d2df_11ea_8f1f_e09d31573688row3_col0\" class=\"data row3 col0\" > </td>\n",
       "                        <td id=\"T_e764e5c0_d2df_11ea_8f1f_e09d31573688row3_col1\" class=\"data row3 col1\" >LR</td>\n",
       "                        <td id=\"T_e764e5c0_d2df_11ea_8f1f_e09d31573688row3_col2\" class=\"data row3 col2\" >6.1577</td>\n",
       "                        <td id=\"T_e764e5c0_d2df_11ea_8f1f_e09d31573688row3_col3\" class=\"data row3 col3\" > </td>\n",
       "                        <td id=\"T_e764e5c0_d2df_11ea_8f1f_e09d31573688row3_col4\" class=\"data row3 col4\" > </td>\n",
       "            </tr>\n",
       "            <tr>\n",
       "                        <th id=\"T_e764e5c0_d2df_11ea_8f1f_e09d31573688level0_row4\" class=\"row_heading level0 row4\" >4</th>\n",
       "                        <td id=\"T_e764e5c0_d2df_11ea_8f1f_e09d31573688row4_col0\" class=\"data row4 col0\" > </td>\n",
       "                        <td id=\"T_e764e5c0_d2df_11ea_8f1f_e09d31573688row4_col1\" class=\"data row4 col1\" >P-Value</td>\n",
       "                        <td id=\"T_e764e5c0_d2df_11ea_8f1f_e09d31573688row4_col2\" class=\"data row4 col2\" >0.0967</td>\n",
       "                        <td id=\"T_e764e5c0_d2df_11ea_8f1f_e09d31573688row4_col3\" class=\"data row4 col3\" > </td>\n",
       "                        <td id=\"T_e764e5c0_d2df_11ea_8f1f_e09d31573688row4_col4\" class=\"data row4 col4\" > </td>\n",
       "            </tr>\n",
       "    </tbody></table>"
      ],
      "text/plain": [
       "<pandas.io.formats.style.Styler at 0x7f35c79d9d90>"
      ]
     },
     "execution_count": 57,
     "metadata": {},
     "output_type": "execute_result"
    }
   ],
   "source": [
    "am.present_state()"
   ]
  },
  {
   "cell_type": "markdown",
   "metadata": {},
   "source": [
    "### Load from file"
   ]
  },
  {
   "cell_type": "code",
   "execution_count": 58,
   "metadata": {},
   "outputs": [],
   "source": [
    "am = Audit(\"minerva\", risk_limit)"
   ]
  },
  {
   "cell_type": "code",
   "execution_count": 59,
   "metadata": {},
   "outputs": [],
   "source": [
    "am.read_election_results(\"athena/test_data/simple.json\")"
   ]
  },
  {
   "cell_type": "code",
   "execution_count": 60,
   "metadata": {},
   "outputs": [],
   "source": [
    "am.load_contest(\"two_candidates\")"
   ]
  },
  {
   "cell_type": "code",
   "execution_count": 61,
   "metadata": {},
   "outputs": [],
   "source": [
    "am.set_observations(50, 50, [32,18])"
   ]
  },
  {
   "cell_type": "code",
   "execution_count": 62,
   "metadata": {},
   "outputs": [
    {
     "data": {
      "text/html": [
       "<style  type=\"text/css\" >\n",
       "    #T_eaf86b12_d2df_11ea_8f1f_e09d31573688row1_col0 {\n",
       "            color:  blue;\n",
       "        }    #T_eaf86b12_d2df_11ea_8f1f_e09d31573688row1_col1 {\n",
       "            color:  blue;\n",
       "        }    #T_eaf86b12_d2df_11ea_8f1f_e09d31573688row1_col2 {\n",
       "            color:  blue;\n",
       "        }    #T_eaf86b12_d2df_11ea_8f1f_e09d31573688row1_col3 {\n",
       "            color:  blue;\n",
       "        }    #T_eaf86b12_d2df_11ea_8f1f_e09d31573688row1_col4 {\n",
       "            color:  blue;\n",
       "        }</style><table id=\"T_eaf86b12_d2df_11ea_8f1f_e09d31573688\" ><thead>    <tr>        <th class=\"blank level0\" ></th>        <th class=\"col_heading level0 col0\" >Candidates</th>        <th class=\"col_heading level0 col1\" >Results</th>        <th class=\"col_heading level0 col2\" >Round 1</th>        <th class=\"col_heading level0 col3\" >Total</th>        <th class=\"col_heading level0 col4\" >Required</th>    </tr></thead><tbody>\n",
       "                <tr>\n",
       "                        <th id=\"T_eaf86b12_d2df_11ea_8f1f_e09d31573688level0_row0\" class=\"row_heading level0 row0\" >0</th>\n",
       "                        <td id=\"T_eaf86b12_d2df_11ea_8f1f_e09d31573688row0_col0\" class=\"data row0 col0\" >A</td>\n",
       "                        <td id=\"T_eaf86b12_d2df_11ea_8f1f_e09d31573688row0_col1\" class=\"data row0 col1\" >6000</td>\n",
       "                        <td id=\"T_eaf86b12_d2df_11ea_8f1f_e09d31573688row0_col2\" class=\"data row0 col2\" >32</td>\n",
       "                        <td id=\"T_eaf86b12_d2df_11ea_8f1f_e09d31573688row0_col3\" class=\"data row0 col3\" >32</td>\n",
       "                        <td id=\"T_eaf86b12_d2df_11ea_8f1f_e09d31573688row0_col4\" class=\"data row0 col4\" >32</td>\n",
       "            </tr>\n",
       "            <tr>\n",
       "                        <th id=\"T_eaf86b12_d2df_11ea_8f1f_e09d31573688level0_row1\" class=\"row_heading level0 row1\" >1</th>\n",
       "                        <td id=\"T_eaf86b12_d2df_11ea_8f1f_e09d31573688row1_col0\" class=\"data row1 col0\" >B</td>\n",
       "                        <td id=\"T_eaf86b12_d2df_11ea_8f1f_e09d31573688row1_col1\" class=\"data row1 col1\" >4000</td>\n",
       "                        <td id=\"T_eaf86b12_d2df_11ea_8f1f_e09d31573688row1_col2\" class=\"data row1 col2\" >18</td>\n",
       "                        <td id=\"T_eaf86b12_d2df_11ea_8f1f_e09d31573688row1_col3\" class=\"data row1 col3\" >18</td>\n",
       "                        <td id=\"T_eaf86b12_d2df_11ea_8f1f_e09d31573688row1_col4\" class=\"data row1 col4\" > </td>\n",
       "            </tr>\n",
       "            <tr>\n",
       "                        <th id=\"T_eaf86b12_d2df_11ea_8f1f_e09d31573688level0_row2\" class=\"row_heading level0 row2\" >2</th>\n",
       "                        <td id=\"T_eaf86b12_d2df_11ea_8f1f_e09d31573688row2_col0\" class=\"data row2 col0\" > </td>\n",
       "                        <td id=\"T_eaf86b12_d2df_11ea_8f1f_e09d31573688row2_col1\" class=\"data row2 col1\" >Sum</td>\n",
       "                        <td id=\"T_eaf86b12_d2df_11ea_8f1f_e09d31573688row2_col2\" class=\"data row2 col2\" >50</td>\n",
       "                        <td id=\"T_eaf86b12_d2df_11ea_8f1f_e09d31573688row2_col3\" class=\"data row2 col3\" > </td>\n",
       "                        <td id=\"T_eaf86b12_d2df_11ea_8f1f_e09d31573688row2_col4\" class=\"data row2 col4\" > </td>\n",
       "            </tr>\n",
       "            <tr>\n",
       "                        <th id=\"T_eaf86b12_d2df_11ea_8f1f_e09d31573688level0_row3\" class=\"row_heading level0 row3\" >3</th>\n",
       "                        <td id=\"T_eaf86b12_d2df_11ea_8f1f_e09d31573688row3_col0\" class=\"data row3 col0\" > </td>\n",
       "                        <td id=\"T_eaf86b12_d2df_11ea_8f1f_e09d31573688row3_col1\" class=\"data row3 col1\" >LR</td>\n",
       "                        <td id=\"T_eaf86b12_d2df_11ea_8f1f_e09d31573688row3_col2\" class=\"data row3 col2\" >6.1577</td>\n",
       "                        <td id=\"T_eaf86b12_d2df_11ea_8f1f_e09d31573688row3_col3\" class=\"data row3 col3\" > </td>\n",
       "                        <td id=\"T_eaf86b12_d2df_11ea_8f1f_e09d31573688row3_col4\" class=\"data row3 col4\" > </td>\n",
       "            </tr>\n",
       "            <tr>\n",
       "                        <th id=\"T_eaf86b12_d2df_11ea_8f1f_e09d31573688level0_row4\" class=\"row_heading level0 row4\" >4</th>\n",
       "                        <td id=\"T_eaf86b12_d2df_11ea_8f1f_e09d31573688row4_col0\" class=\"data row4 col0\" > </td>\n",
       "                        <td id=\"T_eaf86b12_d2df_11ea_8f1f_e09d31573688row4_col1\" class=\"data row4 col1\" >P-Value</td>\n",
       "                        <td id=\"T_eaf86b12_d2df_11ea_8f1f_e09d31573688row4_col2\" class=\"data row4 col2\" >0.0967</td>\n",
       "                        <td id=\"T_eaf86b12_d2df_11ea_8f1f_e09d31573688row4_col3\" class=\"data row4 col3\" > </td>\n",
       "                        <td id=\"T_eaf86b12_d2df_11ea_8f1f_e09d31573688row4_col4\" class=\"data row4 col4\" > </td>\n",
       "            </tr>\n",
       "    </tbody></table>"
      ],
      "text/plain": [
       "<pandas.io.formats.style.Styler at 0x7f35c7975090>"
      ]
     },
     "execution_count": 62,
     "metadata": {},
     "output_type": "execute_result"
    }
   ],
   "source": [
    "am.present_state()"
   ]
  },
  {
   "cell_type": "markdown",
   "metadata": {},
   "source": [
    "### Read montgomery"
   ]
  },
  {
   "cell_type": "code",
   "execution_count": 63,
   "metadata": {},
   "outputs": [],
   "source": [
    "am = Audit(\"minerva\", risk_limit)"
   ]
  },
  {
   "cell_type": "code",
   "execution_count": 64,
   "metadata": {},
   "outputs": [],
   "source": [
    "am.read_election_results(\"athena/test_data/2020_montgomery_formatted.json\")"
   ]
  },
  {
   "cell_type": "code",
   "execution_count": 65,
   "metadata": {},
   "outputs": [
    {
     "data": {
      "text/plain": [
       "['d_president',\n",
       " 'd_congress',\n",
       " 'd_senator',\n",
       " 'd_cc_1_2_2021',\n",
       " 'd_cc_1_3_2021',\n",
       " 'r_10th',\n",
       " 'r_senator',\n",
       " 'r_42nd',\n",
       " 'r_cc_1_2_2021']"
      ]
     },
     "execution_count": 65,
     "metadata": {},
     "output_type": "execute_result"
    }
   ],
   "source": [
    "am.contest_list"
   ]
  },
  {
   "cell_type": "code",
   "execution_count": 66,
   "metadata": {},
   "outputs": [],
   "source": [
    "am.load_contest('d_congress')"
   ]
  },
  {
   "cell_type": "code",
   "execution_count": 67,
   "metadata": {},
   "outputs": [],
   "source": [
    "am.set_observations(50, 50, [32,18])"
   ]
  },
  {
   "cell_type": "code",
   "execution_count": 68,
   "metadata": {},
   "outputs": [
    {
     "data": {
      "text/html": [
       "<style  type=\"text/css\" >\n",
       "    #T_ec2a2a8e_d2df_11ea_8f1f_e09d31573688row1_col0 {\n",
       "            color:  blue;\n",
       "        }    #T_ec2a2a8e_d2df_11ea_8f1f_e09d31573688row1_col1 {\n",
       "            color:  blue;\n",
       "        }    #T_ec2a2a8e_d2df_11ea_8f1f_e09d31573688row1_col2 {\n",
       "            color:  blue;\n",
       "        }    #T_ec2a2a8e_d2df_11ea_8f1f_e09d31573688row1_col3 {\n",
       "            color:  blue;\n",
       "        }    #T_ec2a2a8e_d2df_11ea_8f1f_e09d31573688row1_col4 {\n",
       "            color:  blue;\n",
       "        }</style><table id=\"T_ec2a2a8e_d2df_11ea_8f1f_e09d31573688\" ><thead>    <tr>        <th class=\"blank level0\" ></th>        <th class=\"col_heading level0 col0\" >Candidates</th>        <th class=\"col_heading level0 col1\" >Results</th>        <th class=\"col_heading level0 col2\" >Round 1</th>        <th class=\"col_heading level0 col3\" >Total</th>        <th class=\"col_heading level0 col4\" >Required</th>    </tr></thead><tbody>\n",
       "                <tr>\n",
       "                        <th id=\"T_ec2a2a8e_d2df_11ea_8f1f_e09d31573688level0_row0\" class=\"row_heading level0 row0\" >0</th>\n",
       "                        <td id=\"T_ec2a2a8e_d2df_11ea_8f1f_e09d31573688row0_col0\" class=\"data row0 col0\" >Moyer</td>\n",
       "                        <td id=\"T_ec2a2a8e_d2df_11ea_8f1f_e09d31573688row0_col1\" class=\"data row0 col1\" >9799</td>\n",
       "                        <td id=\"T_ec2a2a8e_d2df_11ea_8f1f_e09d31573688row0_col2\" class=\"data row0 col2\" >32</td>\n",
       "                        <td id=\"T_ec2a2a8e_d2df_11ea_8f1f_e09d31573688row0_col3\" class=\"data row0 col3\" >32</td>\n",
       "                        <td id=\"T_ec2a2a8e_d2df_11ea_8f1f_e09d31573688row0_col4\" class=\"data row0 col4\" > </td>\n",
       "            </tr>\n",
       "            <tr>\n",
       "                        <th id=\"T_ec2a2a8e_d2df_11ea_8f1f_e09d31573688level0_row1\" class=\"row_heading level0 row1\" >1</th>\n",
       "                        <td id=\"T_ec2a2a8e_d2df_11ea_8f1f_e09d31573688row1_col0\" class=\"data row1 col0\" >Tims</td>\n",
       "                        <td id=\"T_ec2a2a8e_d2df_11ea_8f1f_e09d31573688row1_col1\" class=\"data row1 col1\" >24178</td>\n",
       "                        <td id=\"T_ec2a2a8e_d2df_11ea_8f1f_e09d31573688row1_col2\" class=\"data row1 col2\" >18</td>\n",
       "                        <td id=\"T_ec2a2a8e_d2df_11ea_8f1f_e09d31573688row1_col3\" class=\"data row1 col3\" >18</td>\n",
       "                        <td id=\"T_ec2a2a8e_d2df_11ea_8f1f_e09d31573688row1_col4\" class=\"data row1 col4\" >31</td>\n",
       "            </tr>\n",
       "            <tr>\n",
       "                        <th id=\"T_ec2a2a8e_d2df_11ea_8f1f_e09d31573688level0_row2\" class=\"row_heading level0 row2\" >2</th>\n",
       "                        <td id=\"T_ec2a2a8e_d2df_11ea_8f1f_e09d31573688row2_col0\" class=\"data row2 col0\" > </td>\n",
       "                        <td id=\"T_ec2a2a8e_d2df_11ea_8f1f_e09d31573688row2_col1\" class=\"data row2 col1\" >Sum</td>\n",
       "                        <td id=\"T_ec2a2a8e_d2df_11ea_8f1f_e09d31573688row2_col2\" class=\"data row2 col2\" >50</td>\n",
       "                        <td id=\"T_ec2a2a8e_d2df_11ea_8f1f_e09d31573688row2_col3\" class=\"data row2 col3\" > </td>\n",
       "                        <td id=\"T_ec2a2a8e_d2df_11ea_8f1f_e09d31573688row2_col4\" class=\"data row2 col4\" > </td>\n",
       "            </tr>\n",
       "            <tr>\n",
       "                        <th id=\"T_ec2a2a8e_d2df_11ea_8f1f_e09d31573688level0_row3\" class=\"row_heading level0 row3\" >3</th>\n",
       "                        <td id=\"T_ec2a2a8e_d2df_11ea_8f1f_e09d31573688row3_col0\" class=\"data row3 col0\" > </td>\n",
       "                        <td id=\"T_ec2a2a8e_d2df_11ea_8f1f_e09d31573688row3_col1\" class=\"data row3 col1\" >LR</td>\n",
       "                        <td id=\"T_ec2a2a8e_d2df_11ea_8f1f_e09d31573688row3_col2\" class=\"data row3 col2\" >0.0000</td>\n",
       "                        <td id=\"T_ec2a2a8e_d2df_11ea_8f1f_e09d31573688row3_col3\" class=\"data row3 col3\" > </td>\n",
       "                        <td id=\"T_ec2a2a8e_d2df_11ea_8f1f_e09d31573688row3_col4\" class=\"data row3 col4\" > </td>\n",
       "            </tr>\n",
       "            <tr>\n",
       "                        <th id=\"T_ec2a2a8e_d2df_11ea_8f1f_e09d31573688level0_row4\" class=\"row_heading level0 row4\" >4</th>\n",
       "                        <td id=\"T_ec2a2a8e_d2df_11ea_8f1f_e09d31573688row4_col0\" class=\"data row4 col0\" > </td>\n",
       "                        <td id=\"T_ec2a2a8e_d2df_11ea_8f1f_e09d31573688row4_col1\" class=\"data row4 col1\" >P-Value</td>\n",
       "                        <td id=\"T_ec2a2a8e_d2df_11ea_8f1f_e09d31573688row4_col2\" class=\"data row4 col2\" >0.9836</td>\n",
       "                        <td id=\"T_ec2a2a8e_d2df_11ea_8f1f_e09d31573688row4_col3\" class=\"data row4 col3\" > </td>\n",
       "                        <td id=\"T_ec2a2a8e_d2df_11ea_8f1f_e09d31573688row4_col4\" class=\"data row4 col4\" > </td>\n",
       "            </tr>\n",
       "    </tbody></table>"
      ],
      "text/plain": [
       "<pandas.io.formats.style.Styler at 0x7f35c7974a90>"
      ]
     },
     "execution_count": 68,
     "metadata": {},
     "output_type": "execute_result"
    }
   ],
   "source": [
    "am.present_state()"
   ]
  }
 ],
 "metadata": {
  "kernelspec": {
   "display_name": "Python 3",
   "language": "python",
   "name": "python3"
  },
  "language_info": {
   "codemirror_mode": {
    "name": "ipython",
    "version": 3
   },
   "file_extension": ".py",
   "mimetype": "text/x-python",
   "name": "python",
   "nbconvert_exporter": "python",
   "pygments_lexer": "ipython3",
   "version": "3.7.4"
  },
  "toc": {
   "colors": {
    "hover_highlight": "#DAA520",
    "running_highlight": "#FF0000",
    "selected_highlight": "#FFD700"
   },
   "moveMenuLeft": true,
   "nav_menu": {
    "height": "138px",
    "width": "252px"
   },
   "navigate_menu": true,
   "number_sections": true,
   "sideBar": true,
   "threshold": 4,
   "toc_cell": false,
   "toc_section_display": "block",
   "toc_window_display": false,
   "widenNotebook": false
  }
 },
 "nbformat": 4,
 "nbformat_minor": 2
}
