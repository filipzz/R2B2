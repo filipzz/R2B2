{
 "cells": [
  {
   "cell_type": "code",
   "execution_count": 3,
   "metadata": {},
   "outputs": [],
   "source": [
    "import sys"
   ]
  },
  {
   "cell_type": "code",
   "execution_count": 4,
   "metadata": {},
   "outputs": [],
   "source": [
    "sys.path.insert(0, '..')"
   ]
  },
  {
   "cell_type": "code",
   "execution_count": 5,
   "metadata": {},
   "outputs": [
    {
     "ename": "ModuleNotFoundError",
     "evalue": "No module named 'sampler'",
     "output_type": "error",
     "traceback": [
      "\u001b[0;31m---------------------------------------------------------------------------\u001b[0m",
      "\u001b[0;31mModuleNotFoundError\u001b[0m                       Traceback (most recent call last)",
      "\u001b[0;32m<ipython-input-5-f638e326b7a4>\u001b[0m in \u001b[0;36m<module>\u001b[0;34m\u001b[0m\n\u001b[0;32m----> 1\u001b[0;31m \u001b[0;32mimport\u001b[0m \u001b[0msampler\u001b[0m\u001b[0;34m\u001b[0m\u001b[0;34m\u001b[0m\u001b[0m\n\u001b[0m",
      "\u001b[0;31mModuleNotFoundError\u001b[0m: No module named 'sampler'"
     ]
    }
   ],
   "source": [
    "import sampler"
   ]
  },
  {
   "cell_type": "code",
   "execution_count": 6,
   "metadata": {},
   "outputs": [
    {
     "data": {
      "text/plain": [
       "['..',\n",
       " '/srv/s/electionaudits/arlo/arlo/R2B2/code',\n",
       " '/home/neal/lib/python',\n",
       " '/home/neal/Envs/arlo-rw5E6N2O/lib/python37.zip',\n",
       " '/home/neal/Envs/arlo-rw5E6N2O/lib/python3.7',\n",
       " '/home/neal/Envs/arlo-rw5E6N2O/lib/python3.7/lib-dynload',\n",
       " '/home/neal/.pyenv/versions/3.7.4/lib/python3.7',\n",
       " '',\n",
       " '/home/neal/Envs/arlo-rw5E6N2O/lib/python3.7/site-packages',\n",
       " '/home/neal/Envs/arlo-rw5E6N2O/lib/python3.7/site-packages/IPython/extensions',\n",
       " '/home/neal/.ipython']"
      ]
     },
     "execution_count": 6,
     "metadata": {},
     "output_type": "execute_result"
    }
   ],
   "source": [
    "sys.path"
   ]
  },
  {
   "cell_type": "code",
   "execution_count": 1,
   "metadata": {},
   "outputs": [],
   "source": [
    "import schedule\n",
    "import math"
   ]
  },
  {
   "cell_type": "code",
   "execution_count": 2,
   "metadata": {},
   "outputs": [],
   "source": [
    "margin = .2\n",
    "ballots_cast = 1400\n",
    "winner = math.floor((1+margin)/2* ballots_cast)\n",
    "round_schedule = [19, 50, 120, 350] #[193, 332, 587, 974, 2155]#[301, 518, 916]#, 1520, 3366]\n",
    "risk_goal = [.024, .0479, .0718, .0862, .0948]\n",
    "alpha = .1\n",
    "model = \"bin\""
   ]
  },
  {
   "cell_type": "code",
   "execution_count": 3,
   "metadata": {},
   "outputs": [
    {
     "name": "stdout",
     "output_type": "stream",
     "text": [
      "Number of valid ballots: 1400\n",
      "(Declared) Votes for winner: 840\n",
      "Margin: 0.2\n",
      "Alpha:  0.1\n",
      "Model:  bin\n"
     ]
    }
   ],
   "source": [
    "schedule.print_election_info(ballots_cast, winner, margin, alpha, model)"
   ]
  },
  {
   "cell_type": "code",
   "execution_count": 4,
   "metadata": {
    "scrolled": true
   },
   "outputs": [
    {
     "name": "stdout",
     "output_type": "stream",
     "text": [
      "\tBRAVO risk: [0.000915527343750000, 0.0232391452769125, 0.0613127053441672, 0.0883307305219818]\n",
      "\tBRAVO pstop: [0.0100753328205988, 0.250280370921044, 0.665866755706639, 0.958737278999705]\n",
      "\tBRAVO kmins: [17, 34, 72, 199]\n",
      "\n",
      "\tSTARTING NEW ROUND 2\n",
      "\trisk spent up to:  1  round:  0.000364303588867188\n",
      "\n",
      "\tSTARTING NEW ROUND 3\n",
      "\trisk spent up to:  2  round:  0.0165961463808628\n",
      "\n",
      "\tSTARTING NEW ROUND 4\n",
      "\trisk spent up to:  3  round:  0.0506592890612391\n",
      "\n",
      "\tAURROR kmins:\t\t[17, 33, 70, 191]\n",
      "\tAURROR risk: [0.000364303588867188, 0.0165961463808628, 0.0506592890612391, 0.0853438027615082]\n"
     ]
    }
   ],
   "source": [
    "schedule.find_aurror_params_from_schedule(ballots_cast, winner, alpha, model, round_schedule)"
   ]
  },
  {
   "cell_type": "markdown",
   "metadata": {},
   "source": [
    "https://github.com/gwexploratoryaudits/brla_explore/blob/poorvi/R-SquareAudits/Tables/BRAVO%20and%20Proposed%20Audits%20Margin%20PointOne.pdf"
   ]
  },
  {
   "cell_type": "markdown",
   "metadata": {},
   "source": [
    "![AURROR-BRAVO comparison](aurror-bravo.png)"
   ]
  },
  {
   "cell_type": "code",
   "execution_count": 1,
   "metadata": {},
   "outputs": [],
   "source": [
    "import risk\n",
    "import rla"
   ]
  },
  {
   "cell_type": "code",
   "execution_count": 2,
   "metadata": {},
   "outputs": [
    {
     "data": {
      "text/plain": [
       "13"
      ]
     },
     "execution_count": 2,
     "metadata": {},
     "output_type": "execute_result"
    }
   ],
   "source": [
    "rla.bravo_kmin(100, 60, .1, 13)"
   ]
  }
 ],
 "metadata": {
  "kernelspec": {
   "display_name": "Python 3",
   "language": "python",
   "name": "python3"
  },
  "language_info": {
   "codemirror_mode": {
    "name": "ipython",
    "version": 3
   },
   "file_extension": ".py",
   "mimetype": "text/x-python",
   "name": "python",
   "nbconvert_exporter": "python",
   "pygments_lexer": "ipython3",
   "version": "3.7.4"
  },
  "toc": {
   "colors": {
    "hover_highlight": "#DAA520",
    "running_highlight": "#FF0000",
    "selected_highlight": "#FFD700"
   },
   "moveMenuLeft": true,
   "nav_menu": {
    "height": "12px",
    "width": "252px"
   },
   "navigate_menu": true,
   "number_sections": true,
   "sideBar": true,
   "threshold": 4,
   "toc_cell": false,
   "toc_section_display": "block",
   "toc_window_display": false,
   "widenNotebook": false
  }
 },
 "nbformat": 4,
 "nbformat_minor": 2
}
